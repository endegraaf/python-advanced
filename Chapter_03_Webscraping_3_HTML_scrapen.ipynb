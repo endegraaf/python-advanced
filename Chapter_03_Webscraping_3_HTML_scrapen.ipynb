{
 "cells": [
  {
   "cell_type": "markdown",
   "id": "05579cb0-ff67-4c97-aa46-7dd29dfa9ca3",
   "metadata": {},
   "source": [
    "# Webscrapen van HTML"
   ]
  },
  {
   "cell_type": "markdown",
   "id": "134d148c-4ce3-44bd-88ab-bbdf57e544f1",
   "metadata": {},
   "source": [
    "HTML (HyperTextMarkupLanguage) is de opmaak van een webpagina.  \n",
    "De HTML kan dynamisch worden opgemaakt met (bijvoorbeeld) Javascipt code.  \n",
    "Maar HTML paginas kunnen ook statisch zijn.  \n",
    "Een statische pagina moet ververst worden om nieuwe data te zien.  \n",
    "\n",
    "De server die de paginas naar de client stuurt moet wel weten wat het moet doen browser (_client_) een pagina opvraagt.  \n",
    "Als dit niet via JSON of speciale headers gebeurd dan wordt het commando beschreven in de URL zelf.  \n",
    "Dit gebeurd doormiddel van een query.  \n",
    "\n",
    "Een query is de gedeelte in een URL na de `?`.  \n",
    "De query bestaat uit een key en optioneel een value.  \n",
    "Key en value worden aan elkaar gekoppeld doormiddel van een `=`.  \n",
    "Er kunnen ook meerdere queries in een url als de queries gesepereerd worden door een `&`.  \n",
    "De keys en values hoeven niet uniek te zijn.  \n",
    "\n",
    "Voorbeeld van een valide URL:  \n",
    "`https://www.web.site/path.html?key=value&key=value&only_key`\n",
    "\n",
    "De query kan handmatig veranderd worden om de website te manipuleren.  \n",
    "Zo kan er data worden opgevraagd die normaal niet aanwezig is op de webpagina.  "
   ]
  },
  {
   "cell_type": "markdown",
   "id": "6a76fa24-5ea2-421f-8407-2e2408096845",
   "metadata": {
    "tags": []
   },
   "source": [
    "Open een browser en de Developer Tools.  \n",
    "Navigeer naar de demo pagina https://computer-database.gatling.io/computers  \n",
    "Dit is een demo website van [Gatling] en gebruikt URL queries.  \n",
    "\n",
    "[Gatling]: https://gatling.io/\n",
    "\n",
    ">![computer database home page url](./img/computerdatabase_url_home_page.png)\n",
    "\n",
    "Als we de URL bekijken zien we vrij weinig wat te manipuleren is maar dit is meestal het geval met een homepage.  \n",
    "Dit kan al snel veranderen als we op de `next` knop klikken die aanwezig is in de pagina.  "
   ]
  },
  {
   "cell_type": "markdown",
   "id": "cf82dca5-e1ce-462c-9550-92cd081c3b1e",
   "metadata": {},
   "source": [
    "> ![computer database next page url](./img/computerdatabase_url_next_page.png)\n",
    "\n",
    "Nu heeft de browser een pagina met een andere inhoud.  \n",
    "Ook is de URL verandered, de URL heeft een _query_."
   ]
  },
  {
   "cell_type": "markdown",
   "id": "76837fd5-89b6-4ca2-af4d-802969337d85",
   "metadata": {
    "tags": []
   },
   "source": [
    "In de developer tools open kan er worden gezien dat er een GET request is geweest.  \n",
    "Ook kan de _parameters_ van de query worden ingezien.\n",
    "\n",
    "> ![query string params](./img/devtools_query_params.png \"Query String Parameters\")"
   ]
  },
  {
   "cell_type": "markdown",
   "id": "a25902ac-c8ec-47f4-8e6f-2586dc0c266a",
   "metadata": {
    "tags": []
   },
   "source": [
    "Met wat giswerk kan er worden bedacht wat de query bevat.\n",
    "\n",
    "`p=0` de key `p` en de value als cijfer moet waarschijnlijk de pagina voorstellen.  \n",
    "`n=10` de key `n` is hoogstwaarschijnlijk het aantal items in de [table] op de pagina.  \n",
    "`s=name` de table is gesorteerd op naam, dus `s` is voor _sort_.  \n",
    "`d=asc` moet dan voor de manier van sorteren zijn, `asc` staat voor _ascending_.\n",
    "\n",
    "[table]: https://developer.mozilla.org/en-US/docs/Learn/HTML/Tables/Basics"
   ]
  },
  {
   "cell_type": "markdown",
   "id": "baa43fa2-51fd-4f78-bf85-9ff57c77a86d",
   "metadata": {},
   "source": [
    "Met deze kennis kan er een query gemaakt worden voor een tabel met meer dan 10 regels.  \n",
    "Zo hoeft er minder op de `next` knop gedrukt worden om de database van de website te scrapen. \n",
    "\n",
    "https://computer-database.gatling.io/computers?p=0&n=100&s=name&d=desc  \n",
    "Als deze URL wordt bezocht kan er een tabel worden gezien met 100 entries."
   ]
  },
  {
   "cell_type": "markdown",
   "id": "4f74c5eb-5d11-41d8-9961-209b32b1b8fd",
   "metadata": {},
   "source": [
    "---"
   ]
  },
  {
   "cell_type": "markdown",
   "id": "70f4521d-052e-4419-bbab-975c2829fda1",
   "metadata": {},
   "source": [
    "# HTML pagina scrapen met Python\n",
    "\n",
    "Nu de API van de website is gevonden kan deze zelfde data worden opgevraagd via Python.  \n",
    "Dit kan worden gedaan met de third-party library: [requests].  \n",
    "De HTML die requests terug geeft kan worden geparsed met [beautifulsoup4].  \n",
    "\n",
    "De libraries moet geinstalleerd worden met `pip`  \n",
    "\n",
    "[requests]: https://docs.python-requests.org/en/master/index.html\n",
    "[beautifulsoup4]: https://www.crummy.com/software/BeautifulSoup/"
   ]
  },
  {
   "cell_type": "code",
   "execution_count": 1,
   "id": "f4045f99-6bd0-4ff3-8f10-975b131497dc",
   "metadata": {
    "tags": []
   },
   "outputs": [
    {
     "name": "stdout",
     "output_type": "stream",
     "text": [
      "Requirement already satisfied: pip in /.../site-packages (21.3.1)\n",
      "Requirement already satisfied: requests in /.../site-packages (2.26.0)\n",
      "Requirement already satisfied: beautifulsoup4 in /.../site-packages (4.10.0)\n",
      "Requirement already satisfied: certifi>=2017.4.17 in /.../site-packages (from requests) (2021.10.8)\n",
      "Requirement already satisfied: charset-normalizer~=2.0.0 in /.../site-packages (from requests) (2.0.7)\n",
      "Requirement already satisfied: urllib3<1.27,>=1.21.1 in /.../site-packages (from requests) (1.26.7)\n",
      "Requirement already satisfied: idna<4,>=2.5 in /.../site-packages (from requests) (3.3)\n",
      "Requirement already satisfied: soupsieve>1.2 in /.../site-packages (from beautifulsoup4) (2.2.1)\n"
     ]
    }
   ],
   "source": [
    "!python -m pip install --upgrade pip requests beautifulsoup4"
   ]
  },
  {
   "cell_type": "markdown",
   "id": "b2715fc7-d4d6-4d8f-8b46-26591a95502e",
   "metadata": {},
   "source": [
    "Importeer `requests` en de _class_ `BeautifulSoup` uit de module `bs4`  \n",
    "De functie `urlencode` uit de `urllib.parse` library helpt ons de queries creeeren."
   ]
  },
  {
   "cell_type": "code",
   "execution_count": 2,
   "id": "2d663bcf-84d5-4879-a89c-16697a8544ac",
   "metadata": {},
   "outputs": [],
   "source": [
    "from urllib.parse import urlencode\n",
    "\n",
    "import requests\n",
    "from bs4 import BeautifulSoup"
   ]
  },
  {
   "cell_type": "code",
   "execution_count": 3,
   "id": "cce46702-cb5d-4ac5-9677-420cbd51e658",
   "metadata": {
    "collapsed": false,
    "jupyter": {
     "outputs_hidden": false
    },
    "pycharm": {
     "name": "#%%\n"
    }
   },
   "outputs": [
    {
     "data": {
      "text/plain": [
       "'https://computer-database.gatling.io/computers?p=0&n=100'"
      ]
     },
     "execution_count": 3,
     "metadata": {},
     "output_type": "execute_result"
    }
   ],
   "source": [
    "base_url = 'https://computer-database.gatling.io/computers?'\n",
    "\n",
    "query  = {\"p\": 0, \"n\": 100}\n",
    "url_query = urlencode(query)\n",
    "url = base_url + url_query\n",
    "url"
   ]
  },
  {
   "cell_type": "markdown",
   "id": "37bcccf6-5567-46b6-8cd3-a79ca4418ac5",
   "metadata": {
    "tags": []
   },
   "source": [
    "De URL is gecreeerd en kan dus worden opgevraagd door requests.  \n",
    "Het attribute `content` van het object `response` is de HTML data in `bytes`.  \n",
    "Deze HTML data geven we door aan `BeautifulSoup`.  \n",
    "Deze _class_ parsed de data zodat er gemakkelijker elementen van de pagina kan worden opgevraagd.  "
   ]
  },
  {
   "cell_type": "code",
   "execution_count": 4,
   "id": "00fafda2-8ad0-4727-b23f-5b8052769bab",
   "metadata": {},
   "outputs": [
    {
     "data": {
      "text/plain": [
       "<title>Computers database</title>"
      ]
     },
     "execution_count": 4,
     "metadata": {},
     "output_type": "execute_result"
    }
   ],
   "source": [
    "response = requests.get(url)\n",
    "soup = BeautifulSoup(response.content, 'html.parser')\n",
    "\n",
    "# vraag de title Tag op van de HTML data\n",
    "soup.title"
   ]
  },
  {
   "cell_type": "markdown",
   "id": "0a01bfb4-aa95-45e1-ae16-0fbf2e88c7b2",
   "metadata": {},
   "source": [
    "De website laat zien dat er een table op de pagina aanwezig is.  \n",
    "De data uit deze table halen is het doel."
   ]
  },
  {
   "cell_type": "code",
   "execution_count": 5,
   "id": "4a2ab8da-1d1d-4752-8e3f-a317b40dd55b",
   "metadata": {
    "tags": []
   },
   "outputs": [],
   "source": [
    "from IPython import display\n",
    "\n",
    "table = soup.table\n",
    "# display.HTML(str(table))  # uncomment om de table te laten zien in de output"
   ]
  },
  {
   "cell_type": "markdown",
   "id": "167ffa1a-27ce-4bf7-bb9b-daf0d637f982",
   "metadata": {},
   "source": [
    "Met een [list-comprehension] kan er  over de `<th>` tags geitereerd worden en zo uit elke Tag de text filteren.  \n",
    "Een list-comprehension is een loop in een data container zoals een `list`.  \n",
    "De loop itereert en plaatst te objecten in een nieuwe data-container.  \n",
    "list-comprehensions zijn efficient en flexibel.\n",
    "\n",
    "[list-comprehension]: https://docs.python.org/3/tutorial/datastructures.html#list-comprehensions"
   ]
  },
  {
   "cell_type": "code",
   "execution_count": 6,
   "id": "25bdcdf1-8007-429d-a4ba-25ce8bb6119d",
   "metadata": {},
   "outputs": [
    {
     "data": {
      "text/plain": [
       "['Computer name', 'Introduced', 'Discontinued', 'Company']"
      ]
     },
     "execution_count": 6,
     "metadata": {},
     "output_type": "execute_result"
    }
   ],
   "source": [
    "headers = [h.get_text() for h in table.thead.find_all('th')]\n",
    "headers  # list met str objecten"
   ]
  },
  {
   "cell_type": "markdown",
   "id": "21afd1f9-710a-45d3-809c-efb10370134f",
   "metadata": {},
   "source": [
    "Nu er een lijst met headers is is er een indicatie welke cel wat voor data bevat.  \n",
    "De headers kan gebruikt worden als _key_ in een dict.  \n",
    "De cellen in de regels zijn dan de _values_.  \n",
    "\n"
   ]
  },
  {
   "cell_type": "code",
   "execution_count": 7,
   "id": "dba29eb7-4fce-4c33-b6f8-be67b0f63fdd",
   "metadata": {},
   "outputs": [
    {
     "data": {
      "text/plain": [
       "[<tr><td><a href=\"/computers/381\">ACE</a></td><td>-</td><td>-</td><td>-</td></tr>,\n",
       " <tr><td><a href=\"/computers/501\">AN/FSQ-32</a></td><td>01 Jan 1960</td><td>-</td><td>IBM</td></tr>,\n",
       " <tr><td><a href=\"/computers/500\">AN/FSQ-7</a></td><td>01 Jan 1958</td><td>-</td><td>IBM</td></tr>,\n",
       " <tr><td><a href=\"/computers/388\">APEXC</a></td><td>-</td><td>-</td><td>-</td></tr>,\n",
       " <tr><td><a href=\"/computers/355\">ARRA</a></td><td>-</td><td>-</td><td>-</td></tr>]"
      ]
     },
     "execution_count": 7,
     "metadata": {},
     "output_type": "execute_result"
    }
   ],
   "source": [
    "rows = table.tbody.find_all('tr')\n",
    "\n",
    "# laat de eerste 5 regels zien van het tabel\n",
    "rows[0:5]  # list met bs4.element.Tag objecten"
   ]
  },
  {
   "cell_type": "markdown",
   "id": "bf590ae1-cdc7-472c-b856-2799a24b7fe1",
   "metadata": {},
   "source": [
    "De headers en zijn de regels geparsed uit de table van de website.  \n",
    "Nu kan deze data in een CSV file of JSON gezet worden.\n",
    "\n",
    "Hieronder een voorbeeld hoe er een JSON van de data gemaakt kan worden."
   ]
  },
  {
   "cell_type": "code",
   "execution_count": 8,
   "id": "b48e0cbe-0941-45ee-a607-1905f3e3ecf0",
   "metadata": {},
   "outputs": [],
   "source": [
    "import json\n",
    "\n",
    "row_list = []\n",
    "\n",
    "for row in rows:\n",
    "    row_text = [r.get_text() for r in row]  # list comprehension om een list met text te maken\n",
    "    # dict-zip\n",
    "    header_row_dict = dict(zip(headers, row_text))\n",
    "    row_list.append(header_row_dict)\n",
    "\n",
    "\n",
    "# creeer de json\n",
    "json_payload = json.dumps({'rows': row_list}, indent=2)\n",
    "\n",
    "# print(json_payload)"
   ]
  },
  {
   "cell_type": "markdown",
   "id": "07b3031a-5c3b-4d48-affe-de7f9a1ee4e9",
   "metadata": {},
   "source": [
    "Hieronder een voorbeeld hoe de er een CSV file met de data gemaakt kan worden."
   ]
  },
  {
   "cell_type": "code",
   "execution_count": 9,
   "id": "deec48c0-8858-4e92-a554-79a8cadedd22",
   "metadata": {},
   "outputs": [],
   "source": [
    "import csv\n",
    "\n",
    "filename = 'computer_database.txt'\n",
    "\n",
    "# `with` context manager\n",
    "with open(filename, 'w', newline='') as csvfile:\n",
    "    writer = csv.writer(csvfile)\n",
    "    \n",
    "    writer.writerow(headers)  # schrijf de header regel (fieldnames)\n",
    "    for row in rows:\n",
    "        row_text = [r.get_text() for r in row]\n",
    "        writer.writerow(row_text)  # schrijf de regels\n",
    "        \n",
    "# print(open(filename, 'r').read())"
   ]
  },
  {
   "cell_type": "code",
   "execution_count": null,
   "id": "93f0a5ef-0144-42eb-ab99-0ceb33383f81",
   "metadata": {},
   "outputs": [],
   "source": []
  }
 ],
 "metadata": {
  "kernelspec": {
   "display_name": "Python 3 (ipykernel)",
   "language": "python",
   "name": "python3"
  },
  "language_info": {
   "codemirror_mode": {
    "name": "ipython",
    "version": 3
   },
   "file_extension": ".py",
   "mimetype": "text/x-python",
   "name": "python",
   "nbconvert_exporter": "python",
   "pygments_lexer": "ipython3",
   "version": "3.9.7"
  }
 },
 "nbformat": 4,
 "nbformat_minor": 5
}
