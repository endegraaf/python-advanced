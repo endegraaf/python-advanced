{
 "cells": [
  {
   "cell_type": "markdown",
   "id": "cfe6ed68-eca1-46d7-9665-3a5f86f5d3a5",
   "metadata": {},
   "source": [
    "# Webscraping met Selenium"
   ]
  },
  {
   "cell_type": "markdown",
   "id": "777fcb9f-67f4-42b7-9f7b-e0e81bb122be",
   "metadata": {},
   "source": [
    "Scrapen met [Selenium] is niet de meest betrouwbare manier van webscraping.  \n",
    "Maar sommige websites hebben (veel) Javascript of [iframe] HTML elementen en/of laden dynamisch nieuwe elementen waardoor de data moeilijk te scrapen is met andere technieken.  \n",
    "Het is dan toch mogenlijk om de website te scrapen met Selenium.  \n",
    "Selenium gebruikt de [Javascript Engine] die met de browser komt om pagina's te laden zoals deze normaal ook te zien zijn.  \n",
    "\n",
    "[Selenium]: https://pypi.org/project/selenium/\n",
    "[iframe]: https://www.w3docs.com/learn-html/html-iframe-tag.html\n",
    "[Javascript Engine]: https://en.wikipedia.org/wiki/JavaScript_engine"
   ]
  },
  {
   "cell_type": "markdown",
   "id": "2f1b0da6-f86b-49aa-8592-015742f387dd",
   "metadata": {},
   "source": [
    "\n",
    "De browser wordt bestuurd door [selenium] doormiddel van een webdriver.  \n",
    "Selenium kan niet gelijk een browser gebruiken, hiervoor moet een webdriver gedownloaded worden.  \n",
    "De package [webdriver_manager] kan de laatste versie van de webdriver downloaden.  \n",
    "De HTML die op de website te zien is kan worden geparsed met [beautifulsoup4].  \n",
    "\n",
    "De libraries moet geinstalleerd worden met `pip`  \n",
    "\n",
    "[selenium]: https://pypi.org/project/selenium/\n",
    "[beautifulsoup4]: https://www.crummy.com/software/BeautifulSoup/\n",
    "[webdriver_manager]: https://pypi.org/project/webdriver-manager/ "
   ]
  },
  {
   "cell_type": "code",
   "execution_count": 1,
   "id": "5313eb1a-b2e6-4025-9cc6-483f82bba498",
   "metadata": {
    "collapsed": true,
    "jupyter": {
     "outputs_hidden": true
    },
    "tags": []
   },
   "outputs": [
    {
     "name": "stdout",
     "output_type": "stream",
     "text": [
      "Requirement already satisfied: pip in /.../site-packages (21.3.1)\n",
      "Requirement already satisfied: selenium in /.../site-packages (4.0.0)\n",
      "Requirement already satisfied: webdriver-manager in /.../site-packages (3.5.1)\n",
      "Requirement already satisfied: beautifulsoup4 in /.../site-packages (4.10.0)\n",
      "Requirement already satisfied: urllib3[secure]~=1.26 in /.../site-packages (from selenium) (1.26.7)\n",
      "Requirement already satisfied: trio~=0.17 in /.../site-packages (from selenium) (0.19.0)\n",
      "Requirement already satisfied: trio-websocket~=0.9 in /.../site-packages (from selenium) (0.9.2)\n",
      "Requirement already satisfied: configparser in /.../site-packages (from webdriver-manager) (5.0.2)\n",
      "Requirement already satisfied: requests in /.../site-packages (from webdriver-manager) (2.26.0)\n",
      "Requirement already satisfied: crayons in /.../site-packages (from webdriver-manager) (0.4.0)\n",
      "Requirement already satisfied: soupsieve>1.2 in /.../site-packages (from beautifulsoup4) (2.2.1)\n",
      "Requirement already satisfied: sortedcontainers in /.../site-packages (from trio~=0.17->selenium) (2.4.0)\n",
      "Requirement already satisfied: async-generator>=1.9 in /.../site-packages (from trio~=0.17->selenium) (1.10)\n",
      "Requirement already satisfied: idna in /.../site-packages (from trio~=0.17->selenium) (3.3)\n",
      "Requirement already satisfied: outcome in /.../site-packages (from trio~=0.17->selenium) (1.1.0)\n",
      "Requirement already satisfied: attrs>=19.2.0 in /.../site-packages (from trio~=0.17->selenium) (21.2.0)\n",
      "Requirement already satisfied: sniffio in /.../site-packages (from trio~=0.17->selenium) (1.2.0)\n",
      "Requirement already satisfied: wsproto>=0.14 in /.../site-packages (from trio-websocket~=0.9->selenium) (1.0.0)\n",
      "Requirement already satisfied: certifi in /.../site-packages (from urllib3[secure]~=1.26->selenium) (2021.10.8)\n",
      "Requirement already satisfied: pyOpenSSL>=0.14 in /.../site-packages (from urllib3[secure]~=1.26->selenium) (21.0.0)\n",
      "Requirement already satisfied: cryptography>=1.3.4 in /.../site-packages (from urllib3[secure]~=1.26->selenium) (35.0.0)\n",
      "Requirement already satisfied: colorama in /.../site-packages (from crayons->webdriver-manager) (0.4.4)\n",
      "Requirement already satisfied: charset-normalizer~=2.0.0 in /.../site-packages (from requests->webdriver-manager) (2.0.7)\n",
      "Requirement already satisfied: cffi>=1.12 in /.../site-packages (from cryptography>=1.3.4->urllib3[secure]~=1.26->selenium) (1.15.0)\n",
      "Requirement already satisfied: six>=1.5.2 in /.../site-packages (from pyOpenSSL>=0.14->urllib3[secure]~=1.26->selenium) (1.16.0)\n",
      "Requirement already satisfied: h11<1,>=0.9.0 in /.../site-packages (from wsproto>=0.14->trio-websocket~=0.9->selenium) (0.12.0)\n",
      "Requirement already satisfied: pycparser in /.../site-packages (from cffi>=1.12->cryptography>=1.3.4->urllib3[secure]~=1.26->selenium) (2.20)\n"
     ]
    }
   ],
   "source": [
    "!python -m pip install --upgrade pip selenium webdriver-manager beautifulsoup4"
   ]
  },
  {
   "cell_type": "markdown",
   "id": "75f257fe-6b8c-4ca4-9a79-545ad1bc71c0",
   "metadata": {
    "tags": []
   },
   "source": [
    "### De te scrapen website\n",
    "\n",
    "https://sroze.github.io/ngInfiniteScroll/demo_async.html is een demo website voor een [infinite scroll] Javascript module die werkt met het webapplicatieframework [AngularJS].  \n",
    "De website gebruikt de [Reddit API] om tot en met 1000 artikelen te laden als de einde van de pagina wordt bereikt.  \n",
    "Het ophalen van de artikelen wordt gedaan op een dynamische manier.  \n",
    "\n",
    "In de notebook cells hieronder open we de demo website en gebruiken we Selenium (met een beetje Javascript) om te scrollen.  \n",
    "Het doel is om de artikelen die op de pagina geladen worden te scrapen en in CSV-file op te slaan.\n",
    "\n",
    "[infinite scroll]: https://github.com/sroze/ngInfiniteScroll\n",
    "[AngularJS]: https://angularjs.org/\n",
    "[Reddit API]: https://www.reddit.com/dev/api"
   ]
  },
  {
   "cell_type": "code",
   "execution_count": 2,
   "id": "1b17ef40-baff-47c2-8e15-502d97b177af",
   "metadata": {},
   "outputs": [],
   "source": [
    "from bs4 import BeautifulSoup\n",
    "\n",
    "from selenium import webdriver\n",
    "from selenium.webdriver.common.by import By\n",
    "from selenium.webdriver.remote.webdriver import WebDriver\n",
    "from selenium.webdriver.remote.webelement import WebElement\n",
    "\n",
    "from webdriver_manager.chrome import ChromeDriverManager\n",
    "from webdriver_manager.utils import ChromeType"
   ]
  },
  {
   "cell_type": "markdown",
   "id": "0ef69ce6-f95d-411a-a3da-d6a32ddfb9f4",
   "metadata": {},
   "source": [
    "Kies je eigen browser hier"
   ]
  },
  {
   "cell_type": "code",
   "execution_count": 3,
   "id": "7ade1b43-b89d-4568-a090-dbd8e8024ff0",
   "metadata": {},
   "outputs": [
    {
     "name": "stderr",
     "output_type": "stream",
     "text": [
      "[WDM] - \n",
      "\n",
      "[WDM] - ====== WebDriver manager ======\n",
      "[WDM] - Current chromium version is 94.0.4606\n",
      "[WDM] - Get LATEST driver version for 94.0.4606\n",
      "[WDM] - Driver [/home/username/.wdm/drivers/chromedriver/linux64/94.0.4606.61/chromedriver] found in cache\n",
      "/tmp/ipykernel_110888/3123115691.py:2: DeprecationWarning: executable_path has been deprecated, please pass in a Service object\n",
      "  driver = webdriver.Chrome(ChromeDriverManager(chrome_type=ChromeType.CHROMIUM).install())  # chromium\n"
     ]
    }
   ],
   "source": [
    "driver = webdriver.Chrome(service=Service(ChromeDriverManager().install()))  # chrome\n",
    "# driver = webdriver.Chrome(ChromeDriverManager(chrome_type=ChromeType.CHROMIUM).install())  # chromium\n",
    "# driver = webdriver.Firefox(service=Service(executable_path=GeckoDriverManager().install()))  # firefox"
   ]
  },
  {
   "cell_type": "markdown",
   "id": "8d4a7318-806d-4ddb-b01d-5d061993a29f",
   "metadata": {},
   "source": [
    "Maak de browser fullscreen"
   ]
  },
  {
   "cell_type": "code",
   "execution_count": 4,
   "id": "695fe4fe-00fb-40ef-853b-6aa3703392a9",
   "metadata": {},
   "outputs": [],
   "source": [
    "driver.maximize_window()"
   ]
  },
  {
   "cell_type": "markdown",
   "id": "86260497-ebfd-4510-b3ca-bb84e0fbe218",
   "metadata": {},
   "source": [
    "Er browser die geopend is bij het aanroepen van de `webdriver`.   \n",
    "Deze browser wordt nu gecommandeerd door Python via het `driver` object.  \n",
    "\n",
    "Selenium heeft geen commando om de browser te scrollen maar Javascript wel.  \n",
    "Selenium kan javascript injecteren in de browser die gestart is door Selenium.\n",
    "\n",
    "Hieronder een functie die de viewport van de browser naar beneden laat scrollen.  "
   ]
  },
  {
   "cell_type": "code",
   "execution_count": 5,
   "id": "61801221-32c0-4c9f-b5af-3e9882da247f",
   "metadata": {},
   "outputs": [],
   "source": [
    "def scroll_to_end(driver: WebDriver):\n",
    "    \"\"\"use javascript to scroll to the bottom of the website\"\"\"\n",
    "    code = 'window.scrollTo(0, document.body.scrollHeight)'\n",
    "    driver.execute_script(code)"
   ]
  },
  {
   "cell_type": "markdown",
   "id": "0d6995c8-d460-4bb2-90ed-3cdca817d3db",
   "metadata": {},
   "source": [
    "Door een URL te geven aan het `get` functie van het `webdriver` object wordt er een webpagina geopend in de browser.  "
   ]
  },
  {
   "cell_type": "code",
   "execution_count": 6,
   "id": "476d167d-5079-482d-90c6-ef21a6da915b",
   "metadata": {},
   "outputs": [],
   "source": [
    "url = 'https://sroze.github.io/ngInfiniteScroll/demo_async.html'\n",
    "driver.get(url)"
   ]
  },
  {
   "cell_type": "markdown",
   "id": "9ccd5851-cef5-49b7-b98a-5924e5feb27f",
   "metadata": {},
   "source": [
    "De `driver` heeft de browser de url laten openen.  \n",
    "Nu kan de scroll functie geprobeerd worden."
   ]
  },
  {
   "cell_type": "code",
   "execution_count": 7,
   "id": "e5ee2e4d-f751-43e9-b467-7fc925e4385d",
   "metadata": {},
   "outputs": [],
   "source": [
    "scroll_to_end(driver)"
   ]
  },
  {
   "cell_type": "markdown",
   "id": "75bc6dda-30b9-4baa-a780-7ed88871f1e3",
   "metadata": {},
   "source": [
    "In de Developer Tools onder de tab `Elements` kan er een [XPath] worden gemaakt om een pad naar `WebElement` te maken.  \n",
    "De input om dit te doen wordt met de toetsencombinatie `Ctrl + F` geactiveerd.  \n",
    "Ook is het mogenlijk om een XPath naar een element te copieren in de Developer Tools.  \n",
    "Dit door met een rechter muisklik op het element en dan in het optie menu Copy > XPath te kiezen.  \n",
    "\n",
    "Met de functie `find_elements` _(elements meervoud)_ wordt alle webelementen opgevraagd die dat XPath hebben.\n",
    "\n",
    "[XPath]: https://nl.wikipedia.org/wiki/XPath"
   ]
  },
  {
   "cell_type": "code",
   "execution_count": 8,
   "id": "ef44bce9-8d4e-46b0-8fc1-fb82d5b40607",
   "metadata": {
    "tags": []
   },
   "outputs": [
    {
     "data": {
      "text/plain": [
       "<selenium.webdriver.remote.webelement.WebElement (session=\"d92b9f65c89a4f03edea2bd351294fe4\", element=\"cce0903c-10bf-4486-b99f-8f499a616fb6\")>"
      ]
     },
     "execution_count": 8,
     "metadata": {},
     "output_type": "execute_result"
    }
   ],
   "source": [
    "# xpath naar een reddit artikel op de pagina\n",
    "xpath_item = \"//div[@class='demo-container']/div[contains(@class, 'item')]\"\n",
    "\n",
    "items = None\n",
    "while not items:\n",
    "    # laden van de pagina kan lang duren dus loop totdat er items zijn gevonden.\n",
    "    items = driver.find_elements(By.XPATH, xpath_item)\n",
    "    \n",
    "items[0]  # check het eerste object in de lijst met WebElements"
   ]
  },
  {
   "cell_type": "markdown",
   "id": "22f7e8ab-196a-4dcc-aabb-d3d4006d7cbb",
   "metadata": {},
   "source": [
    "Zoals hieboven in the output is te zien heeft het `WebElement` een *sessie* en een *element*.  \n",
    "De sessie is de instantie van de `WebDriver` die de browser bestuurd.  \n",
    "Het element is een UUID (Universally Unique IDentifier).  \n",
    "\n",
    "Een `WebElement`  is een object dat wijst naar het HTML [element] wat de `WebDriver` op de huidige site heeft gezien.  \n",
    "Het `WebElement` object houdt geen data vast.  \n",
    "Alle atributen en methodes van een `WebElement` sturen een commando op naar de `WebDriver`.  \n",
    "De `WebDriver` zoekt dan het `WebElement` op en stuurt data terug wat opgevraagd is.\n",
    "\n",
    "Als een `WebElement` vervalt of is veranderd dan is deze \"*Stale*\"  \n",
    "Wordt er dan een methode of attribute van het `WebElement` gebruikt, dan zal er een [StaleElementReferenceException] ge-raised worden.  \n",
    "\n",
    "[UUID]: https://docs.python.org/3/library/uuid.html\n",
    "[element]: https://nl.wikipedia.org/wiki/Lijst_van_HTML-elementen\n",
    "[StaleElementReferenceException]: https://www.selenium.dev/selenium/docs/api/py/common/selenium.common.exceptions.html#selenium.common.exceptions.StaleElementReferenceException"
   ]
  },
  {
   "cell_type": "code",
   "execution_count": 9,
   "id": "49bf678a-abd3-4d56-87e1-015dc2d9c78e",
   "metadata": {},
   "outputs": [
    {
     "name": "stdout",
     "output_type": "stream",
     "text": [
      "driver sessie ID: d92b9f65c89a4f03edea2bd351294fe4\n",
      "type: <class 'selenium.webdriver.remote.webelement.WebElement'>\n",
      "repr: <selenium.webdriver.remote.webelement.WebElement (session=\"d92b9f65c89a4f03edea2bd351294fe4\", element=\"cce0903c-10bf-4486-b99f-8f499a616fb6\")>\n"
     ]
    }
   ],
   "source": [
    "print(f\"driver sessie ID: {driver.session_id}\")\n",
    "\n",
    "# print de type van het eerste object in de list: items.\n",
    "print(f\"type: {type(items[0])}\")\n",
    "print(f\"repr: {repr(items[0])}\")\n",
    "\n",
    "# print alle te gebruiken methodes & attributen\n",
    "# print(*[_ for _ in dir(items[0]) if not _.startswith('_')], sep='\\n')"
   ]
  },
  {
   "cell_type": "markdown",
   "id": "03957ac9-12c0-45b4-b139-418645eb5ad8",
   "metadata": {},
   "source": [
    "Hieronder is er een functie gemaakt die de `WebElement` als argument verwacht.  \n",
    "Met `BeautifulSoup` wordt dan de HTML geparsed om alle data te verkrijgen.  \n",
    "De data wordt opgevraagd, opgeschoond en direct in een `dict` geplaatst.  \n",
    "De `dict` met data wordt na het voltooien van de functie teruggegeven door de functie.  "
   ]
  },
  {
   "cell_type": "code",
   "execution_count": 10,
   "id": "c0688af7-1585-414a-bb90-c592e3a7bc93",
   "metadata": {
    "tags": []
   },
   "outputs": [],
   "source": [
    "def get_data(item: WebElement) -> dict:\n",
    "    assert isinstance(item, WebElement), f'received type: {type(item)!r}'    \n",
    "    html = item.get_attribute('outerHTML')\n",
    "    soup = BeautifulSoup(html, 'html.parser')\n",
    "    result = {\n",
    "        'score': int(soup.find('span', {'class': 'score'}).text.strip()),  # string to int\n",
    "        'title': soup.find('span', {'class': 'title'}).text.strip(),\n",
    "        'url':   soup.find('a').get('href')\n",
    "    }\n",
    "    return result"
   ]
  },
  {
   "cell_type": "markdown",
   "id": "9e125476-d113-4e89-b8d7-019c2901d6f3",
   "metadata": {},
   "source": [
    "Hieronder de geparste data van het eerste object in de lijst met `WebElement`. "
   ]
  },
  {
   "cell_type": "code",
   "execution_count": 11,
   "id": "1b785396-aa89-4fe4-b316-756d7fcc7009",
   "metadata": {},
   "outputs": [
    {
     "data": {
      "text/plain": [
       "{...}"
      ]
     },
     "execution_count": 11,
     "metadata": {},
     "output_type": "execute_result"
    }
   ],
   "source": [
    "get_data(items[0])"
   ]
  },
  {
   "cell_type": "markdown",
   "id": "2be687e6-410c-470a-ae2c-8d2836fcd128",
   "metadata": {},
   "source": [
    "Alle logica is gecreëerd om de browser te scrollen, data op te vragen en de data te parsen.  \n",
    "Om alle data op te vragen wordt hieronder een `while` loop gebruikt.  "
   ]
  },
  {
   "cell_type": "code",
   "execution_count": 12,
   "id": "a0bc3562-2f0b-4df0-bfd7-b72a25890e69",
   "metadata": {},
   "outputs": [],
   "source": [
    "items = []\n",
    "while len(items) < 999:\n",
    "    items = driver.find_elements(By.XPATH, xpath_item)\n",
    "    scroll_to_end(driver)    "
   ]
  },
  {
   "cell_type": "markdown",
   "id": "5e24d4cf-4833-4e14-8c72-30d4a9a7e578",
   "metadata": {},
   "source": [
    "check hoe veel objecten de lijst `items` bevat"
   ]
  },
  {
   "cell_type": "code",
   "execution_count": 13,
   "id": "a7cac95f-6148-4830-af54-5a77b317b270",
   "metadata": {},
   "outputs": [
    {
     "data": {
      "text/plain": [
       "1000"
      ]
     },
     "execution_count": 13,
     "metadata": {},
     "output_type": "execute_result"
    }
   ],
   "source": [
    "len(items)"
   ]
  },
  {
   "cell_type": "markdown",
   "id": "5a93a8a6-fb65-4ec1-bca9-9883f6576833",
   "metadata": {},
   "source": [
    "Nu kan er van de verkregen data een CSV-file gemaakt worden."
   ]
  },
  {
   "cell_type": "code",
   "execution_count": 14,
   "id": "1967b8e1-212b-46ce-b1e0-677beb8e5f13",
   "metadata": {},
   "outputs": [],
   "source": [
    "import csv\n",
    "from pathlib import Path\n",
    "\n",
    "# maak het pad naar de CSV-file\n",
    "this_dir = Path.cwd()\n",
    "csv_file_path = this_dir.joinpath(\"artikels.csv\")\n",
    "\n",
    "# vraag de headers op voor in de CSV-file\n",
    "fieldnames = get_data(items[0]).keys()\n",
    "\n",
    "# verkrijg en sorteer de data, kleinste score eerst\n",
    "item_iterator = map(get_data, items)\n",
    "sorted_iterator = sorted(item_iterator, key=lambda d: d.get('score', 0))\n",
    "\n",
    "# schrijf de data weg in een CSV-file\n",
    "with csv_file_path.open('w', newline='') as csv_file:\n",
    "    writer = csv.DictWriter(csv_file, fieldnames=fieldnames)\n",
    "    writer.writeheader()\n",
    "    writer.writerows(sorted_iterator)"
   ]
  },
  {
   "cell_type": "markdown",
   "id": "771ca62a-2a02-4594-acec-0636f55edae7",
   "metadata": {},
   "source": [
    "Om te checken of het is gelukt kan de CSV-file natuurlijk ook gelezen worden."
   ]
  },
  {
   "cell_type": "code",
   "execution_count": 15,
   "id": "b5be7b5d-f78c-4b0f-a9bf-fee19f7262f3",
   "metadata": {},
   "outputs": [
    {
     "name": "stdout",
     "output_type": "stream",
     "text": [
      "line 1: score, title, url\n",
      "line 2: ...\n",
      "line 3: ...\n",
      "line 4: ...\n",
      "line 5: ...\n"
     ]
    }
   ],
   "source": [
    "with csv_file_path.open('r') as csv_file:\n",
    "    reader = csv.reader(csv_file)\n",
    "    for num, row_list in enumerate(reader, start=1):\n",
    "        row = ', '.join(row_list)\n",
    "        print(f\"line {num}: {row}\")\n",
    "        if num >= 5:\n",
    "            break"
   ]
  },
  {
   "cell_type": "markdown",
   "id": "1ac08c1e-2739-4c28-9f71-2f10684a622d",
   "metadata": {},
   "source": [
    "Als alle data is gescrapped die nodig was kunnen we de browser sluiten."
   ]
  },
  {
   "cell_type": "code",
   "execution_count": 16,
   "id": "f6ea7da9-b170-45db-bc3e-ead57c381004",
   "metadata": {},
   "outputs": [],
   "source": [
    "driver.quit()"
   ]
  },
  {
   "cell_type": "code",
   "execution_count": null,
   "id": "2c2544da-5ecd-44bc-9e9d-ce48932dfd3d",
   "metadata": {},
   "outputs": [],
   "source": []
  }
 ],
 "metadata": {
  "kernelspec": {
   "display_name": "Python 3 (ipykernel)",
   "language": "python",
   "name": "python3"
  },
  "language_info": {
   "codemirror_mode": {
    "name": "ipython",
    "version": 3
   },
   "file_extension": ".py",
   "mimetype": "text/x-python",
   "name": "python",
   "nbconvert_exporter": "python",
   "pygments_lexer": "ipython3",
   "version": "3.9.7"
  }
 },
 "nbformat": 4,
 "nbformat_minor": 5
}
