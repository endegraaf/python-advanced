{
 "cells": [
  {
   "cell_type": "markdown",
   "id": "cfe6ed68-eca1-46d7-9665-3a5f86f5d3a5",
   "metadata": {},
   "source": [
    "# Webscraping"
   ]
  },
  {
   "cell_type": "markdown",
   "id": "f60e1aa2-f8d8-4222-bce0-dc25e56dfff3",
   "metadata": {},
   "source": [
    "---\n",
    "\n",
    "## Scrapen van een website met Selenium\n",
    "\n",
    "Scrapen met [Selenium] is niet de meest betrouwbare manier van webscraping.  \n",
    "Maar sommige websites hebben (veel) Javascript of [iframe] HTML tags of laden dynamisch nieuwe elementen waardoor de data moeilijk te scrapen is met andere technieken.  \n",
    "Het is dan toch mogenlijk om de website te scrapen met Selenium.\n",
    "\n",
    "---\n",
    "\n",
    "\n",
    "https://sroze.github.io/ngInfiniteScroll/demo_async.html is een demo website voor een [infinite scroll] Javascript module die werkt met het webapplicatieframework [AngularJS].  \n",
    "De website gebruikt de [Reddit API] om tot en met 1000 artikelen te laden als de einde van de pagina wordt bereikt.  \n",
    "In de notebook cells hieronder open we de demo website en gebruiken we Selenium (met een beetje Javascript) om te scrollen.\n",
    "De artikelen parsen \n",
    "\n",
    "\n",
    "\n",
    "[iframe]: https://www.w3docs.com/learn-html/html-iframe-tag.html\n",
    "[Selenium]: https://pypi.org/project/selenium/\n",
    "[webdriver_manager]: https://pypi.org/project/webdriver-manager/ \n",
    "\n",
    "[infinite scroll]: https://github.com/sroze/ngInfiniteScroll\n",
    "[AngularJS]: https://angularjs.org/\n",
    "\n",
    "[Reddit API]: https://www.reddit.com/dev/api\n"
   ]
  },
  {
   "cell_type": "code",
   "execution_count": 1,
   "id": "5313eb1a-b2e6-4025-9cc6-483f82bba498",
   "metadata": {},
   "outputs": [
    {
     "name": "stdout",
     "output_type": "stream",
     "text": [
      ""
     ]
    }
   ],
   "source": [
    "!python -m pip install --upgrade pip selenium webdriver-manager beautifulsoup4"
   ]
  },
  {
   "cell_type": "code",
   "execution_count": 2,
   "id": "1b17ef40-baff-47c2-8e15-502d97b177af",
   "metadata": {},
   "outputs": [],
   "source": [
    "from bs4 import BeautifulSoup\n",
    "\n",
    "from selenium import webdriver\n",
    "from selenium.webdriver.common.by import By\n",
    "from selenium.webdriver.remote.webdriver import WebDriver\n",
    "from selenium.webdriver.remote.webelement import WebElement\n",
    "\n",
    "from webdriver_manager.chrome import ChromeDriverManager\n",
    "from webdriver_manager.utils import ChromeType"
   ]
  },
  {
   "cell_type": "code",
   "execution_count": 3,
   "id": "f0f37d0f-1d28-428e-876d-145c9a31e632",
   "metadata": {},
   "outputs": [
    {
     "name": "stderr",
     "output_type": "stream",
     "text": [
      "[WDM] - \n",
      "\n",
      "[WDM] - ====== WebDriver manager ======\n",
      "[WDM] - Current chromium version is 94.0.4606\n",
      "[WDM] - Get LATEST driver version for 94.0.4606\n",
      "[WDM] - Driver [/home/username/.wdm/drivers/chromedriver/linux64/94.0.4606.61/chromedriver] found in cache\n"
     ]
    }
   ],
   "source": [
    "# driver = webdriver.Chrome(ChromeDriverManager().install())  # chrome\n",
    "driver = webdriver.Chrome(ChromeDriverManager(chrome_type=ChromeType.CHROMIUM).install())  # chromium\n",
    "# driver = webdriver.Firefox(executable_path=GeckoDriverManager().install())  # firefox\n",
    "\n",
    "# maak de browser fullscreen\n",
    "driver.maximize_window()"
   ]
  },
  {
   "cell_type": "markdown",
   "id": "86260497-ebfd-4510-b3ca-bb84e0fbe218",
   "metadata": {},
   "source": [
    "Er browser die geopend is bij het aanroepen van de `webdriver.Chrome`.   \n",
    "Deze browser wordt nu gecommandeerd door Python via het `driver` object.  \n",
    "\n",
    "Selenium heeft geen commando om de browser te scrollen maar Javascript wel.  \n",
    "Selenium kan javascript injecteren in de browser die gestart is door Selenium.\n",
    "\n",
    "Hieronder een functie die de viewport van de browser naar beneden laat scrollen.  "
   ]
  },
  {
   "cell_type": "code",
   "execution_count": 4,
   "id": "61801221-32c0-4c9f-b5af-3e9882da247f",
   "metadata": {},
   "outputs": [],
   "source": [
    "def scroll_to_end(driver: WebDriver):\n",
    "    \"\"\"use javascript to scroll to the bottom of the website\"\"\"\n",
    "    code = 'window.scrollTo(0, document.body.scrollHeight)'\n",
    "    driver.execute_script(code)"
   ]
  },
  {
   "cell_type": "markdown",
   "id": "0d6995c8-d460-4bb2-90ed-3cdca817d3db",
   "metadata": {},
   "source": [
    "Door een URL te geven aan het `get` functie van het `webdriver` object wordt er een webpagina geopend in de browser.  "
   ]
  },
  {
   "cell_type": "code",
   "execution_count": 5,
   "id": "476d167d-5079-482d-90c6-ef21a6da915b",
   "metadata": {},
   "outputs": [],
   "source": [
    "url = 'https://sroze.github.io/ngInfiniteScroll/demo_async.html'\n",
    "driver.get(url)"
   ]
  },
  {
   "cell_type": "markdown",
   "id": "9ccd5851-cef5-49b7-b98a-5924e5feb27f",
   "metadata": {},
   "source": [
    "De `driver` heeft de browser de url laten openen.  \n",
    "Nu kan de scroll functie geprobeerd worden."
   ]
  },
  {
   "cell_type": "code",
   "execution_count": 6,
   "id": "e5ee2e4d-f751-43e9-b467-7fc925e4385d",
   "metadata": {},
   "outputs": [],
   "source": [
    "scroll_to_end(driver)"
   ]
  },
  {
   "cell_type": "markdown",
   "id": "75bc6dda-30b9-4baa-a780-7ed88871f1e3",
   "metadata": {},
   "source": [
    "In de developer tools onder de tab Elements kan er een [XPath] worden gemaakt om een pad naar `WebElement` te maken.  \n",
    "De input om dit te doen wordt met de toetsencombinatie `Ctrl + F` geactiveerd. \n",
    "\n",
    "Met de functie `find_elements_by_xpath` _(elements meervoud)_ wordt alle webelementen opgevraagd die dat XPath hebben.\n",
    "\n",
    "[XPath]: https://nl.wikipedia.org/wiki/XPath"
   ]
  },
  {
   "cell_type": "code",
   "execution_count": 7,
   "id": "ef44bce9-8d4e-46b0-8fc1-fb82d5b40607",
   "metadata": {
    "tags": []
   },
   "outputs": [],
   "source": [
    "xpath_item = \"//div[@class='demo-container']/div[contains(@class, 'item')]\"\n",
    "items = None\n",
    "while not items:\n",
    "    items = driver.find_elements_by_xpath(xpath_item)"
   ]
  },
  {
   "cell_type": "code",
   "execution_count": 8,
   "id": "3be59adf-5469-40b5-b8fe-ee8568614645",
   "metadata": {},
   "outputs": [
    {
     "data": {
      "text/plain": [
       "<selenium.webdriver.remote.webelement.WebElement (session=\"17d7864259f83fd4400a9d7a56d39711\", element=\"bc9d4395-d13d-4347-ac10-6bf6ffab109c\")>"
      ]
     },
     "execution_count": 8,
     "metadata": {},
     "output_type": "execute_result"
    }
   ],
   "source": [
    "items[0]  # check het eerste object in de lijst met WebElements"
   ]
  },
  {
   "cell_type": "markdown",
   "id": "22f7e8ab-196a-4dcc-aabb-d3d4006d7cbb",
   "metadata": {},
   "source": [
    "Zoals hieboven in the output is te zien heeft het `WebElement` een *sessie* en een *element*.  \n",
    "De sessie is de instantie van de `WebDriver` die de browser bestuurd.  \n",
    "Het element is een UUID (Universally Unique IDentifier).  \n",
    "\n",
    "Een `WebElement`  is een object dat wijst naar het HTML [element] wat de `WebDriver` op de huidige site heeft gezien.  \n",
    "Het `WebElement` object houdt geen data vast.  \n",
    "Alle atributen en methodes van een `WebElement` sturen een commando op naar de `WebDriver`.  \n",
    "De `WebDriver` zoekt dan het `WebElement` op en stuurt data terug wat opgevraagd is.\n",
    "\n",
    "Als een `WebElement` vervalt of is veranderd dan is deze \"*Stale*\"  \n",
    "Wordt er dan een methode of attribute van het `WebElement` gebruikt, dan zal er een [StaleElementReferenceException] ge-raised worden.  \n",
    "\n",
    "[UUID]: https://docs.python.org/3/library/uuid.html\n",
    "[element]: https://nl.wikipedia.org/wiki/Lijst_van_HTML-elementen\n",
    "[StaleElementReferenceException]: https://www.selenium.dev/selenium/docs/api/py/common/selenium.common.exceptions.html#selenium.common.exceptions.StaleElementReferenceException"
   ]
  },
  {
   "cell_type": "code",
   "execution_count": 9,
   "id": "49bf678a-abd3-4d56-87e1-015dc2d9c78e",
   "metadata": {},
   "outputs": [
    {
     "name": "stdout",
     "output_type": "stream",
     "text": [
      "driver sessie ID: 17d7864259f83fd4400a9d7a56d39711\n",
      "type: <class 'selenium.webdriver.remote.webelement.WebElement'>\n",
      "representatie: <selenium.webdriver.remote.webelement.WebElement (session=\"17d7864259f83fd4400a9d7a56d39711\", element=\"bc9d4395-d13d-4347-ac10-6bf6ffab109c\")>\n"
     ]
    }
   ],
   "source": [
    "print(f\"driver sessie ID: {driver.session_id}\")\n",
    "\n",
    "# print de type van het eerste object in de list: items.\n",
    "print(f\"type: {type(items[0])}\")\n",
    "print(f\"representatie: {repr(items[0])}\")\n",
    "\n",
    "# print alle te gebruiken methodes & attributen\n",
    "# print(*[_ for _ in dir(items[0]) if not _.startswith('_')], sep='\\n')"
   ]
  },
  {
   "cell_type": "markdown",
   "id": "03957ac9-12c0-45b4-b139-418645eb5ad8",
   "metadata": {},
   "source": [
    "Hieronder is er een functie gemaakt die de `WebElement` als argument verwacht.  \n",
    "Met `BeautifulSoup` wordt dan de HTML geparsed om alle data te verkrijgen.  \n",
    "De data wordt opgevraagd, opgeschoond en direct in een `dict` geplaatst.  \n",
    "De `dict` met data wordt na het voltooien van de functie teruggegeven door de functie.  "
   ]
  },
  {
   "cell_type": "code",
   "execution_count": 10,
   "id": "c0688af7-1585-414a-bb90-c592e3a7bc93",
   "metadata": {
    "tags": []
   },
   "outputs": [],
   "source": [
    "def get_data(item: WebElement) -> dict:\n",
    "    assert isinstance(item, WebElement), f'received type: {type(item)!r}'    \n",
    "    html = item.get_attribute('outerHTML')\n",
    "    soup = BeautifulSoup(html, 'html.parser')\n",
    "    result = {\n",
    "        'score': int(soup.find('span', {'class': 'score'}).text.strip()),  # string to int\n",
    "        'title': soup.find('span', {'class': 'title'}).text.strip(),\n",
    "        'url':   soup.find('a').get('href')\n",
    "    }\n",
    "    return result"
   ]
  },
  {
   "cell_type": "markdown",
   "id": "9e125476-d113-4e89-b8d7-019c2901d6f3",
   "metadata": {},
   "source": [
    "Hieronder de geparste data van het eerste object in de lijst met `WebElement`. "
   ]
  },
  {
   "cell_type": "code",
   "execution_count": 11,
   "id": "1b785396-aa89-4fe4-b316-756d7fcc7009",
   "metadata": {},
   "outputs": [
    {
     "data": {
      "text/plain": [
       "{'score': 1247,\n",
       " 'title': 'Match Thread: Qualifier 1 - Delhi Capitals vs Chennai Super Kings',\n",
       " 'url': 'https://www.reddit.com/r/Cricket/comments/q57llz/match_thread_qualifier_1_delhi_capitals_vs/'}"
      ]
     },
     "execution_count": 11,
     "metadata": {},
     "output_type": "execute_result"
    }
   ],
   "source": [
    "get_data(items[0])"
   ]
  },
  {
   "cell_type": "markdown",
   "id": "2be687e6-410c-470a-ae2c-8d2836fcd128",
   "metadata": {},
   "source": [
    "Alle logica is gecreëerd om de browser te scrollen, data op te vragen en de data te parsen.  \n",
    "Om alle data op te vragen wordt hieronder een `while` loop gebruikt.  "
   ]
  },
  {
   "cell_type": "code",
   "execution_count": 12,
   "id": "a0bc3562-2f0b-4df0-bfd7-b72a25890e69",
   "metadata": {},
   "outputs": [],
   "source": [
    "items = []\n",
    "while len(items) < 999:\n",
    "    items = driver.find_elements_by_xpath(xpath_item)\n",
    "    scroll_to_end(driver)    "
   ]
  },
  {
   "cell_type": "markdown",
   "id": "5e24d4cf-4833-4e14-8c72-30d4a9a7e578",
   "metadata": {},
   "source": [
    "check hoe veel objecten de lijst `items` bevat"
   ]
  },
  {
   "cell_type": "code",
   "execution_count": 13,
   "id": "a7cac95f-6148-4830-af54-5a77b317b270",
   "metadata": {},
   "outputs": [
    {
     "data": {
      "text/plain": [
       "1000"
      ]
     },
     "execution_count": 13,
     "metadata": {},
     "output_type": "execute_result"
    }
   ],
   "source": [
    "len(items)"
   ]
  },
  {
   "cell_type": "markdown",
   "id": "e0284eb7-e8c8-410c-8b96-8aa754ec929b",
   "metadata": {},
   "source": [
    "Alle data is verkregen en nu kan hier wat mee worden gedaan.  \n",
    "Bijvoorbeeld kan het artikel met de hoogste score worden opgevraagd.  "
   ]
  },
  {
   "cell_type": "code",
   "execution_count": 14,
   "id": "7ec7050e-d258-4c3a-a6da-831f61bcf617",
   "metadata": {
    "tags": []
   },
   "outputs": [
    {
     "data": {
      "text/plain": [
       "{'score': 99112,\n",
       " 'title': 'Man calls his parents while skydiving',\n",
       " 'url': 'https://v.redd.it/6g0d935fpls71'}"
      ]
     },
     "execution_count": 14,
     "metadata": {},
     "output_type": "execute_result"
    }
   ],
   "source": [
    "# een generator is een luie functie die data geeft waneer dit wordt opgevraagd.  \n",
    "item_generator = (get_data(item) for item in items)\n",
    "\n",
    "# verklaar objecten die gebruikt worden in de for-loop\n",
    "best_article = {}\n",
    "max_score = 0\n",
    "\n",
    "# loop om het artikel met de hoogste score te verkrijgen\n",
    "for data in item_generator:\n",
    "    score = data['score']\n",
    "    if max_score < score:\n",
    "        max_score = score\n",
    "        best_article = data\n",
    "\n",
    "best_article"
   ]
  },
  {
   "cell_type": "markdown",
   "id": "5a93a8a6-fb65-4ec1-bca9-9883f6576833",
   "metadata": {},
   "source": [
    "Ook kan er van de verkregen data een CSV-file gemaakt worden."
   ]
  },
  {
   "cell_type": "code",
   "execution_count": 15,
   "id": "1967b8e1-212b-46ce-b1e0-677beb8e5f13",
   "metadata": {},
   "outputs": [],
   "source": [
    "import csv\n",
    "from pathlib import Path\n",
    "\n",
    "# maak het pad naar de CSV-file\n",
    "this_dir = Path.cwd()\n",
    "csv_file_path = this_dir.joinpath(\"artikels.csv\")\n",
    "\n",
    "# vraag de headers op voor in de CSV-file\n",
    "fieldnames = get_data(items[0]).keys()\n",
    "\n",
    "# verkrijg en sorteer de data, kleinste score eerst\n",
    "item_iterator = map(get_data, items)\n",
    "sorted_iterator = sorted(item_iterator, key=lambda d: d.get('score', 0))\n",
    "\n",
    "# schrijf de data weg in een CSV-file\n",
    "with csv_file_path.open('w', newline='') as csv_file:\n",
    "    writer = csv.DictWriter(csv_file, fieldnames=fieldnames)\n",
    "    writer.writeheader()\n",
    "    writer.writerows(sorted_iterator)"
   ]
  },
  {
   "cell_type": "markdown",
   "id": "771ca62a-2a02-4594-acec-0636f55edae7",
   "metadata": {},
   "source": [
    "Om te checken of het is gelukt kan CSV-file natuurlijk ook gelezen worden."
   ]
  },
  {
   "cell_type": "code",
   "execution_count": 16,
   "id": "b5be7b5d-f78c-4b0f-a9bf-fee19f7262f3",
   "metadata": {},
   "outputs": [
    {
     "name": "stdout",
     "output_type": "stream",
     "text": [
      "line 1: ['score', 'title', 'url']\n",
      "line 2: ['335', 'Throwback to when I said the mystery person on tattooine was boba fett', 'https://i.redd.it/frnq4dfs6os71.jpg']\n",
      "line 3: ['350', 'Kein Hate, finde es nur echt bemerkenswert.', 'https://i.redd.it/psxucevf6os71.jpg']\n",
      "line 4: ['351', 'The feeling of being a grandmother.', 'https://i.imgur.com/ZBvT6Yz.gifv']\n",
      "line 5: ['373', 'The thought of serious lawyers having to watch hundreds of hours of unaired footage of RHOBH just cracks me up.', 'https://i.redd.it/2gdzzitktns71.jpg']\n"
     ]
    }
   ],
   "source": [
    "with csv_file_path.open('r') as csv_file:\n",
    "    reader = csv.reader(csv_file)\n",
    "    for num, row in enumerate(reader, start=1):\n",
    "        print(f\"line {num}: {row}\")\n",
    "        if num >= 5:\n",
    "            break"
   ]
  },
  {
   "cell_type": "markdown",
   "id": "1ac08c1e-2739-4c28-9f71-2f10684a622d",
   "metadata": {},
   "source": [
    "Als alle data is gescrapped die nodig was kunnen we de browser sluiten."
   ]
  },
  {
   "cell_type": "code",
   "execution_count": 17,
   "id": "f6ea7da9-b170-45db-bc3e-ead57c381004",
   "metadata": {},
   "outputs": [],
   "source": [
    "driver.quit()"
   ]
  },
  {
   "cell_type": "code",
   "execution_count": null,
   "id": "2c2544da-5ecd-44bc-9e9d-ce48932dfd3d",
   "metadata": {},
   "outputs": [],
   "source": []
  }
 ],
 "metadata": {
  "kernelspec": {
   "display_name": "Python 3 (ipykernel)",
   "language": "python",
   "name": "python3"
  },
  "language_info": {
   "codemirror_mode": {
    "name": "ipython",
    "version": 3
   },
   "file_extension": ".py",
   "mimetype": "text/x-python",
   "name": "python",
   "nbconvert_exporter": "python",
   "pygments_lexer": "ipython3",
   "version": "3.9.7"
  }
 },
 "nbformat": 4,
 "nbformat_minor": 5
}
