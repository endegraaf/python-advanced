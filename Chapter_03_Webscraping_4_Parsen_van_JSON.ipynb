{
 "cells": [
  {
   "cell_type": "markdown",
   "id": "cfe6ed68-eca1-46d7-9665-3a5f86f5d3a5",
   "metadata": {},
   "source": [
    "# Webscraping"
   ]
  },
  {
   "cell_type": "markdown",
   "id": "31b4eba3",
   "metadata": {},
   "source": [
    "## JSON scraping - oefening met Requests en JSON\n",
    "\n",
    "Nu gaan we aan de slag met JSON data. Het is de bedoeling dat je JSON data gaat ophalen via requests. \n",
    "\n",
    "\n",
    "### Voorbereiding\n",
    "\n",
    "Lees de quickstart door https://docs.python-requests.org/en/master/user/quickstart/\n",
    "\n",
    "Observeer de syntax voor requests: \n",
    "```\n",
    "\n",
    "import requests\n",
    "\n",
    "r = requests.get('<een URL>')\n",
    "print(r.text)\n",
    "\n",
    "```\n",
    "\n",
    "### Sevenstars Vacature informatie\n",
    "\n",
    "Stel je voor dat je een account manager bent van Squerist, maar je bent best lui ingesteld, je vind het veel te veel moeite om steeds maar sites in de gaten te houden voor de laatste vacatures voor Testautomatiseerders en wat voor criteria er worden uitgevraagd. Je denkt... wat als ik een script zou kunnen maken dat elke dag de vacatures voor met scraped? Dan kan ik eenvoudig en overzichtelijk alle informatie zien en bevragen wanneer het mij uitkomt. \n",
    "\n",
    "Weet je wat? In deze oefening gaan we precies dat doen. \n",
    "\n",
    "Navigeer naar de Sevenstars website (www.sevenstars.nl) en klik bij *Professional* om deze sectie in te zien. \n",
    "\n",
    "Zoek nu:\n",
    "\n",
    "- Tijdelijke opdrachten \n",
    "- Functiegroep: testautomatiseerder\n",
    "- Provincie: alles\n",
    "- Status: open\n",
    "\n",
    "Gebruik wat je voorgaand hebt geleerd om de juiste URL informatie op te halen zodat je deze query herhaaldelijk kan uitvoeren \n",
    "\n",
    "Haal op:\n",
    "- basis query om te verzenden via HTTP POST \n",
    "- vacature url's ```(.../vacature/<nummer>/<title>)``` om deze url aan te roepen. \n",
    "    \n",
    "\n",
    "\n",
    "### HINTS\n",
    "\n",
    "- Kijk goed in de XHR's\n",
    "- POST body moet url encoded zijn\n",
    "- Eerst een URL om te posten samenstellen (dit mag statisch zijn). Vervolgens, een of meerdere GET url's afvuren. \n",
    "- Je hebt SOUP ook weer nodig (later) \n",
    "\n"
   ]
  },
  {
   "cell_type": "code",
   "execution_count": null,
   "id": "cfad22fa",
   "metadata": {},
   "outputs": [],
   "source": []
  }
 ],
 "metadata": {
  "kernelspec": {
   "display_name": "Python 3 (ipykernel)",
   "language": "python",
   "name": "python3"
  },
  "language_info": {
   "codemirror_mode": {
    "name": "ipython",
    "version": 3
   },
   "file_extension": ".py",
   "mimetype": "text/x-python",
   "name": "python",
   "nbconvert_exporter": "python",
   "pygments_lexer": "ipython3",
   "version": "3.8.10"
  }
 },
 "nbformat": 4,
 "nbformat_minor": 5
}
