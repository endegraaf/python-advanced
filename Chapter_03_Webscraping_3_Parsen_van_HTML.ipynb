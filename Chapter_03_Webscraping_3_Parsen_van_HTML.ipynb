{
 "cells": [
  {
   "cell_type": "markdown",
   "id": "cfe6ed68-eca1-46d7-9665-3a5f86f5d3a5",
   "metadata": {},
   "source": [
    "# Webscraping"
   ]
  },
  {
   "cell_type": "markdown",
   "id": "31b4eba3",
   "metadata": {},
   "source": [
    "## HTML scraping - oefening met BS4\n",
    "\n",
    "We gaan met HTML scraping aan de slag. Deze oefening staat niet volledig uitgeschreven in deze Jupyter notebook.\n",
    "\n",
    "### Voorbereiding\n",
    "\n",
    "Maak de voorbeeldcode (Quickstart) https://beautiful-soup-4.readthedocs.io/en/latest/\n",
    "\n",
    "Dit moet relatief eenvoudig te doen zijn.\n",
    "\n",
    "Observeer dat het werkt, ga dan verder naar het volgende stuk, voedingswaardetabel\n",
    "\n",
    "### Voedingswaardetabel online\n",
    "\n",
    "Nu komt de oefening, maak een script om op de tabellen te scrapen van de volgende site:\n",
    "https://www.voedingswaardetabel.nl/voedingswaarde/\n",
    "\n",
    "Als je de letter A hebt gedaan kan je natuurlijk verder gaan naar de B, etc... \n",
    "\n",
    "Nu vraag je misschien af, als ik 26x copy paste doe dan heb ik de data ook. Dat klopt wel maar het gaat hier om de oefening ;-) stel je voor dat de data veranderd, etc... 26 maal copypasten wil je niet doen.\n",
    "\n",
    "Deze oefening ben je waarschijnlijk wel heel even zoet mee.\n",
    "\n",
    "\n",
    "### HINTS\n",
    "\n",
    "--\n",
    "\n",
    "Scheelt je weer wat typwerk:\n",
    "\n",
    "```\n",
    "alltheletters= ['a','b','c','d','e','f','g','h','i','j','k','l','m','n','o','p','q','r','s','t','u','v','w','x','y','z']\n",
    "```\n",
    "\n",
    "--\n",
    "\n",
    "Je kan attribuut namen bevragen met een regex expressie, voorbeeld:\n",
    "\n",
    "```soup.find_all(\"div\", id=re.compile('.*pnlRowContainer'))```\n",
    "\n"
   ]
  },
  {
   "cell_type": "code",
   "execution_count": null,
   "id": "cfad22fa",
   "metadata": {},
   "outputs": [],
   "source": []
  }
 ],
 "metadata": {
  "kernelspec": {
   "display_name": "Python 3 (ipykernel)",
   "language": "python",
   "name": "python3"
  },
  "language_info": {
   "codemirror_mode": {
    "name": "ipython",
    "version": 3
   },
   "file_extension": ".py",
   "mimetype": "text/x-python",
   "name": "python",
   "nbconvert_exporter": "python",
   "pygments_lexer": "ipython3",
   "version": "3.9.7"
  }
 },
 "nbformat": 4,
 "nbformat_minor": 5
}
