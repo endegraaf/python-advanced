{
 "cells": [
  {
   "cell_type": "markdown",
   "id": "129c27ae-56a4-4ccc-9e02-b940de7f3714",
   "metadata": {},
   "source": [
    "# Inhoud\n",
    "- [Inhoud](./Chapter_00_Inhoud.ipynb#Inhoud)\n",
    "- [PEP-8](./Chapter_01_PEP8.ipynb#PEP-8----Style-Guide-for-Python-Code)\n",
    "- [Spreadsheets](./Chapter_02_Spreadsheets.ipynb#Spreadsheets)\n",
    "- [Webscraping Introductie](./Chapter_03_Webscraping_1_Introductie.ipynb)\n",
    "- [Webscraping met Selenium](./Chapter_03_Webscraping_2_Selenium.ipynb)\n",
    "\n"
   ]
  },
  {
   "cell_type": "code",
   "execution_count": null,
   "id": "e609f9f8-c35a-41d6-8e0e-415d7bc1b252",
   "metadata": {},
   "outputs": [],
   "source": []
  }
 ],
 "metadata": {
  "kernelspec": {
   "display_name": "Python 3 (ipykernel)",
   "language": "python",
   "name": "python3"
  },
  "language_info": {
   "codemirror_mode": {
    "name": "ipython",
    "version": 3
   },
   "file_extension": ".py",
   "mimetype": "text/x-python",
   "name": "python",
   "nbconvert_exporter": "python",
   "pygments_lexer": "ipython3",
   "version": "3.8.10"
  }
 },
 "nbformat": 4,
 "nbformat_minor": 5
}
