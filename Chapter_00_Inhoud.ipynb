{
 "cells": [
  {
   "cell_type": "markdown",
   "id": "129c27ae-56a4-4ccc-9e02-b940de7f3714",
   "metadata": {},
   "source": [
    "# Inhoud\n",
    "- [Inhoud](./Chapter_00_Inhoud.ipynb)\n",
    "- [PEP-8](./Chapter_01_PEP8.ipyn)\n",
    "- [Spreadsheets](./Chapter_02_Spreadsheets.ipynb)\n",
    "- [Webscraping introductie](./Chapter_03_Webscraping_1_Introductie.ipynb)\n",
    "- [Webscraping met een API](./Chapter_03_Webscraping_2_API_scrapen.ipynb)\n",
    "- [Webscraping van HTML](./Chapter_03_Webscraping_3_HTML_scrapen.ipynb)\n",
    "- [Comprehensions](./Chapter_04_Comprehensions.ipynb)\n",
    "- [Under construction: Flask site](./Chapter_03_Webscraping_9_Flask_site.ipynb)"
   ]
  },
  {
   "cell_type": "code",
   "execution_count": null,
   "id": "e609f9f8-c35a-41d6-8e0e-415d7bc1b252",
   "metadata": {},
   "outputs": [],
   "source": []
  }
 ],
 "metadata": {
  "kernelspec": {
   "display_name": "Python 3 (ipykernel)",
   "language": "python",
   "name": "python3"
  },
  "language_info": {
   "codemirror_mode": {
    "name": "ipython",
    "version": 3
   },
   "file_extension": ".py",
   "mimetype": "text/x-python",
   "name": "python",
   "nbconvert_exporter": "python",
   "pygments_lexer": "ipython3",
   "version": "3.9.7"
  }
 },
 "nbformat": 4,
 "nbformat_minor": 5
}