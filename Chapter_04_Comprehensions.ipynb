{
 "cells": [
  {
   "cell_type": "markdown",
   "id": "d5c6ba95-a89d-4b84-9cf1-982208632c05",
   "metadata": {},
   "source": [
    "__info__  \n",
    "In cellen van dit notebook wordt regelmatig het volgende commando gebruikt: `%%time`  \n",
    "Dit commando is een IPython/Jupyter notebook [magic command].  \n",
    "Het commando laat zien hoe lang de executie van de code in de cell duurde.  \n",
    "Vaak duurt een stukje code micro-seconden (`µs`) of milli-seconden (`ms`).  \n",
    "\n",
    "[magic command]: https://ipython.readthedocs.io/en/stable/interactive/magics.html"
   ]
  },
  {
   "cell_type": "markdown",
   "id": "20b35388-729b-4a86-a967-fb13318222e5",
   "metadata": {
    "tags": []
   },
   "source": [
    "# Comprehensions"
   ]
  },
  {
   "cell_type": "markdown",
   "id": "a3ce88c3-b4a9-49a7-9062-4c1da9fbfa01",
   "metadata": {
    "tags": []
   },
   "source": [
    "## Intro\n",
    "\n",
    "In dit notebook leren we wat _comprehensions_ zijn in Python.  \n",
    "\n",
    "Comprehensions zijn constructies waarmee een serie gemaakt kan worden van andere series.  \n",
    "Het lijkt heel complex, toch is het niet veel anders dan een for-loop.  \n",
    "Het kan gezien worden als een for-loop, in een lijst, op één regel."
   ]
  },
  {
   "cell_type": "markdown",
   "id": "cf3cc12c-787b-406a-969f-6b05d184224e",
   "metadata": {},
   "source": [
    "### Hoe is een list comprehension opgebouwd"
   ]
  },
  {
   "cell_type": "code",
   "execution_count": 1,
   "id": "734d1a2a-90a0-4c86-bb9c-bcbf9dde6368",
   "metadata": {},
   "outputs": [
    {
     "data": {
      "text/html": [
       "<!--[if IE]><meta http-equiv=\"X-UA-Compatible\" content=\"IE=5,IE=9\" ><![endif]-->\n",
       "<!DOCTYPE html>\n",
       "<html>\n",
       "<head>\n",
       "<title>📌 ( ͡° ͜ʖ ͡°)</title>\n",
       "<meta charset=\"utf-8\"/>\n",
       "</head>\n",
       "<body><div class=\"mxgraph\" style=\"max-width:100%;border:1px solid transparent;\" data-mxgraph=\"{&quot;highlight&quot;:&quot;#0000ff&quot;,&quot;lightbox&quot;:false,&quot;nav&quot;:true,&quot;resize&quot;:true,&quot;toolbar&quot;:&quot;zoom&quot;,&quot;xml&quot;:&quot;&lt;mxfile host=\\&quot;app.diagrams.net\\&quot; modified=\\&quot;2021-10-23T18:47:57.998Z\\&quot; agent=\\&quot;5.0 (X11; Linux x86_64) AppleWebKit/537.36 (KHTML, like Gecko) Chrome/94.0.4606.61 Safari/537.36\\&quot; etag=\\&quot;REvdad6fMDHMgWGu0nt8\\&quot; version=\\&quot;15.5.8\\&quot; type=\\&quot;device\\&quot;&gt;&lt;diagram id=\\&quot;VdwMkrw_iEAUlkfb9hNc\\&quot; name=\\&quot;Page-1\\&quot;&gt;7Zvdc+ooFMD/Gh/rBPKlj9Xa3dnZ3bkzfdh237iGKvfGkE2w6v71CwKaBKxRE2u36Yvh8JHDOT/gQGjPHS/Wv2Qonf9BIxz3oBOte+5DD0LouID/CMlGSoAzDKVklpFIyfaCJ/Iv1gWVdEkinJcKMkpjRtKycEqTBE9ZSYayjK7KxV5pXH5rimbYEDxNUWxK/yIRmyspCIb7jF8xmc3VqwdQ9W+BdGHVk3yOIroqiNxJzx1nlDL5tFiPcSysp+0i6z0eyN0pluGE1akQ/TaZOH8/rv+8e/s5fk7Hj2iZ3w1kK28oXqoOK2XZRlsgo8skwqIRp+eOVnPC8FOKpiJ3xZ3OZXO2iHkK8MdXEsdjGtOMpxOa8EKjCOXzbXWgEt8QYzhLthLoCClZcCve56l0oHiNUgtnDK8P9hfsrMj5w3SBWbbhRXQFf9j3ZSUF39CVydXekSF0dKF5wYvAVU5DCp/Zrvm9hfmDMvIJBgfQYvEgZsJ2lHesaPrgn6WAYxSTBN9p9e6VzbYwJ+wu3w4ZIXVhut5m6Hr8aSZ+X/QbuMbyJVJuuJrrz8cVPu5mpH31StbCt1vd1eB1uU9GOcvoz92I8exkCPcSPtTuYzITOCxIFAlVRkgJptzVOGsGBy/wKjgA7YsCDwPHhGHQGgvtD74GDBcE1XEEQGgYDgQWy4VtWc42iKosJ9G9mP/3tihYqmxWbohs8ywSfejr9Esx82FdSm10ak1YsR5Pvqg3iOd9LZHQlaSmODLWnYpDeG/oMpvi4wAxlM0wO1bOdHDBfb7Fe1qW4Rgx8lZW1+ZS9YZvlGwnMs2Pa/AzCMuNyI6qesUlrNrUwGjKrTQlbWE0taVs1/XzwQvaAu9M7jrsvgR2YVvYhWdyF3bgHQTPoAWCM8ELTYaD64I3tIB3JFqtRKWAu3ptxqQ9/6FuVMpDF1bGWUaXlVDHEv0YceTBiNMWWZUHTY1tjBn0NhB+DaA5+QAj/LJFX+3tYWyBq/RlnqLkIipGBSpkY/8/KjLK+ARDk15ze13v9iDxLp46QmhjhCTdxFGHCT80mPDMA5DrMuG3xMQrd14HRQ0oXC+8MSTq7KiaOJbiK07dc6kG7ByE7qEtQ8HS7lUtXWcT8fksHYLbs3SNU/XPaGn/5iytv61csKC41gWl3+93C0otKCxRxgdHnvDw9qQuFPbdSY4zgnku/f6DD0ncxaE1l8JKyDH0DT6AZ/kIB1sD5PKtiR0QCUaHRR0svCCoThwWMMKrcnH59qTj4lIuoP4qezNU2HYoTVDxO8lF7SldpBme4yQXR0IdI3WOu4yrHTycMCiBjiXqaA8T2/aqibON556I8kUttBAuSL7nqczuSDlOyvHjDuBB2xWg1sJT94zwtLsB1MTK4pgXWaCBw1VvALmXTxrAO+BzIPNRngtT6l0Lf1iSbcNqM4NQKbM2KbcxrxQPQ5o6N3eCEiS+ZWUJgW3K8FrDxHagdAYmBiNQZr5RPKtA4DC6pyMSjzH5kX+yGLYFOnZHGe/Qoc+0r8NGA5/orWy4lfmjCEF11nj+8lx4Tt8p/unPnzo+9bwP5sSzbW6rq380w08qmePZgvd9sheNCleMprHgYtp755ZRwcjwlHtAH3VvJwzLG8/BoNxC3Us7PnDebefAjR1uWbQpFEtFgby+uoFzklbl4vxBvr/Ry0NenS9OXxk5b/g+KnWR2+nTLnJVdY8gV9XqxOKqE60S6tu+H3WEHnYKZ+A8RL3KeuhU2mkIUUPfAThJrXLxU6Hjyf3/c8ni+3+Lcyf/AQ==&lt;/diagram&gt;&lt;/mxfile&gt;&quot;}\"></div>\n",
       "<script type=\"text/javascript\" src=\"https://viewer.diagrams.net/js/viewer-static.min.js\"></script>\n",
       "</body>\n",
       "</html>\n"
      ],
      "text/plain": [
       "<IPython.core.display.HTML object>"
      ]
     },
     "execution_count": 1,
     "metadata": {},
     "output_type": "execute_result"
    }
   ],
   "source": [
    "from IPython import display\n",
    "display.HTML(filename=r'./docs/comprehension_structure.html')\n",
    "# hieronder een simpel overzicht over hoe een list comprehension is opgebouwd"
   ]
  },
  {
   "cell_type": "code",
   "execution_count": 2,
   "id": "4901160b-375c-4b57-b37c-e7e750d8feeb",
   "metadata": {},
   "outputs": [
    {
     "data": {
      "text/plain": [
       "[1, 2, 3]"
      ]
     },
     "execution_count": 2,
     "metadata": {},
     "output_type": "execute_result"
    }
   ],
   "source": [
    "een_lijst = [1, 2, 3]  # serie met objecten (list met int's)\n",
    "\n",
    "comprehension = [nummer for nummer in een_lijst]\n",
    "comprehension"
   ]
  },
  {
   "cell_type": "markdown",
   "id": "3e31ca02-ba64-4204-a700-cc520deb7f22",
   "metadata": {},
   "source": [
    "### Waarom comprehensions"
   ]
  },
  {
   "cell_type": "markdown",
   "id": "266e693b-2b19-41dd-b019-b7cdc17c4ef5",
   "metadata": {},
   "source": [
    "Wat met een comprehension kan is ook met een simpele for-loop te doen.  \n",
    "Veelal is de simpele for-loop beter te lezen en te begrijpen voor de onervaren Python ontwikkelaars.  \n",
    "Toch is een for-loop langdradig en minder efficient dan een comprehension.  "
   ]
  },
  {
   "cell_type": "markdown",
   "id": "fec9a930-8103-4ba7-af31-8e90beb1847e",
   "metadata": {},
   "source": [
    "Hieronder een voorbeeld van een for-loop en een list comprehension.  \n",
    "Beide stukjes code maken een lijst met een miljoen nummers.  "
   ]
  },
  {
   "cell_type": "code",
   "execution_count": 3,
   "id": "a6f13c97-53ea-41a5-8a5b-1a670bb6712f",
   "metadata": {},
   "outputs": [
    {
     "name": "stdout",
     "output_type": "stream",
     "text": [
      "CPU times: user 100 ms, sys: 8.86 ms, total: 109 ms\n",
      "Wall time: 120 ms\n"
     ]
    }
   ],
   "source": [
    "%%time\n",
    "\n",
    "# een lijst met miljoen nummers maken met een for-loop\n",
    "\n",
    "miljoen = 1_000_000\n",
    "miljoen_nummers = list()\n",
    "for nummer in range(miljoen):\n",
    "    miljoen_nummers.append(nummer)"
   ]
  },
  {
   "cell_type": "code",
   "execution_count": 4,
   "id": "a6b827fb-196e-42f7-be0d-bd4b849f31f3",
   "metadata": {},
   "outputs": [
    {
     "name": "stdout",
     "output_type": "stream",
     "text": [
      "CPU times: user 13.2 ms, sys: 39.7 ms, total: 52.8 ms\n",
      "Wall time: 63.7 ms\n"
     ]
    }
   ],
   "source": [
    "%%time\n",
    "\n",
    "# een lijst met miljoen nummers maken met een list comprehension\n",
    "\n",
    "miljoen = 1_000_000\n",
    "miljoen_nummers = [nummer for nummer in range(miljoen)]"
   ]
  },
  {
   "cell_type": "markdown",
   "id": "a621f78c-0e0f-449c-b865-314f8d0b2cf4",
   "metadata": {
    "tags": []
   },
   "source": [
    "Zoals cellen hierboven te zien is, de list comprehension is met 30% tot 60% sneller.  \n",
    "Ook is de for-loop versie 3 regels, en de list comprehension werkt op 1 regel.  \n",
    "Het resultaat van beide is hetzelfde, de efficientie is bij de list comprehension beter.  "
   ]
  },
  {
   "cell_type": "markdown",
   "id": "fb156bad-ac59-429c-ba9c-ee3d13d09197",
   "metadata": {},
   "source": [
    "---"
   ]
  },
  {
   "cell_type": "markdown",
   "id": "fe9a8c35-898b-4b91-a73a-e3c758e08f45",
   "metadata": {},
   "source": [
    "### Comprehensions met een `if` statement"
   ]
  },
  {
   "cell_type": "markdown",
   "id": "55d68769-ff99-4baa-85ce-709a348d04c2",
   "metadata": {},
   "source": [
    "Het is bekend dat er if-statements in for-loops geschreven kan worden.  \n",
    "Met deze if-statements kan er verschillende acties uitgevoerd worden als de expressie `True` of `False` is.  \n",
    "Er kan bijvoorbeeld data uit een serie gefilterd worden.\n",
    "\n",
    "Een comprehension kan ook een if-statement bevatten.  \n",
    "Hieronder een voorbeeld hoe dat in een list comprehension geschreven kan worden.  "
   ]
  },
  {
   "cell_type": "code",
   "execution_count": 5,
   "id": "d8ebdfdc-8f9f-4a91-aee9-0ec3b58d62c7",
   "metadata": {},
   "outputs": [
    {
     "data": {
      "text/html": [
       "<!--[if IE]><meta http-equiv=\"X-UA-Compatible\" content=\"IE=5,IE=9\" ><![endif]-->\n",
       "<!DOCTYPE html>\n",
       "<html>\n",
       "<head>\n",
       "<title>📌 ( ͡° ͜ʖ ͡°)</title>\n",
       "<meta charset=\"utf-8\"/>\n",
       "</head>\n",
       "<body><div class=\"mxgraph\" style=\"max-width:100%;border:1px solid transparent;\" data-mxgraph=\"{&quot;highlight&quot;:&quot;#0000ff&quot;,&quot;lightbox&quot;:false,&quot;nav&quot;:true,&quot;resize&quot;:true,&quot;toolbar&quot;:&quot;zoom&quot;,&quot;xml&quot;:&quot;&lt;mxfile host=\\&quot;app.diagrams.net\\&quot; modified=\\&quot;2021-10-23T18:52:36.613Z\\&quot; agent=\\&quot;5.0 (X11; Linux x86_64) AppleWebKit/537.36 (KHTML, like Gecko) Chrome/94.0.4606.61 Safari/537.36\\&quot; etag=\\&quot;Gl0qfwBmH8Mu1th5gSo6\\&quot; version=\\&quot;15.5.8\\&quot; type=\\&quot;device\\&quot;&gt;&lt;diagram id=\\&quot;VdwMkrw_iEAUlkfb9hNc\\&quot; name=\\&quot;Page-1\\&quot;&gt;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&lt;/diagram&gt;&lt;/mxfile&gt;&quot;}\"></div>\n",
       "<script type=\"text/javascript\" src=\"https://viewer.diagrams.net/js/viewer-static.min.js\"></script>\n",
       "</body>\n",
       "</html>\n"
      ],
      "text/plain": [
       "<IPython.core.display.HTML object>"
      ]
     },
     "execution_count": 5,
     "metadata": {},
     "output_type": "execute_result"
    }
   ],
   "source": [
    "from IPython import display\n",
    "display.HTML(filename=r'./docs/comprehension_expression_structure.html')\n",
    "# hieronder een simpel overzicht over hoe een list comprehension met expressie is opgebouwd"
   ]
  },
  {
   "cell_type": "markdown",
   "id": "29b4c0d9-ef4d-4193-b39f-03f299bb1ed0",
   "metadata": {},
   "source": [
    "Hieronder een voorbeeld van een for-loop en een list comprehension.  \n",
    "Allebei hebben de loops een if-statement.   \n",
    "Beide stukjes code maken een lijst met even nummers uit een miljoen aantal nummers. "
   ]
  },
  {
   "cell_type": "code",
   "execution_count": 6,
   "id": "dc28f88b-f649-47df-9323-de259d549c45",
   "metadata": {},
   "outputs": [
    {
     "name": "stdout",
     "output_type": "stream",
     "text": [
      "CPU times: user 99.7 ms, sys: 18.9 ms, total: 119 ms\n",
      "Wall time: 125 ms\n"
     ]
    }
   ],
   "source": [
    "%%time\n",
    "\n",
    "miljoen = 1_000_000\n",
    "even_nummers = list()\n",
    "for nummer in range(miljoen):\n",
    "    if nummer % 2 == 0:\n",
    "        even_nummers.append(nummer)"
   ]
  },
  {
   "cell_type": "code",
   "execution_count": 7,
   "id": "094ce916-345c-496b-a546-0f76dff885c8",
   "metadata": {},
   "outputs": [
    {
     "name": "stdout",
     "output_type": "stream",
     "text": [
      "CPU times: user 33.6 ms, sys: 38.8 ms, total: 72.4 ms\n",
      "Wall time: 73 ms\n"
     ]
    }
   ],
   "source": [
    "%%time\n",
    "\n",
    "miljoen = 1_000_000\n",
    "even_nummers = [nummer for nummer in range(miljoen) if nummer % 2 == 0]"
   ]
  },
  {
   "cell_type": "markdown",
   "id": "0b322921-3ba5-48f6-b8ba-b884f85ba0d6",
   "metadata": {},
   "source": [
    "---"
   ]
  },
  {
   "cell_type": "markdown",
   "id": "b253bacf-8d37-4846-87f7-8154f042d7e3",
   "metadata": {},
   "source": [
    "### Comprehensions met een `if`-`else` statement"
   ]
  },
  {
   "cell_type": "markdown",
   "id": "866bf02a-050d-4e12-a5b6-3251079bff85",
   "metadata": {},
   "source": [
    "Een if-statement om te filteren is handig.  \n",
    "Maar een if-else-statement is veel handiger.  \n",
    "Dit kan ook in een comprehension via een [ternary] conditional expression.  \n",
    "\n",
    "Hieronder een voorbeeld van een list comprehension met een if-else statement.  \n",
    "\n",
    "[ternary]: https://en.wikipedia.org/wiki/%3F:#Python"
   ]
  },
  {
   "cell_type": "code",
   "execution_count": 8,
   "id": "74911292-0601-4791-986f-324791ac0716",
   "metadata": {},
   "outputs": [
    {
     "data": {
      "text/html": [
       "<!--[if IE]><meta http-equiv=\"X-UA-Compatible\" content=\"IE=5,IE=9\" ><![endif]-->\n",
       "<!DOCTYPE html>\n",
       "<html>\n",
       "<head>\n",
       "<title>📌 ( ͡° ͜ʖ ͡°)</title>\n",
       "<meta charset=\"utf-8\"/>\n",
       "</head>\n",
       "<body><div class=\"mxgraph\" style=\"max-width:100%;border:1px solid transparent;\" data-mxgraph=\"{&quot;highlight&quot;:&quot;#0000ff&quot;,&quot;lightbox&quot;:false,&quot;nav&quot;:true,&quot;resize&quot;:true,&quot;toolbar&quot;:&quot;zoom&quot;,&quot;xml&quot;:&quot;&lt;mxfile host=\\&quot;app.diagrams.net\\&quot; modified=\\&quot;2021-10-23T20:23:43.669Z\\&quot; agent=\\&quot;5.0 (X11; Linux x86_64) AppleWebKit/537.36 (KHTML, like Gecko) Chrome/94.0.4606.61 Safari/537.36\\&quot; etag=\\&quot;czI2tmtWElYASOo4o6Mu\\&quot; version=\\&quot;15.5.8\\&quot; type=\\&quot;device\\&quot;&gt;&lt;diagram id=\\&quot;VdwMkrw_iEAUlkfb9hNc\\&quot; name=\\&quot;Page-1\\&quot;&gt;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&lt;/diagram&gt;&lt;/mxfile&gt;&quot;}\"></div>\n",
       "<script type=\"text/javascript\" src=\"https://viewer.diagrams.net/js/viewer-static.min.js\"></script>\n",
       "</body>\n",
       "</html>\n"
      ],
      "text/plain": [
       "<IPython.core.display.HTML object>"
      ]
     },
     "execution_count": 8,
     "metadata": {},
     "output_type": "execute_result"
    }
   ],
   "source": [
    "from IPython import display\n",
    "display.HTML(filename=r'./docs/comprehension_ternary_expression.html')\n",
    "# hieronder een simpel overzicht over hoe een list comprehension met ternary expressie is opgebouwd"
   ]
  },
  {
   "cell_type": "markdown",
   "id": "59358cd2-9fcc-4204-933c-1fe6baebb801",
   "metadata": {},
   "source": [
    "Hieronder een voorbeeld van een for-loop en een list comprehension.  \n",
    "Allebei hebben de loops een if-else-statement.   \n",
    "Beide stukjes code maken twee lijsten uit een miljoen aantal nummers.  \n",
    "Een lijst met even nummers en een lijst met oneven nummers. "
   ]
  },
  {
   "cell_type": "code",
   "execution_count": 9,
   "id": "744480f3-066d-41d8-a993-38f40b4ed169",
   "metadata": {},
   "outputs": [
    {
     "name": "stdout",
     "output_type": "stream",
     "text": [
      "CPU times: user 119 ms, sys: 37.4 ms, total: 157 ms\n",
      "Wall time: 162 ms\n"
     ]
    }
   ],
   "source": [
    "%%time\n",
    "\n",
    "miljoen = 1_000_000\n",
    "oneven_nummers = list()\n",
    "even_nummers = list()\n",
    "for nummer in range(miljoen):\n",
    "    if nummer % 2 == 0:\n",
    "        even_nummers.append(nummer)\n",
    "    else:\n",
    "        oneven_nummers.append(nummer)"
   ]
  },
  {
   "cell_type": "code",
   "execution_count": 10,
   "id": "6cf97a5c-7d69-4500-8374-e35ff8a3778d",
   "metadata": {},
   "outputs": [
    {
     "name": "stdout",
     "output_type": "stream",
     "text": [
      "CPU times: user 95 ms, sys: 20.5 ms, total: 116 ms\n",
      "Wall time: 115 ms\n"
     ]
    }
   ],
   "source": [
    "%%time\n",
    "\n",
    "miljoen = 1_000_000\n",
    "oneven_nummers = []\n",
    "even_nummers = [nummer if nummer % 2 == 0 else oneven_nummers.append(nummer) for nummer in range(miljoen)]"
   ]
  },
  {
   "cell_type": "markdown",
   "id": "22d30a82-a824-4323-ba4e-f70d28adf797",
   "metadata": {},
   "source": [
    "---"
   ]
  },
  {
   "cell_type": "markdown",
   "id": "035c51b2-33df-4f6f-befa-cf6ebf5f5695",
   "metadata": {},
   "source": [
    "### Dubbele comprehension"
   ]
  },
  {
   "cell_type": "markdown",
   "id": "487d26c0-5b71-4b8b-b101-751ed1389810",
   "metadata": {},
   "source": [
    "Stel er is een Excel document met meerdere regels.  \n",
    "Elke regel heeft meerdere cellen met text.  \n",
    "Het is nodig dat er een lijst wordt gemaakt met de text uit elke cel van het document.  \n",
    "\n",
    "Een dubbele for-loop helpt dit doel te bereiken.  \n",
    "\n",
    "```\n",
    "for row in excel:\n",
    "   for cell in row:\n",
    "      # list.append( cell.get_text() )\n",
    "```\n",
    "\n",
    "Een for-loop is niet erg efficient, twee for-loops hebben dubbel het probleem.  \n",
    "Een comprehension efficienter en kan ook meerdere for-loops hebben. \n",
    "\n",
    "Hieronder een voorbeeld van een double list comprehension.  "
   ]
  },
  {
   "cell_type": "code",
   "execution_count": 11,
   "id": "941a24e7-432d-4a61-9b19-ed8a2389dce9",
   "metadata": {},
   "outputs": [
    {
     "data": {
      "text/html": [
       "<!--[if IE]><meta http-equiv=\"X-UA-Compatible\" content=\"IE=5,IE=9\" ><![endif]-->\n",
       "<!DOCTYPE html>\n",
       "<html>\n",
       "<head>\n",
       "<title>📌 ( ͡° ͜ʖ ͡°)</title>\n",
       "<meta charset=\"utf-8\"/>\n",
       "</head>\n",
       "<body><div class=\"mxgraph\" style=\"max-width:100%;border:1px solid transparent;\" data-mxgraph=\"{&quot;highlight&quot;:&quot;#0000ff&quot;,&quot;lightbox&quot;:false,&quot;nav&quot;:true,&quot;resize&quot;:true,&quot;toolbar&quot;:&quot;zoom&quot;,&quot;xml&quot;:&quot;&lt;mxfile host=\\&quot;app.diagrams.net\\&quot; modified=\\&quot;2021-10-23T19:13:18.816Z\\&quot; agent=\\&quot;5.0 (X11; Linux x86_64) AppleWebKit/537.36 (KHTML, like Gecko) Chrome/94.0.4606.61 Safari/537.36\\&quot; etag=\\&quot;mqlI3YTFi2EkYM8XJi3A\\&quot; version=\\&quot;15.5.8\\&quot; type=\\&quot;device\\&quot;&gt;&lt;diagram id=\\&quot;VdwMkrw_iEAUlkfb9hNc\\&quot; name=\\&quot;Page-1\\&quot;&gt;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&lt;/diagram&gt;&lt;/mxfile&gt;&quot;}\"></div>\n",
       "<script type=\"text/javascript\" src=\"https://viewer.diagrams.net/js/viewer-static.min.js\"></script>\n",
       "</body>\n",
       "</html>\n"
      ],
      "text/plain": [
       "<IPython.core.display.HTML object>"
      ]
     },
     "execution_count": 11,
     "metadata": {},
     "output_type": "execute_result"
    }
   ],
   "source": [
    "from IPython import display\n",
    "display.HTML(filename=r'./docs/double_comprehension_structure.html')\n",
    "# hieronder een simpel overzicht over hoe een dubbel list comprehension met expressie is opgebouwd"
   ]
  },
  {
   "cell_type": "markdown",
   "id": "256d1b1a-3776-4ec4-a4b7-527ea98ff736",
   "metadata": {},
   "source": [
    "Hieronder een voorbeeld van een nested for-loop en een double list comprehension.  \n",
    "Beide stukjes code maken de gegeven lijst plat.  \n",
    "Dit gebeurt door de nested lijst uit de lijst te halen en het object aan een lijst toe te voegen.   "
   ]
  },
  {
   "cell_type": "code",
   "execution_count": 12,
   "id": "f0e65668-9767-4e8e-9a05-46dbd923a307",
   "metadata": {},
   "outputs": [
    {
     "name": "stdout",
     "output_type": "stream",
     "text": [
      "CPU times: user 9 µs, sys: 0 ns, total: 9 µs\n",
      "Wall time: 11.4 µs\n"
     ]
    }
   ],
   "source": [
    "%%time\n",
    "\n",
    "nested_serie = [ ['a', 'b', 'c'], ['d', 'e', 'f'], ['g', 'h', 'i'], ['j', 'k', 'l'], \n",
    "                 ['m', 'n', 'o'], ['p', 'q', 'r'], ['s', 't', 'u'], ['v', 'w', 'x'] ]\n",
    "\n",
    "letter_lijst = list()\n",
    "for serie in nested_serie:\n",
    "    for letter in serie:\n",
    "        letter_lijst.append(letter)"
   ]
  },
  {
   "cell_type": "code",
   "execution_count": 13,
   "id": "179cefc0-a191-46da-93f7-d893e30a724d",
   "metadata": {},
   "outputs": [
    {
     "name": "stdout",
     "output_type": "stream",
     "text": [
      "CPU times: user 7 µs, sys: 0 ns, total: 7 µs\n",
      "Wall time: 9.3 µs\n"
     ]
    }
   ],
   "source": [
    "%%time\n",
    "\n",
    "nested_serie = [ ['a', 'b', 'c'], ['d', 'e', 'f'], ['g', 'h', 'i'], ['j', 'k', 'l'], \n",
    "                 ['m', 'n', 'o'], ['p', 'q', 'r'], ['s', 't', 'u'], ['v', 'w', 'x'] ]\n",
    "\n",
    "letter_lijst = [letter for serie in nested_serie for letter in serie]"
   ]
  },
  {
   "cell_type": "markdown",
   "id": "04e11e32-ccef-4c55-a07e-afdb199cf1e0",
   "metadata": {},
   "source": [
    "#### import this\n",
    "\n",
    "Als je het kan, zou je het dan moeten doen.  \n",
    "Je kan ook de vraag op een andere manier stellen: Is dit leesbaar, is dit onderhoudbaar, is dit niet te complex.  \n",
    "\n",
    "Als er vaak met matrix-structuur gewerkt wordt dan zou het kunnen.  \n",
    "Is het om een lijst plat te maken dan is de functie `itertools.chain.from_iterable` een betere optie.  "
   ]
  },
  {
   "cell_type": "markdown",
   "id": "4f24f2a2-522e-4a15-905f-f2aed62d7786",
   "metadata": {},
   "source": [
    "---"
   ]
  },
  {
   "cell_type": "markdown",
   "id": "599a217d-50d9-4aab-bb73-5df60e7f7c10",
   "metadata": {},
   "source": [
    "### Andere data container comprehensions"
   ]
  },
  {
   "cell_type": "markdown",
   "id": "68dab91d-8f1c-4525-b80c-9f58d195ad4e",
   "metadata": {},
   "source": [
    "Hierboven is gezien dat er een `list` op een efficiente manier gemaakt kan worden met een `list` comprehension.  \n",
    "Maar Python heeft ook `tuple`, `set` en `dict`.  \n",
    "Gelukkig wordt de comprehension-syntax op dezelfde manier geschreven.  \n",
    "Het enige verschil is de container en bij `dict` de notatie."
   ]
  },
  {
   "cell_type": "markdown",
   "id": "4b980205-5a34-48a1-b9d9-7d43bb96da44",
   "metadata": {},
   "source": [
    "Voorbeeld: `set` comprehension"
   ]
  },
  {
   "cell_type": "code",
   "execution_count": 14,
   "id": "8918651c-973f-4b15-b8aa-7b719a9ce7d7",
   "metadata": {},
   "outputs": [
    {
     "data": {
      "text/plain": [
       "{'a', 'b', 'c', 'd', 'e', 'f', 'g', 'h', 'i', 'j', 'k', 'l'}"
      ]
     },
     "execution_count": 14,
     "metadata": {},
     "output_type": "execute_result"
    }
   ],
   "source": [
    "nested_serie = [ ['a', 'b', 'c'], ['d', 'e', 'f'], ['g', 'h', 'i'], ['j', 'k', 'l'], \n",
    "                 ['d', 'e', 'f'], ['g', 'h', 'i'], ['a', 'b', 'c'], ['j', 'k', 'l'] ]\n",
    "\n",
    "unieke_letters = {letter for serie in nested_serie for letter in serie}\n",
    "unieke_letters"
   ]
  },
  {
   "cell_type": "markdown",
   "id": "c058bf92-79b6-406b-b5d0-59adeb18d708",
   "metadata": {},
   "source": [
    "Voorbeeld: `dict` comprehension"
   ]
  },
  {
   "cell_type": "code",
   "execution_count": 15,
   "id": "6eb4b6c2-60d0-4f8a-b29e-b8db8db4138f",
   "metadata": {},
   "outputs": [
    {
     "data": {
      "text/plain": [
       "{'plant': 'clusia', 'kleur': 'groen', 'klimaat': 'tropisch'}"
      ]
     },
     "execution_count": 15,
     "metadata": {},
     "output_type": "execute_result"
    }
   ],
   "source": [
    "from string import ascii_letters\n",
    "\n",
    "headers = [\"plant\", \"kleur\", \"klimaat\"]\n",
    "regel = [\" Clusia \", \"GROEN\", \"TRopisch\\n\\r\"]\n",
    "\n",
    "schone_row_dict = {header: value.strip().lower() for header, value in zip(headers, regel)}\n",
    "schone_row_dict"
   ]
  },
  {
   "cell_type": "markdown",
   "id": "3819df0d-e081-4a60-ace1-dbfcf66c4f2e",
   "metadata": {},
   "source": [
    "Voorbeeld: `tuple` comprehension"
   ]
  },
  {
   "cell_type": "code",
   "execution_count": 16,
   "id": "2afae85e-1fa4-4597-98f7-316ac68e19d2",
   "metadata": {},
   "outputs": [
    {
     "name": "stdout",
     "output_type": "stream",
     "text": [
      "('A', 'B', 'C', 'D', 'E', 'F', 'G', 'H', 'I', 'J', 'K', 'L', 'M', 'N', 'O', 'P', 'Q', 'R', 'S', 'T', 'U', 'V', 'W', 'X', 'Y', 'Z')\n"
     ]
    }
   ],
   "source": [
    "alphabet = tuple(chr(i) for i in range(65, (65 + 26)))\n",
    "print(alphabet)"
   ]
  },
  {
   "cell_type": "markdown",
   "id": "b3998f92-be87-45f0-a9b0-5f61da23561e",
   "metadata": {},
   "source": [
    "Uit alle comprehensions is `tuple` de enige waarbij de comprehension in de functie `tuple` geschreven moet worden.  \n",
    "Wordt dit niet gedaan dan maakt Python er een `generator` van."
   ]
  },
  {
   "cell_type": "code",
   "execution_count": 17,
   "id": "4d7e1f30-f3bc-4b6c-90e8-4af20cf493aa",
   "metadata": {},
   "outputs": [
    {
     "data": {
      "text/plain": [
       "<generator object <genexpr> at 0x7f1e0b72deb0>"
      ]
     },
     "execution_count": 17,
     "metadata": {},
     "output_type": "execute_result"
    }
   ],
   "source": [
    "alphabet = (chr(i) for i in range(65, (65 + 26)))\n",
    "alphabet"
   ]
  },
  {
   "cell_type": "markdown",
   "id": "b8f1906e-e68b-4969-8abd-c42c1ed012be",
   "metadata": {},
   "source": [
    "---"
   ]
  },
  {
   "cell_type": "markdown",
   "id": "35ca8b20-ff96-428a-843a-1173918ee928",
   "metadata": {
    "tags": []
   },
   "source": [
    "### Goed om te weten"
   ]
  },
  {
   "cell_type": "markdown",
   "id": "1e80da25-d2e3-400e-ba3b-4d8c4de897c0",
   "metadata": {},
   "source": [
    "Comprehensions hebben een eigen scope, de `enclosing` scope.  \n",
    "Comprehensions kunnen dus wel gebruik maken van objecten in een hogere scope, maar kan deze niet overschrijven.  \n",
    "Dit gedrag is anders dan een for-loop.\n",
    "\n",
    "Voorbeeld:"
   ]
  },
  {
   "cell_type": "code",
   "execution_count": 18,
   "id": "256afb66-f60f-40bc-a7e9-149ff3506cf0",
   "metadata": {},
   "outputs": [
    {
     "name": "stdout",
     "output_type": "stream",
     "text": [
      "999999\n"
     ]
    }
   ],
   "source": [
    "y = 0\n",
    "\n",
    "for y in range(1_000_000):  # `y` wordt overschreven\n",
    "    pass\n",
    "\n",
    "print(y)"
   ]
  },
  {
   "cell_type": "code",
   "execution_count": 19,
   "id": "872db5f2-5900-4436-bbbb-f953acf08cc8",
   "metadata": {},
   "outputs": [
    {
     "name": "stdout",
     "output_type": "stream",
     "text": [
      "0\n"
     ]
    }
   ],
   "source": [
    "y = 0\n",
    "\n",
    "[y for y in range(1_000_000)]  # `y` wordt niet overschreven\n",
    "\n",
    "print(y)"
   ]
  },
  {
   "cell_type": "markdown",
   "id": "40d8eb16-d04c-4e67-afae-fd3850767fd9",
   "metadata": {},
   "source": [
    "Is het wel nodig om het object in de hogere scope over te schrijven, dan kan dit met de [walrus operator] `:=`\n",
    "\n",
    "[walrus operator]: https://realpython.com/python-walrus-operator/"
   ]
  },
  {
   "cell_type": "code",
   "execution_count": 20,
   "id": "ea8d501e-ee49-48a3-8c9a-52a00f2cf6b9",
   "metadata": {},
   "outputs": [
    {
     "data": {
      "text/plain": [
       "999999"
      ]
     },
     "execution_count": 20,
     "metadata": {},
     "output_type": "execute_result"
    }
   ],
   "source": [
    "y = 0\n",
    "\n",
    "[(y := i) for i in range(1_000_000)]  # `y` wordt overschreven\n",
    "\n",
    "y"
   ]
  },
  {
   "cell_type": "code",
   "execution_count": null,
   "id": "c77c11ac-c650-43bd-822a-f13cdcadaa0e",
   "metadata": {},
   "outputs": [],
   "source": []
  }
 ],
 "metadata": {
  "kernelspec": {
   "display_name": "Python 3 (ipykernel)",
   "language": "python",
   "name": "python3"
  },
  "language_info": {
   "codemirror_mode": {
    "name": "ipython",
    "version": 3
   },
   "file_extension": ".py",
   "mimetype": "text/x-python",
   "name": "python",
   "nbconvert_exporter": "python",
   "pygments_lexer": "ipython3",
   "version": "3.9.7"
  }
 },
 "nbformat": 4,
 "nbformat_minor": 5
}