{
 "cells": [
  {
   "cell_type": "markdown",
   "id": "cfe6ed68-eca1-46d7-9665-3a5f86f5d3a5",
   "metadata": {},
   "source": [
    "# Webscraping"
   ]
  },
  {
   "cell_type": "markdown",
   "id": "c0dc1348",
   "metadata": {},
   "source": [
    "## Developer tools\n",
    "\n",
    "### Let op\n",
    "Als je al bekend bent met DeveloperTools zou je dit evt mogen overslaan. Wat wel belangrijk is is het gebruik van 'Network Tab' en XHR. Als je daar alles al van weet, mag je dit overslaan. \n",
    "\n",
    "Naast Python gaan we ook werken met de [Developer tools] van de web browser.  \n",
    "[Chrome] en [Firefox] hebben dat beiden in hun browser.  \n",
    "\n",
    "\n",
    "De toets `F12` of de sneltoetsen `Shift` + `Control` + `I` opent de developer tools van de browser.      \n",
    "\n",
    "\n",
    "[Developer tools]: https://en.wikipedia.org/wiki/Web_development_tools\n",
    "[Chrome]: https://developer.chrome.com/docs/devtools/open/ \"Chrome Developer tools\"\n",
    "[Firefox]: https://developer.mozilla.org/en-US/docs/Learn/Common_questions/What_are_browser_developer_tools \"Firefox Developer tools\""
   ]
  },
  {
   "cell_type": "markdown",
   "id": "cacc5291-7deb-4e48-8e88-4bc8388367b2",
   "metadata": {},
   "source": [
    "## Oefening met developer tools\n",
    "\n",
    "### Uitleg: Demo pagina DemoBlaze\n",
    "\n",
    "- Open een browser navigeer naar https://www.demoblaze.com/ en de developer tools.\n",
    "- Zet de opties Preserve logs, Disable cache aan en filter op XHR  \n",
    "\n",
    "> ![Developer tools](./img/devtools_XHR_filter.png \"Preserve logs, Disable cache, filter XHR\")"
   ]
  },
  {
   "cell_type": "markdown",
   "id": "dfb0abcb-487a-4914-bbde-0540aabeafb6",
   "metadata": {},
   "source": [
    "Open de demo website, we zien dat er wat XHR type requests gedaan wordt.\n",
    "\n",
    "De url https://www.demoblaze.com/config.json wordt opgevraagt met de GET method.  \n",
    "\n",
    "> ![Developer tools XHR get](./img/devtools_XHR_get_request.png \"GET request, XHR type response\")\n",
    "\n",
    "\n",
    "\n"
   ]
  },
  {
   "cell_type": "markdown",
   "id": "d6de7a1b-d3d1-4e76-a998-e400f3b2ba64",
   "metadata": {},
   "source": [
    "Observeer de gegevens die te zien zijn in de response data. \n",
    "\n",
    "Als we er op klikken zien we de data die verstuurd en terug gekregen is.  \n",
    "Onder de tab Response krijgen we de _Raw response data_ te zien.  \n",
    "Dit kan van alles zijn, HTML, javascript en in dit geval JSON.  \n",
    "\n",
    "> ![Developer tools XHR response](./img/devtools_XHR_response.png \"raw response\")\n",
    "\n",
    "- **Verder is er nog veel interessante data te zien in andere XHR requests, kijken of je die kunt vinden!**\n",
    "\n"
   ]
  },
  {
   "cell_type": "markdown",
   "id": "eb9e214e-c098-406d-9bf8-2bf106198c72",
   "metadata": {},
   "source": [
    "### Oefening: Demo pagina Computer database\n",
    "\n",
    "Open een browser en navigeer naar de demo pagina https://computer-database.gatling.io/computers \n",
    "\n",
    "Open de developer tools.  \n",
    "Klik op de next knop op de demo pagina.\n",
    "In de developer tools open kan er worden gezien dat er een GET request is geweest.  \n",
    "De request en de URL in de browser hebben een query.  \n",
    "\n",
    "> ![query string params](./img/devtools_query_params.png \"Query String Parameters\")\n",
    "\n",
    "Met wat giswerk kan er worden bedacht wat de query bevat.\n",
    "\n",
    "`p=0` de key `p` en de value als cijfer moet waarschijnlijk de pagina voorstellen.  \n",
    "`n=10` de key `n` is hoogstwaarschijnlijk het aantal items in de [table] op de pagina.  \n",
    "`s=name` de [table] is gesorteerd op naam, dus `s` is voor _sort_.  \n",
    "`d=asc` moet dan voor de manier van sorteren zijn, `asc` staat voor _ascending_.\n",
    "\n",
    "[table]: https://developer.mozilla.org/en-US/docs/Learn/HTML/Tables/Basics\n"
   ]
  },
  {
   "cell_type": "markdown",
   "id": "045e4abe-4eb6-47cb-bbb8-60336d63c8dd",
   "metadata": {},
   "source": [
    "Met deze kennis kunnen we een query maken voor een tabel met de benodigde regels.  \n",
    "De URL + query kan dan met Python-requests worden opgevraagd."
   ]
  },
  {
   "cell_type": "code",
   "execution_count": 8,
   "id": "2d663bcf-84d5-4879-a89c-16697a8544ac",
   "metadata": {},
   "outputs": [],
   "source": [
    "from urllib.parse import urljoin\n",
    "\n",
    "import requests\n",
    "from bs4 import BeautifulSoup"
   ]
  },
  {
   "cell_type": "code",
   "execution_count": 9,
   "id": "ab33f2c6",
   "metadata": {
    "jupyter": {
     "outputs_hidden": false
    },
    "pycharm": {
     "name": "#%%\n"
    }
   },
   "outputs": [
    {
     "data": {
      "text/plain": [
       "'https://computer-database.gatling.io/computers?p=0&n=5'"
      ]
     },
     "execution_count": 9,
     "metadata": {},
     "output_type": "execute_result"
    }
   ],
   "source": [
    "base_url = 'https://computer-database.gatling.io/computers'\n",
    "query = '?p={page}&n={rows}'\n",
    "url = urljoin(base_url, query.format(page=0, rows=5))  # pagina 0, regels 5\n",
    "url"
   ]
  },
  {
   "cell_type": "markdown",
   "id": "7dafc135-b64f-4137-8459-0f68e6259186",
   "metadata": {},
   "source": [
    "De URL is gecreeerd en"
   ]
  },
  {
   "cell_type": "code",
   "execution_count": 10,
   "id": "fb4d4f4f-c8c2-42b0-a46b-39a3007e1a0f",
   "metadata": {},
   "outputs": [],
   "source": [
    "res = requests.get(url)\n",
    "soup = BeautifulSoup(res.content, 'html.parser')"
   ]
  },
  {
   "cell_type": "markdown",
   "id": "f86fbf20-2b29-451a-a917-430912e2d5fd",
   "metadata": {},
   "source": [
    "Het is niet nodig maar notebook kan de HTML in de output cell weergeven.  \n",
    "Het kan handig zijn om te zien wat de gekregen HTML representeerd.  \n",
    "De HTML is zonder CSS opmaak dus kan er anders uit zien dan in de browser.  "
   ]
  },
  {
   "cell_type": "code",
   "execution_count": 11,
   "id": "628bd3cf-1ff4-493f-b69f-a6021a732ac2",
   "metadata": {
    "tags": []
   },
   "outputs": [
    {
     "data": {
      "text/html": [
       "<html><head><title>Computers database</title><link href=\"/assets/css/bootstrap.min.css\" media=\"screen\" rel=\"stylesheet\" type=\"text/css\"/><link href=\"/assets/css/main.css\" media=\"screen\" rel=\"stylesheet\" type=\"text/css\"/></head><body><header class=\"topbar\"><h1 class=\"fill\"><a class=\"fill\" href=\"/computers\">Computer database</a></h1></header><section id=\"main\"><h1>574 computers found</h1><div id=\"actions\"><form action=\"/computers\" method=\"GET\"><input id=\"searchbox\" name=\"f\" placeholder=\"Filter by computer name...\" required=\"required\" type=\"search\" value=\"\"/> <input class=\"btn primary\" id=\"searchsubmit\" type=\"submit\" value=\"Filter by name\"/><a class=\"btn success\" href=\"/computers/new\" id=\"add\">Add a new computer</a></form></div><table class=\"computers zebra-striped\"><thead><th class=\"col-name header headerSortUp\"><a href=\"/computers?p=0&amp;n=5&amp;s=name&amp;d=desc\">Computer name</a></th><th class=\"col-introduced header\"><a href=\"/computers?p=0&amp;n=5&amp;s=introduced&amp;d=asc\">Introduced</a></th><th class=\"col-discontinued header\"><a href=\"/computers?p=0&amp;n=5&amp;s=discontinued&amp;d=asc\">Discontinued</a></th><th class=\"col-company header\"><a href=\"/computers?p=0&amp;n=5&amp;s=companyName&amp;d=asc\">Company</a></th></thead><tbody><tr><td><a href=\"/computers/381\">ACE</a></td><td>-</td><td>-</td><td>-</td></tr><tr><td><a href=\"/computers/501\">AN/FSQ-32</a></td><td>01 Jan 1960</td><td>-</td><td>IBM</td></tr><tr><td><a href=\"/computers/500\">AN/FSQ-7</a></td><td>01 Jan 1958</td><td>-</td><td>IBM</td></tr><tr><td><a href=\"/computers/388\">APEXC</a></td><td>-</td><td>-</td><td>-</td></tr><tr><td><a href=\"/computers/355\">ARRA</a></td><td>-</td><td>-</td><td>-</td></tr></tbody></table><div class=\"pagination\" id=\"pagination\"><ul><li class=\"prev disabled\"><a>← Previous</a></li><li class=\"current\"><a>Displaying 1 to 5 of 574</a></li><li class=\"next\"><a href=\"/computers?p=1&amp;n=5&amp;s=name&amp;d=asc\">Next →</a></li></ul></div></section></body></html>"
      ],
      "text/plain": [
       "<IPython.core.display.HTML object>"
      ]
     },
     "execution_count": 11,
     "metadata": {},
     "output_type": "execute_result"
    }
   ],
   "source": [
    "# optioneel\n",
    "from IPython import display\n",
    "display.HTML(str(soup))"
   ]
  },
  {
   "cell_type": "markdown",
   "id": "48d2c1a2-3ac6-497d-b280-456da6b9a516",
   "metadata": {},
   "source": [
    "De data in de table van de HTML is nodig"
   ]
  },
  {
   "cell_type": "code",
   "execution_count": 12,
   "id": "4a2ab8da-1d1d-4752-8e3f-a317b40dd55b",
   "metadata": {
    "tags": []
   },
   "outputs": [
    {
     "data": {
      "text/html": [
       "<table class=\"computers zebra-striped\"><thead><th class=\"col-name header headerSortUp\"><a href=\"/computers?p=0&amp;n=5&amp;s=name&amp;d=desc\">Computer name</a></th><th class=\"col-introduced header\"><a href=\"/computers?p=0&amp;n=5&amp;s=introduced&amp;d=asc\">Introduced</a></th><th class=\"col-discontinued header\"><a href=\"/computers?p=0&amp;n=5&amp;s=discontinued&amp;d=asc\">Discontinued</a></th><th class=\"col-company header\"><a href=\"/computers?p=0&amp;n=5&amp;s=companyName&amp;d=asc\">Company</a></th></thead><tbody><tr><td><a href=\"/computers/381\">ACE</a></td><td>-</td><td>-</td><td>-</td></tr><tr><td><a href=\"/computers/501\">AN/FSQ-32</a></td><td>01 Jan 1960</td><td>-</td><td>IBM</td></tr><tr><td><a href=\"/computers/500\">AN/FSQ-7</a></td><td>01 Jan 1958</td><td>-</td><td>IBM</td></tr><tr><td><a href=\"/computers/388\">APEXC</a></td><td>-</td><td>-</td><td>-</td></tr><tr><td><a href=\"/computers/355\">ARRA</a></td><td>-</td><td>-</td><td>-</td></tr></tbody></table>"
      ],
      "text/plain": [
       "<IPython.core.display.HTML object>"
      ]
     },
     "execution_count": 12,
     "metadata": {},
     "output_type": "execute_result"
    }
   ],
   "source": [
    "table = soup.table\n",
    "display.HTML(str(table))"
   ]
  },
  {
   "cell_type": "markdown",
   "id": "3d8f3e07-ed96-41ff-9973-1694629378a7",
   "metadata": {},
   "source": [
    "Met een [list-comprehension] kan er  over de `<th>` tags geitereerd worden en zo uit elke tag de text filteren.  \n",
    "Een list-comprehension is een loop in een data container zoals een `list`.  \n",
    "De loop itereert en plaatst te objecten in een nieuwe data-container.  \n",
    "list-comprehensions zijn efficient en flexibel.\n",
    "\n",
    "[list-comprehension]: https://docs.python.org/3/tutorial/datastructures.html#list-comprehensions"
   ]
  },
  {
   "cell_type": "code",
   "execution_count": 13,
   "id": "25bdcdf1-8007-429d-a4ba-25ce8bb6119d",
   "metadata": {},
   "outputs": [
    {
     "data": {
      "text/plain": [
       "['Computer name', 'Introduced', 'Discontinued', 'Company']"
      ]
     },
     "execution_count": 13,
     "metadata": {},
     "output_type": "execute_result"
    }
   ],
   "source": [
    "headers = [h.get_text() for h in table.thead.find_all('th')]\n",
    "headers  # list met str objecten"
   ]
  },
  {
   "cell_type": "markdown",
   "id": "e0782e56-afdb-456b-bdbe-8a6ad24c280d",
   "metadata": {},
   "source": [
    "Nu er een lijst met headers is is er een indicatie welke cel wat bevat.  \n",
    "De headers kan gebruikt worden als _key_ in een dict.  \n",
    "De cellen in de regels zijn dan de _values_.  \n",
    "\n"
   ]
  },
  {
   "cell_type": "code",
   "execution_count": 44,
   "id": "dba29eb7-4fce-4c33-b6f8-be67b0f63fdd",
   "metadata": {},
   "outputs": [
    {
     "data": {
      "text/plain": [
       "[<tr><td><a href=\"/computers/381\">ACE</a></td><td>-</td><td>-</td><td>-</td></tr>,\n",
       " <tr><td><a href=\"/computers/501\">AN/FSQ-32</a></td><td>01 Jan 1960</td><td>-</td><td>IBM</td></tr>,\n",
       " <tr><td><a href=\"/computers/500\">AN/FSQ-7</a></td><td>01 Jan 1958</td><td>-</td><td>IBM</td></tr>,\n",
       " <tr><td><a href=\"/computers/388\">APEXC</a></td><td>-</td><td>-</td><td>-</td></tr>,\n",
       " <tr><td><a href=\"/computers/355\">ARRA</a></td><td>-</td><td>-</td><td>-</td></tr>]"
      ]
     },
     "execution_count": 44,
     "metadata": {},
     "output_type": "execute_result"
    }
   ],
   "source": [
    "rows = table.tbody.find_all('tr')\n",
    "rows  # list met bs4.element.Tag objecten"
   ]
  },
  {
   "cell_type": "markdown",
   "id": "367a0ad1-462e-4a25-b549-a25af97462cc",
   "metadata": {},
   "source": [
    "De headers en zijn de regels geparsed uit de table van de website.  \n",
    "Nu kan deze data in een CSV file of JSON gezet worden.\n",
    "\n",
    "Hieronder een voorbeeld hoe er een JSON van de data gemaakt kan worden."
   ]
  },
  {
   "cell_type": "code",
   "execution_count": 55,
   "id": "b48e0cbe-0941-45ee-a607-1905f3e3ecf0",
   "metadata": {},
   "outputs": [
    {
     "data": {
      "text/plain": [
       "'{\"rows\": [{\"Computer name\": \"ACE\", \"Introduced\": \"-\", \"Discontinued\": \"-\", \"Company\": \"-\"}, {\"Computer name\": \"AN/FSQ-32\", \"Introduced\": \"01 Jan 1960\", \"Discontinued\": \"-\", \"Company\": \"IBM\"}, {\"Computer name\": \"AN/FSQ-7\", \"Introduced\": \"01 Jan 1958\", \"Discontinued\": \"-\", \"Company\": \"IBM\"}, {\"Computer name\": \"APEXC\", \"Introduced\": \"-\", \"Discontinued\": \"-\", \"Company\": \"-\"}, {\"Computer name\": \"ARRA\", \"Introduced\": \"-\", \"Discontinued\": \"-\", \"Company\": \"-\"}]}'"
      ]
     },
     "execution_count": 55,
     "metadata": {},
     "output_type": "execute_result"
    }
   ],
   "source": [
    "import json\n",
    "\n",
    "row_list = []\n",
    "\n",
    "for row in rows:\n",
    "    row_text = [r.get_text() for r in row]  # list comprehension om een list met text te maken\n",
    "    # dict-zip\n",
    "    header_row_dict = dict(zip(headers, row_text))\n",
    "    row_list.append(header_row_dict)\n",
    "\n",
    "\n",
    "# creeer de json\n",
    "json.dumps({'rows': row_list})"
   ]
  },
  {
   "cell_type": "markdown",
   "id": "68546376-cd20-4e80-853f-1a8bec56d342",
   "metadata": {},
   "source": [
    "Hieronder een voorbeeld hoe de er een CSV file met de data gemaakt kan worden."
   ]
  },
  {
   "cell_type": "code",
   "execution_count": 54,
   "id": "deec48c0-8858-4e92-a554-79a8cadedd22",
   "metadata": {},
   "outputs": [
    {
     "data": {
      "text/plain": [
       "'Computer name,Introduced,Discontinued,Company\\nACE,-,-,-\\nAN/FSQ-32,01 Jan 1960,-,IBM\\nAN/FSQ-7,01 Jan 1958,-,IBM\\nAPEXC,-,-,-\\nARRA,-,-,-\\n'"
      ]
     },
     "execution_count": 54,
     "metadata": {},
     "output_type": "execute_result"
    }
   ],
   "source": [
    "import csv\n",
    "\n",
    "filename = 'gatling_io.txt'\n",
    "\n",
    "# `with` context manager\n",
    "with open(filename, 'w', newline='') as csvfile:\n",
    "    writer = csv.writer(csvfile)\n",
    "    \n",
    "    writer.writerow(headers)  # schrijf de header regel (fieldnames)\n",
    "    for row in rows:\n",
    "        row_text = [r.get_text() for r in row]\n",
    "        writer.writerow(row_text)  # schrijf de regels\n",
    "\n",
    "\n",
    "# open en lees de gemaakte file.\n",
    "open(filename, 'r').read()"
   ]
  }
 ],
 "metadata": {
  "kernelspec": {
   "display_name": "Python 3 (ipykernel)",
   "language": "python",
   "name": "python3"
  },
  "language_info": {
   "codemirror_mode": {
    "name": "ipython",
    "version": 3
   },
   "file_extension": ".py",
   "mimetype": "text/x-python",
   "name": "python",
   "nbconvert_exporter": "python",
   "pygments_lexer": "ipython3",
   "version": "3.9.7"
  }
 },
 "nbformat": 4,
 "nbformat_minor": 5
}
