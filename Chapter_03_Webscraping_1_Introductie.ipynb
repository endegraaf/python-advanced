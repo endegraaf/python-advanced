{
 "cells": [
  {
   "cell_type": "markdown",
   "id": "cfe6ed68-eca1-46d7-9665-3a5f86f5d3a5",
   "metadata": {},
   "source": [
    "# Introductie Webscraping"
   ]
  },
  {
   "cell_type": "markdown",
   "id": "36d5c3c4-a182-4c1d-8f30-4d9048816136",
   "metadata": {
    "tags": []
   },
   "source": [
    "Dit hoofdstuk worden manieren gepresenteerd hoe webpaginas te manipuleren zijn en hoe de data ervan te _scrapen_ is. \n",
    "\n",
    "> \"_Scrapen is een computertechniek waarbij software wordt gebruikt om informatie van webpagina's te extraheren en al dan niet te analyseren._\"  <sub>[wiki]<sub>\n",
    "\n",
    "\n",
    "Bij het webscrapen maak je in feite contact met een externe informatiebron.  \n",
    "Dit kan een website of API zijn.  \n",
    "Python kan gebruikt worden om daar de gegevens vandaan te halen (_scrapen_).  \n",
    "Deze data wordt vervolgens in de eigen omgeving opgeslagen.  \n",
    "    \n",
    "[wiki]: https://nl.wikipedia.org/wiki/Scrapen"
   ]
  },
  {
   "cell_type": "markdown",
   "id": "a3e3fd67-9c48-49ab-bd12-57d54f250c11",
   "metadata": {},
   "source": [
    "### Python libraries\n",
    "Python heeft een aantal [internet] tools die daarbij helpen.  \n",
    "De meest gebruike zijn [urllib.request] en [html.parser].  \n",
    "Deze libraries hebben een _low-level_ design waardoor het te customizen is.  \n",
    "Hierdoor moet er een hoop code schrijven om de functies zo te maken dat het doel wordt bereikt.  \n",
    "Gelukkig zijn er third-party libraries die een _high-level_ interface bieden.  \n",
    "Python heeft ook de [json] module om objecten te encoden naar json en inkomende json te decoden.\n",
    "\n",
    "[internet]: https://docs.python.org/3/library/internet.html \"Internet Protocols and Support\"\n",
    "[urllib.request]: https://docs.python.org/3/library/urllib.request.html \"Extensible library for opening URLs\"\n",
    "[json]: https://docs.python.org/3/library/json.html \"JSON encoder and decoder\"\n",
    "[html.parser]: https://docs.python.org/3/library/html.parser.html \"Simple HTML and XHTML parser\""
   ]
  },
  {
   "cell_type": "markdown",
   "id": "dca0ea27-6697-4f74-861b-92aafda2c364",
   "metadata": {},
   "source": [
    "Er zijn veel Third-party libraries de gebruikt kunnen worden om data van het web te halen.  \n",
    "Hieronder een kleine selectie waarvan we een paar in dit notebook gaat gebruiken.  \n",
    "\n",
    "[requests] is de _high-level_ interface om [HTTP request methods] te versturen naar API's of websites.  \n",
    "[beautifulsoup4] wordt gebruikt om HTML of XML te parsen.  \n",
    "[selenium], de meest bekende web-automation tool welk ook veel gebruikt wordt om websites te testen.  \n",
    "[scrapy] een web-crawler framework voor Python met een hoop features.  \n",
    "[httpx] de _next-generation_ HTTP client voor Python.  \n",
    "Als je bekend ben met [requests] dan is de overstap naar [httpx] klein.  \n",
    "Ondersteunt HTTP2 en de Python [async] functionaliteit, dit ondersteunt [requests] niet.\n",
    " \n",
    "\n",
    "\n",
    "[httpx]: https://www.python-httpx.org/ \"A next-generation HTTP client for Python\"\n",
    "[scrapy]: https://scrapy.org/ \"Web Crawling Framework\"\n",
    "[selenium]: https://www.selenium.dev/documentation/en/ \"selenium\"\n",
    "[beautifulsoup4]: https://beautiful-soup-4.readthedocs.io/en/latest/ \"Beautiful Soup\"\n",
    "[requests]: https://docs.python-requests.org/en/master/index.html \"Requests: HTTP for Humans\"\n",
    "\n",
    "[HTTP request methods]: https://developer.mozilla.org/en-US/docs/Web/HTTP/Methods \"HTTP request methods\"\n",
    "[async]: https://docs.python.org/3/library/asyncio.html"
   ]
  },
  {
   "cell_type": "code",
   "execution_count": null,
   "id": "c84d5ecc-a168-4f34-a659-3ea53137d58b",
   "metadata": {},
   "outputs": [],
   "source": []
  },
  {
   "cell_type": "markdown",
   "id": "c1127fa1-e424-4628-8399-fef73abeccb1",
   "metadata": {
    "tags": []
   },
   "source": [
    "---\n",
    "## Developer Tools\n",
    "\n",
    "Als je al bekend bent met Developer Tools zou je dit eventueel mogen overslaan.  \n",
    "\n",
    "---"
   ]
  },
  {
   "cell_type": "markdown",
   "id": "c52814d8-1e7e-42a1-9fb5-aa3fcd24b34c",
   "metadata": {
    "tags": []
   },
   "source": [
    "Naast Python gaan we ook werken met de [Developer Tools] van de web browser.  \n",
    "[Chrome] en [Firefox] hebben dat beiden in hun browser.  \n",
    "\n",
    "De toets `F12` of de sneltoets-combinatie `Shift + Control + I` opent de Developer Tools van de browser.      \n",
    "\n",
    "[Developer Tools]: https://en.wikipedia.org/wiki/Web_development_tools\n",
    "[Chrome]: https://developer.chrome.com/docs/devtools/open/ \"Chrome Developer tools\"\n",
    "[Firefox]: https://developer.mozilla.org/en-US/docs/Learn/Common_questions/What_are_browser_developer_tools \"Firefox Developer tools\""
   ]
  },
  {
   "cell_type": "markdown",
   "id": "05cd0ebd-9b25-40be-a589-df0f2b9d3c10",
   "metadata": {},
   "source": [
    "In de `Elements` tab van de Developer Tools kan het HTML document worden bekeken.  \n",
    "Ook kan de HTML-elementen van de webpagina worden opgezocht met de inspect knop of de sneltoets-combinatie `Shift + Control + C`.  \n",
    "Met de sneltoets-combinatie `Control + F` komt er een input tevoorschijn.  \n",
    "Hierin kan een CSS-selector of een XPath geschreven worden om elementen te vinden.  \n",
    "\n",
    "> ![Developer tools elements tab](./img/devtools_elements_tab.png \"Elements Tab\")"
   ]
  },
  {
   "cell_type": "markdown",
   "id": "200db44c-2761-4fda-8a83-58f36e806906",
   "metadata": {},
   "source": [
    "In de `Network` tab van de Developer Tools kan worden gezien wat voor connecties er zijn geweest met de website.  \n",
    "Alle headers, payloads, responses en queries van de requests kan worden ingezien.  \n",
    "Dit is enorm handig om er achter te komen wat er achter de schermen voor connecties gelegd wordt met de server van de website.  \n",
    "\n",
    "> ![Developer tools network tab](./img/devtools_network_tab.png \"Network Tab\")"
   ]
  },
  {
   "cell_type": "markdown",
   "id": "f0559e9f-6939-4b7b-b7d6-da96a2f2d1cf",
   "metadata": {},
   "source": [
    "In de `Console` tab kan je de errors zien die hebben plaatsgevonden op de webpagina.  \n",
    "Ook kan er Javascript geschreven worden.  \n",
    "Het is handig om een beetje Javascript kennis te hebben bij het webscrapen.  \n",
    "Selenium kan Javascript code injecteren in de browser.  \n",
    "Vaak word deze functionaliteit gebruikt om door de webpagina te scrollen.  \n",
    "\n",
    "\n",
    "> ![Developer tools network tab](./img/devtools_console_tab.png \"Console Tab\")"
   ]
  },
  {
   "cell_type": "markdown",
   "id": "8091c214-8e53-4fdd-8b09-f1b73a6b6f29",
   "metadata": {},
   "source": [
    "Als Web Developer of Tester van een website is de Developer Tools van de browser iets wat er dagelijks gebruikt wordt.  \n",
    "Er zijn veel meer opties en mogenlijkheden in de Developer Tools dan hier beschreven is.  \n",
    "Het is goed om de tijd te nemen om ermee bekend te raken.  "
   ]
  },
  {
   "cell_type": "code",
   "execution_count": null,
   "id": "c3b3b808-fb12-4400-ac08-ebf94e44e57d",
   "metadata": {},
   "outputs": [],
   "source": []
  }
 ],
 "metadata": {
  "kernelspec": {
   "display_name": "Python 3 (ipykernel)",
   "language": "python",
   "name": "python3"
  },
  "language_info": {
   "codemirror_mode": {
    "name": "ipython",
    "version": 3
   },
   "file_extension": ".py",
   "mimetype": "text/x-python",
   "name": "python",
   "nbconvert_exporter": "python",
   "pygments_lexer": "ipython3",
   "version": "3.9.7"
  }
 },
 "nbformat": 4,
 "nbformat_minor": 5
}
