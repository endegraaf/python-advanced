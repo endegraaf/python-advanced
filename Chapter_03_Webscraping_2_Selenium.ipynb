{
 "cells": [
  {
   "cell_type": "markdown",
   "id": "cfe6ed68-eca1-46d7-9665-3a5f86f5d3a5",
   "metadata": {},
   "source": [
    "# Webscraping"
   ]
  },
  {
   "cell_type": "markdown",
   "id": "f60e1aa2-f8d8-4222-bce0-dc25e56dfff3",
   "metadata": {},
   "source": [
    "---\n",
    "\n",
    "## Scrapen van een website met Selenium\n",
    "\n",
    "Scrapen met [Selenium] is niet de meest betrouwbare manier van webscraping.  \n",
    "Maar sommige websites hebben (veel) Javascript of [iframe] HTML tags of laden dynamisch nieuwe elementen waardoor de data moeilijk te scrapen is met andere technieken.  \n",
    "Het is dan toch mogenlijk om de website te scrapen met Selenium.\n",
    "\n",
    "---\n",
    "\n",
    "\n",
    "https://sroze.github.io/ngInfiniteScroll/demo_async.html is een demo website voor een [infinite scroll] Javascript module die werkt met het webapplicatieframework [AngularJS].  \n",
    "De website gebruikt de [Reddit API] om tot en met 1000 artikelen te laden als de einde van de pagina wordt bereikt.  \n",
    "In de notebook cells hieronder open we de demo website en gebruiken we Selenium (met een beetje Javascript) om te scrollen.\n",
    "De artikelen parsen \n",
    "\n",
    "\n",
    "\n",
    "[iframe]: https://www.w3docs.com/learn-html/html-iframe-tag.html\n",
    "[Selenium]: https://pypi.org/project/selenium/\n",
    "[webdriver_manager]: https://pypi.org/project/webdriver-manager/ \n",
    "\n",
    "[infinite scroll]: https://github.com/sroze/ngInfiniteScroll\n",
    "[AngularJS]: https://angularjs.org/\n",
    "\n",
    "[Reddit API]: https://www.reddit.com/dev/api\n"
   ]
  },
  {
   "cell_type": "code",
   "execution_count": 1,
   "id": "1b17ef40-baff-47c2-8e15-502d97b177af",
   "metadata": {},
   "outputs": [
    {
     "name": "stderr",
     "output_type": "stream",
     "text": [
      "\n",
      "\n",
      "====== WebDriver manager ======\n",
      "Current chromium version is 94.0.4606\n",
      "Get LATEST driver version for 94.0.4606\n",
      "There is no [linux64] chromedriver for browser 94.0.4606 in cache\n",
      "Get LATEST driver version for 94.0.4606\n",
      "Trying to download new driver from https://chromedriver.storage.googleapis.com/94.0.4606.61/chromedriver_linux64.zip\n",
      "Driver has been saved in cache [/home/egraaf/.wdm/drivers/chromedriver/linux64/94.0.4606.61]\n"
     ]
    },
    {
     "ename": "WebDriverException",
     "evalue": "Message: unknown error: DevToolsActivePort file doesn't exist\n",
     "output_type": "error",
     "traceback": [
      "\u001b[0;31m---------------------------------------------------------------------------\u001b[0m",
      "\u001b[0;31mWebDriverException\u001b[0m                        Traceback (most recent call last)",
      "\u001b[0;32m/tmp/ipykernel_64465/2640084725.py\u001b[0m in \u001b[0;36m<module>\u001b[0;34m\u001b[0m\n\u001b[1;32m     12\u001b[0m \u001b[0;34m\u001b[0m\u001b[0m\n\u001b[1;32m     13\u001b[0m \u001b[0;31m# driver = webdriver.Chrome(ChromeDriverManager().install())  # chrome\u001b[0m\u001b[0;34m\u001b[0m\u001b[0;34m\u001b[0m\u001b[0;34m\u001b[0m\u001b[0m\n\u001b[0;32m---> 14\u001b[0;31m \u001b[0mdriver\u001b[0m \u001b[0;34m=\u001b[0m \u001b[0mwebdriver\u001b[0m\u001b[0;34m.\u001b[0m\u001b[0mChrome\u001b[0m\u001b[0;34m(\u001b[0m\u001b[0mChromeDriverManager\u001b[0m\u001b[0;34m(\u001b[0m\u001b[0mchrome_type\u001b[0m\u001b[0;34m=\u001b[0m\u001b[0mChromeType\u001b[0m\u001b[0;34m.\u001b[0m\u001b[0mCHROMIUM\u001b[0m\u001b[0;34m)\u001b[0m\u001b[0;34m.\u001b[0m\u001b[0minstall\u001b[0m\u001b[0;34m(\u001b[0m\u001b[0;34m)\u001b[0m\u001b[0;34m)\u001b[0m  \u001b[0;31m# chromium\u001b[0m\u001b[0;34m\u001b[0m\u001b[0;34m\u001b[0m\u001b[0m\n\u001b[0m\u001b[1;32m     15\u001b[0m \u001b[0;31m# driver = webdriver.Firefox(executable_path=GeckoDriverManager().install())  # firefox\u001b[0m\u001b[0;34m\u001b[0m\u001b[0;34m\u001b[0m\u001b[0;34m\u001b[0m\u001b[0m\n",
      "\u001b[0;32m~/.local/share/virtualenvs/python-advanced-_OVQyoCY/lib/python3.8/site-packages/selenium/webdriver/chrome/webdriver.py\u001b[0m in \u001b[0;36m__init__\u001b[0;34m(self, executable_path, port, options, service_args, desired_capabilities, service_log_path, chrome_options, keep_alive)\u001b[0m\n\u001b[1;32m     74\u001b[0m \u001b[0;34m\u001b[0m\u001b[0m\n\u001b[1;32m     75\u001b[0m         \u001b[0;32mtry\u001b[0m\u001b[0;34m:\u001b[0m\u001b[0;34m\u001b[0m\u001b[0;34m\u001b[0m\u001b[0m\n\u001b[0;32m---> 76\u001b[0;31m             RemoteWebDriver.__init__(\n\u001b[0m\u001b[1;32m     77\u001b[0m                 \u001b[0mself\u001b[0m\u001b[0;34m,\u001b[0m\u001b[0;34m\u001b[0m\u001b[0;34m\u001b[0m\u001b[0m\n\u001b[1;32m     78\u001b[0m                 command_executor=ChromeRemoteConnection(\n",
      "\u001b[0;32m~/.local/share/virtualenvs/python-advanced-_OVQyoCY/lib/python3.8/site-packages/selenium/webdriver/remote/webdriver.py\u001b[0m in \u001b[0;36m__init__\u001b[0;34m(self, command_executor, desired_capabilities, browser_profile, proxy, keep_alive, file_detector, options)\u001b[0m\n\u001b[1;32m    155\u001b[0m             warnings.warn(\"Please use FirefoxOptions to set browser profile\",\n\u001b[1;32m    156\u001b[0m                           DeprecationWarning, stacklevel=2)\n\u001b[0;32m--> 157\u001b[0;31m         \u001b[0mself\u001b[0m\u001b[0;34m.\u001b[0m\u001b[0mstart_session\u001b[0m\u001b[0;34m(\u001b[0m\u001b[0mcapabilities\u001b[0m\u001b[0;34m,\u001b[0m \u001b[0mbrowser_profile\u001b[0m\u001b[0;34m)\u001b[0m\u001b[0;34m\u001b[0m\u001b[0;34m\u001b[0m\u001b[0m\n\u001b[0m\u001b[1;32m    158\u001b[0m         \u001b[0mself\u001b[0m\u001b[0;34m.\u001b[0m\u001b[0m_switch_to\u001b[0m \u001b[0;34m=\u001b[0m \u001b[0mSwitchTo\u001b[0m\u001b[0;34m(\u001b[0m\u001b[0mself\u001b[0m\u001b[0;34m)\u001b[0m\u001b[0;34m\u001b[0m\u001b[0;34m\u001b[0m\u001b[0m\n\u001b[1;32m    159\u001b[0m         \u001b[0mself\u001b[0m\u001b[0;34m.\u001b[0m\u001b[0m_mobile\u001b[0m \u001b[0;34m=\u001b[0m \u001b[0mMobile\u001b[0m\u001b[0;34m(\u001b[0m\u001b[0mself\u001b[0m\u001b[0;34m)\u001b[0m\u001b[0;34m\u001b[0m\u001b[0;34m\u001b[0m\u001b[0m\n",
      "\u001b[0;32m~/.local/share/virtualenvs/python-advanced-_OVQyoCY/lib/python3.8/site-packages/selenium/webdriver/remote/webdriver.py\u001b[0m in \u001b[0;36mstart_session\u001b[0;34m(self, capabilities, browser_profile)\u001b[0m\n\u001b[1;32m    250\u001b[0m         parameters = {\"capabilities\": w3c_caps,\n\u001b[1;32m    251\u001b[0m                       \"desiredCapabilities\": capabilities}\n\u001b[0;32m--> 252\u001b[0;31m         \u001b[0mresponse\u001b[0m \u001b[0;34m=\u001b[0m \u001b[0mself\u001b[0m\u001b[0;34m.\u001b[0m\u001b[0mexecute\u001b[0m\u001b[0;34m(\u001b[0m\u001b[0mCommand\u001b[0m\u001b[0;34m.\u001b[0m\u001b[0mNEW_SESSION\u001b[0m\u001b[0;34m,\u001b[0m \u001b[0mparameters\u001b[0m\u001b[0;34m)\u001b[0m\u001b[0;34m\u001b[0m\u001b[0;34m\u001b[0m\u001b[0m\n\u001b[0m\u001b[1;32m    253\u001b[0m         \u001b[0;32mif\u001b[0m \u001b[0;34m'sessionId'\u001b[0m \u001b[0;32mnot\u001b[0m \u001b[0;32min\u001b[0m \u001b[0mresponse\u001b[0m\u001b[0;34m:\u001b[0m\u001b[0;34m\u001b[0m\u001b[0;34m\u001b[0m\u001b[0m\n\u001b[1;32m    254\u001b[0m             \u001b[0mresponse\u001b[0m \u001b[0;34m=\u001b[0m \u001b[0mresponse\u001b[0m\u001b[0;34m[\u001b[0m\u001b[0;34m'value'\u001b[0m\u001b[0;34m]\u001b[0m\u001b[0;34m\u001b[0m\u001b[0;34m\u001b[0m\u001b[0m\n",
      "\u001b[0;32m~/.local/share/virtualenvs/python-advanced-_OVQyoCY/lib/python3.8/site-packages/selenium/webdriver/remote/webdriver.py\u001b[0m in \u001b[0;36mexecute\u001b[0;34m(self, driver_command, params)\u001b[0m\n\u001b[1;32m    319\u001b[0m         \u001b[0mresponse\u001b[0m \u001b[0;34m=\u001b[0m \u001b[0mself\u001b[0m\u001b[0;34m.\u001b[0m\u001b[0mcommand_executor\u001b[0m\u001b[0;34m.\u001b[0m\u001b[0mexecute\u001b[0m\u001b[0;34m(\u001b[0m\u001b[0mdriver_command\u001b[0m\u001b[0;34m,\u001b[0m \u001b[0mparams\u001b[0m\u001b[0;34m)\u001b[0m\u001b[0;34m\u001b[0m\u001b[0;34m\u001b[0m\u001b[0m\n\u001b[1;32m    320\u001b[0m         \u001b[0;32mif\u001b[0m \u001b[0mresponse\u001b[0m\u001b[0;34m:\u001b[0m\u001b[0;34m\u001b[0m\u001b[0;34m\u001b[0m\u001b[0m\n\u001b[0;32m--> 321\u001b[0;31m             \u001b[0mself\u001b[0m\u001b[0;34m.\u001b[0m\u001b[0merror_handler\u001b[0m\u001b[0;34m.\u001b[0m\u001b[0mcheck_response\u001b[0m\u001b[0;34m(\u001b[0m\u001b[0mresponse\u001b[0m\u001b[0;34m)\u001b[0m\u001b[0;34m\u001b[0m\u001b[0;34m\u001b[0m\u001b[0m\n\u001b[0m\u001b[1;32m    322\u001b[0m             response['value'] = self._unwrap_value(\n\u001b[1;32m    323\u001b[0m                 response.get('value', None))\n",
      "\u001b[0;32m~/.local/share/virtualenvs/python-advanced-_OVQyoCY/lib/python3.8/site-packages/selenium/webdriver/remote/errorhandler.py\u001b[0m in \u001b[0;36mcheck_response\u001b[0;34m(self, response)\u001b[0m\n\u001b[1;32m    240\u001b[0m                 \u001b[0malert_text\u001b[0m \u001b[0;34m=\u001b[0m \u001b[0mvalue\u001b[0m\u001b[0;34m[\u001b[0m\u001b[0;34m'alert'\u001b[0m\u001b[0;34m]\u001b[0m\u001b[0;34m.\u001b[0m\u001b[0mget\u001b[0m\u001b[0;34m(\u001b[0m\u001b[0;34m'text'\u001b[0m\u001b[0;34m)\u001b[0m\u001b[0;34m\u001b[0m\u001b[0;34m\u001b[0m\u001b[0m\n\u001b[1;32m    241\u001b[0m             \u001b[0;32mraise\u001b[0m \u001b[0mexception_class\u001b[0m\u001b[0;34m(\u001b[0m\u001b[0mmessage\u001b[0m\u001b[0;34m,\u001b[0m \u001b[0mscreen\u001b[0m\u001b[0;34m,\u001b[0m \u001b[0mstacktrace\u001b[0m\u001b[0;34m,\u001b[0m \u001b[0malert_text\u001b[0m\u001b[0;34m)\u001b[0m\u001b[0;34m\u001b[0m\u001b[0;34m\u001b[0m\u001b[0m\n\u001b[0;32m--> 242\u001b[0;31m         \u001b[0;32mraise\u001b[0m \u001b[0mexception_class\u001b[0m\u001b[0;34m(\u001b[0m\u001b[0mmessage\u001b[0m\u001b[0;34m,\u001b[0m \u001b[0mscreen\u001b[0m\u001b[0;34m,\u001b[0m \u001b[0mstacktrace\u001b[0m\u001b[0;34m)\u001b[0m\u001b[0;34m\u001b[0m\u001b[0;34m\u001b[0m\u001b[0m\n\u001b[0m\u001b[1;32m    243\u001b[0m \u001b[0;34m\u001b[0m\u001b[0m\n\u001b[1;32m    244\u001b[0m     \u001b[0;32mdef\u001b[0m \u001b[0m_value_or_default\u001b[0m\u001b[0;34m(\u001b[0m\u001b[0mself\u001b[0m\u001b[0;34m,\u001b[0m \u001b[0mobj\u001b[0m\u001b[0;34m,\u001b[0m \u001b[0mkey\u001b[0m\u001b[0;34m,\u001b[0m \u001b[0mdefault\u001b[0m\u001b[0;34m)\u001b[0m\u001b[0;34m:\u001b[0m\u001b[0;34m\u001b[0m\u001b[0;34m\u001b[0m\u001b[0m\n",
      "\u001b[0;31mWebDriverException\u001b[0m: Message: unknown error: DevToolsActivePort file doesn't exist\n"
     ]
    }
   ],
   "source": [
    "from collections import namedtuple\n",
    "\n",
    "from bs4 import BeautifulSoup\n",
    "\n",
    "from selenium import webdriver\n",
    "from selenium.webdriver.common.by import By\n",
    "from selenium.webdriver.remote.webdriver import WebDriver\n",
    "from selenium.webdriver.remote.webelement import WebElement\n",
    "\n",
    "from webdriver_manager.chrome import ChromeDriverManager\n",
    "from webdriver_manager.utils import ChromeType\n",
    "\n",
    "# driver = webdriver.Chrome(ChromeDriverManager().install())  # chrome\n",
    "driver = webdriver.Chrome(ChromeDriverManager(chrome_type=ChromeType.CHROMIUM).install())  # chromium\n",
    "# driver = webdriver.Firefox(executable_path=GeckoDriverManager().install())  # firefox"
   ]
  },
  {
   "cell_type": "markdown",
   "id": "86260497-ebfd-4510-b3ca-bb84e0fbe218",
   "metadata": {},
   "source": [
    "Er browser die geopend is bij het aanroepen van de `webdriver.Chrome`.   \n",
    "Deze browser wordt nu gecommandeerd door Python via het `driver` object.  \n",
    "\n",
    "Selenium heeft geen commando om de browser te scrollen maar Javascript wel.  \n",
    "Selenium kan javascript injecteren in de browser die gestart is door Selenium.\n",
    "\n",
    "Hieronder een functie die de viewport van de browser naar beneden laat scrollen.  "
   ]
  },
  {
   "cell_type": "code",
   "execution_count": null,
   "id": "61801221-32c0-4c9f-b5af-3e9882da247f",
   "metadata": {},
   "outputs": [],
   "source": [
    "def scroll_to_end(driver: WebDriver):\n",
    "    \"\"\"use javascript to scroll to the bottom of the website\"\"\"\n",
    "    code = 'window.scrollTo(0, document.body.scrollHeight)'\n",
    "    driver.execute_script(code)"
   ]
  },
  {
   "cell_type": "markdown",
   "id": "0d6995c8-d460-4bb2-90ed-3cdca817d3db",
   "metadata": {},
   "source": [
    "Door een URL te geven aan het `get` functie van het `webdriver` object wordt er een webpagina geopend in de browser.  "
   ]
  },
  {
   "cell_type": "code",
   "execution_count": null,
   "id": "476d167d-5079-482d-90c6-ef21a6da915b",
   "metadata": {},
   "outputs": [],
   "source": [
    "url = 'https://sroze.github.io/ngInfiniteScroll/demo_async.html'\n",
    "driver.get(url)"
   ]
  },
  {
   "cell_type": "markdown",
   "id": "75bc6dda-30b9-4baa-a780-7ed88871f1e3",
   "metadata": {},
   "source": [
    "In de developer tools onder de tab Elements kan er een [XPath] worden gemaakt om een pad naar `WebElement` te maken.  \n",
    "De input om dit te doen wordt met de toetsencombinatie `Ctrl + F` geactiveerd. \n",
    "\n",
    "Met de functie `find_elements_by_xpath` _(elements meervoud)_ wordt alle webelementen opgevraagd die dat XPath hebben.\n",
    "\n",
    "[XPath]: https://nl.wikipedia.org/wiki/XPath"
   ]
  },
  {
   "cell_type": "code",
   "execution_count": null,
   "id": "ef44bce9-8d4e-46b0-8fc1-fb82d5b40607",
   "metadata": {
    "tags": []
   },
   "outputs": [],
   "source": [
    "xpath_item = \"//div[@class='demo-container']/div[contains(@class, 'item')]\"\n",
    "items = driver.find_elements_by_xpath(xpath_item)\n",
    "items[0]  # check het eerste object in de lijst met WebElements"
   ]
  },
  {
   "cell_type": "markdown",
   "id": "03957ac9-12c0-45b4-b139-418645eb5ad8",
   "metadata": {},
   "source": [
    "Hieronder is er een functie gemaakt die de `WebElement` als argument verwacht.  \n",
    "Met BeautifulSoup wordt dan de HTML geparsed om alle data te verkrijgen.  \n",
    "De data wordt opgevraagd, opgeschoond en direct in een `dict` geplaatst.  \n",
    "De `dict` met data wordt na het voltooien van de functie teruggegeven door de functie.  "
   ]
  },
  {
   "cell_type": "code",
   "execution_count": null,
   "id": "c0688af7-1585-414a-bb90-c592e3a7bc93",
   "metadata": {
    "tags": []
   },
   "outputs": [],
   "source": [
    "def get_data(item: WebElement) -> dict:\n",
    "    assert isinstance(item, WebElement), f'received type: {type(item)!r}'    \n",
    "    html = item.get_attribute('outerHTML')\n",
    "    soup = BeautifulSoup(html, 'html.parser')\n",
    "    result = {\n",
    "        'score': int(soup.find('span', {'class': 'score'}).text.strip()),  # string to int\n",
    "        'title': soup.find('span', {'class': 'title'}).text.strip(),\n",
    "        'url':   soup.find('a').get('href')\n",
    "    }\n",
    "    return result"
   ]
  },
  {
   "cell_type": "markdown",
   "id": "3066529c-189c-4db1-b471-554000d959a5",
   "metadata": {},
   "source": [
    "Hieronder de geparste data van het eerste object in de lijst met WebElements.  "
   ]
  },
  {
   "cell_type": "code",
   "execution_count": null,
   "id": "b86731fa-8150-40ba-8d20-e3fa44be960e",
   "metadata": {
    "tags": []
   },
   "outputs": [],
   "source": [
    "get_data(items[0])"
   ]
  },
  {
   "cell_type": "markdown",
   "id": "2be687e6-410c-470a-ae2c-8d2836fcd128",
   "metadata": {},
   "source": [
    "Alle logica is gecreëerd om de browser te scrollen, data op te vragen en de data te parsen.  \n",
    "Om alle data op te vragen wordt hieronder een `while` loop gebruikt.  "
   ]
  },
  {
   "cell_type": "code",
   "execution_count": 10,
   "id": "a0bc3562-2f0b-4df0-bfd7-b72a25890e69",
   "metadata": {},
   "outputs": [],
   "source": [
    "items = []\n",
    "while len(items) < 999:\n",
    "    items = driver.find_elements_by_xpath(xpath_item)\n",
    "    scroll_to_end(driver)    "
   ]
  },
  {
   "cell_type": "code",
   "execution_count": 15,
   "id": "a7cac95f-6148-4830-af54-5a77b317b270",
   "metadata": {},
   "outputs": [
    {
     "data": {
      "text/plain": [
       "1000"
      ]
     },
     "execution_count": 15,
     "metadata": {},
     "output_type": "execute_result"
    }
   ],
   "source": [
    "len(items)  # check hoe veel objecten de lijst items bevat"
   ]
  },
  {
   "cell_type": "markdown",
   "id": "e0284eb7-e8c8-410c-8b96-8aa754ec929b",
   "metadata": {},
   "source": [
    "Alle data is verkregen en nu kan hier wat mee worden gedaan.  \n",
    "Bijvoorbeeld kan het artikel met de hoogste score worden opgevraagd.  "
   ]
  },
  {
   "cell_type": "code",
   "execution_count": 21,
   "id": "7ec7050e-d258-4c3a-a6da-831f61bcf617",
   "metadata": {
    "tags": []
   },
   "outputs": [
    {
     "data": {
      "text/plain": [
       "{'score': 103407,\n",
       " 'title': 'The best come back ever',\n",
       " 'url': 'https://v.redd.it/jg0krsmkj4p71'}"
      ]
     },
     "execution_count": 21,
     "metadata": {},
     "output_type": "execute_result"
    }
   ],
   "source": [
    "# een generator is een luie functie die data geeft waneer dit wordt opgevraagd.  \n",
    "item_generator = (get_data(item) for item in items)\n",
    "\n",
    "# verklaar objecten die gebruikt worden in de for-loop\n",
    "best_article = {}\n",
    "max_score = 0\n",
    "\n",
    "# loop om het artikel met de hoogste score te verkrijgen\n",
    "for data in item_generator:\n",
    "    score = data['score']\n",
    "    if max_score < score:\n",
    "        max_score = score\n",
    "        best_article = data\n",
    "\n",
    "best_article"
   ]
  },
  {
   "cell_type": "code",
   "execution_count": 12,
   "id": "ee6de739-b278-4524-b58b-74ed275ab4c6",
   "metadata": {},
   "outputs": [
    {
     "ename": "NameError",
     "evalue": "name 'driver' is not defined",
     "output_type": "error",
     "traceback": [
      "\u001b[0;31m---------------------------------------------------------------------------\u001b[0m",
      "\u001b[0;31mNameError\u001b[0m                                 Traceback (most recent call last)",
      "\u001b[0;32m/tmp/ipykernel_36804/4006584204.py\u001b[0m in \u001b[0;36m<module>\u001b[0;34m\u001b[0m\n\u001b[0;32m----> 1\u001b[0;31m \u001b[0mdriver\u001b[0m\u001b[0;34m.\u001b[0m\u001b[0mquit\u001b[0m\u001b[0;34m(\u001b[0m\u001b[0;34m)\u001b[0m\u001b[0;34m\u001b[0m\u001b[0;34m\u001b[0m\u001b[0m\n\u001b[0m",
      "\u001b[0;31mNameError\u001b[0m: name 'driver' is not defined"
     ]
    }
   ],
   "source": [
    "driver.quit()\n"
   ]
  },
  {
   "cell_type": "code",
   "execution_count": null,
   "id": "1967b8e1-212b-46ce-b1e0-677beb8e5f13",
   "metadata": {},
   "outputs": [],
   "source": []
  }
 ],
 "metadata": {
  "kernelspec": {
   "display_name": "Python 3 (ipykernel)",
   "language": "python",
   "name": "python3"
  },
  "language_info": {
   "codemirror_mode": {
    "name": "ipython",
    "version": 3
   },
   "file_extension": ".py",
   "mimetype": "text/x-python",
   "name": "python",
   "nbconvert_exporter": "python",
   "pygments_lexer": "ipython3",
   "version": "3.8.10"
  }
 },
 "nbformat": 4,
 "nbformat_minor": 5
}
