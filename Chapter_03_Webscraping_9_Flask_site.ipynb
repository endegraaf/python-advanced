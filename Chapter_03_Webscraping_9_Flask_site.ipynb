{
 "cells": [
  {
   "cell_type": "markdown",
   "id": "cfe6ed68-eca1-46d7-9665-3a5f86f5d3a5",
   "metadata": {},
   "source": [
    "# Webscraping (opzetten van een Flask site)"
   ]
  },
  {
   "cell_type": "markdown",
   "id": "f60e1aa2-f8d8-4222-bce0-dc25e56dfff3",
   "metadata": {},
   "source": [
    "## Opzetten van een Flask site\n",
    "\n",
    "Nu dat we wat meer bekwaamheid hebben met het scrapen van gegevens, wil je waarschijnlijk ergens de data weergeven. Kan zijn via een mooie grafiek of een excelsheet. Dit zijn echter zeer waarschijnlijk eindresultaten van het analyseren van ruwe gegevens. Gegevens moeten worden omgezet naar informatie. Om informatie te maken zul je gegevens moeten interpreteren om waarde uit een bepaalde set van gegevens te halen.\n",
    "\n",
    "De eenvoudigste manier is om gegevens in een database op te slaan zodat deze later weer opgehaald kunnen worden door bevragingen (queries). We gaan in deze training niet teveel door op allerlei verschillende DBMS'en maar voor ons gemak (en om relatief snel te kunnen oefenenen) zullen we een MySQL database gebruiken. MySQL is een relationeel datbasesysteem waar vandaag de dag nog steeds veel gebruik van wordt gemaakt. Echter zie je ook veel meer bij 'big-data' achtige systemen (denk aan data-lakes) andere databases zoals NoSQL databases. Die werken op een andere manier. Denk bijvoorbeeld aan MongoDB.\n",
    "\n",
    "Terug naar waar we mee bezig zijn. We gaan dus voor deze oefening gegevens in een database opslaan. Werk je op Windows, dan kun je hier MySQL vandaan halen als je lokaal wilt werken ten minste. \n",
    "\n"
   ]
  }
 ],
 "metadata": {
  "kernelspec": {
   "display_name": "Python 3 (ipykernel)",
   "language": "python",
   "name": "python3"
  },
  "language_info": {
   "codemirror_mode": {
    "name": "ipython",
    "version": 3
   },
   "file_extension": ".py",
   "mimetype": "text/x-python",
   "name": "python",
   "nbconvert_exporter": "python",
   "pygments_lexer": "ipython3",
   "version": "3.8.10"
  }
 },
 "nbformat": 4,
 "nbformat_minor": 5
}
