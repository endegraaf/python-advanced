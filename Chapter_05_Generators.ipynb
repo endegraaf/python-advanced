{
 "cells": [
  {
   "cell_type": "markdown",
   "id": "501923bd-5ef7-4bf0-b684-4c441f6e7817",
   "metadata": {},
   "source": [
    "__info__  \n",
    "In cellen van dit notebook wordt regelmatig het volgende commando gebruikt: `%%time`  \n",
    "Dit commando is een IPython/Jupyter notebook [magic command].  \n",
    "Het commando laat zien hoelang de executie van de code in de cell duurde.  \n",
    "Vaak duurt een stukje code micro-seconden (`µs`) of milli-seconden (`ms`).  \n",
    "\n",
    "[magic command]: https://ipython.readthedocs.io/en/stable/interactive/magics.html"
   ]
  },
  {
   "cell_type": "markdown",
   "id": "dd20d3af-ab71-45ab-8fbc-9eef5f6f3cdf",
   "metadata": {
    "tags": []
   },
   "source": [
    "# Generators\n"
   ]
  },
  {
   "cell_type": "markdown",
   "id": "8a6ac2ed-d015-4ae5-9b1a-2011721dd8d8",
   "metadata": {
    "tags": []
   },
   "source": [
    "## Intro\n",
    "\n",
    "In dit notebook gaan we leren wat _generators_ zijn in Python.  "
   ]
  },
  {
   "cell_type": "markdown",
   "id": "4257e189-1f9d-4f61-abcc-6b190f95b8d0",
   "metadata": {},
   "source": [
    "### Generator expressie"
   ]
  },
  {
   "cell_type": "markdown",
   "id": "d52a670e-3e96-441c-ae0c-f3124f9b9fa6",
   "metadata": {},
   "source": [
    "Een generator expressie is hetzelfde opgebouwd als een comprehension expressie.  \n",
    "De generator schrijf je met de _parentheses_ `( )`.  "
   ]
  },
  {
   "cell_type": "code",
   "execution_count": 1,
   "id": "c3736c75-5e57-4532-b755-5f4df7e77e1f",
   "metadata": {},
   "outputs": [
    {
     "data": {
      "text/plain": [
       "<generator object <genexpr> at 0x7f6654762510>"
      ]
     },
     "execution_count": 1,
     "metadata": {},
     "output_type": "execute_result"
    }
   ],
   "source": [
    "# generator expressie\n",
    "(nummer for nummer in [1, 2, 3, ...])"
   ]
  },
  {
   "cell_type": "markdown",
   "id": "ce3a5ae1-f708-49d8-8d30-745dcb497592",
   "metadata": {},
   "source": [
    "### Wat is het verschil tussen comprehension of generators expressions"
   ]
  },
  {
   "cell_type": "code",
   "execution_count": 2,
   "id": "c3d68f9f-2174-4ca1-af8b-edf3da8e9f96",
   "metadata": {},
   "outputs": [],
   "source": [
    "import sys\n",
    "# import sys voor de sys.getsizeof"
   ]
  },
  {
   "cell_type": "code",
   "execution_count": 3,
   "id": "c5d4c383-d46f-45d8-882b-b3fd895d7ad5",
   "metadata": {},
   "outputs": [
    {
     "name": "stdout",
     "output_type": "stream",
     "text": [
      "CPU times: user 35.9 ms, sys: 19 ms, total: 54.9 ms\n",
      "Wall time: 54.7 ms\n"
     ]
    },
    {
     "data": {
      "text/plain": [
       "'8.448728 MB'"
      ]
     },
     "execution_count": 3,
     "metadata": {},
     "output_type": "execute_result"
    }
   ],
   "source": [
    "%%time\n",
    "\n",
    "comprehension = [nummer for nummer in range(1_000_000)]\n",
    "size = float(sys.getsizeof(comprehension) / (1000 ** 2))\n",
    "\n",
    "f\"{size} MB\""
   ]
  },
  {
   "cell_type": "code",
   "execution_count": 4,
   "id": "0adf4017-8ada-453e-a6f8-4ab1866f5f96",
   "metadata": {},
   "outputs": [
    {
     "name": "stdout",
     "output_type": "stream",
     "text": [
      "CPU times: user 21 µs, sys: 3 µs, total: 24 µs\n",
      "Wall time: 27.7 µs\n"
     ]
    },
    {
     "data": {
      "text/plain": [
       "'0.112 KB'"
      ]
     },
     "execution_count": 4,
     "metadata": {},
     "output_type": "execute_result"
    }
   ],
   "source": [
    "%%time\n",
    "\n",
    "generator = (nummer for nummer in range(1_000_000))\n",
    "size = float(sys.getsizeof(generator) / (1000 ** 1))\n",
    "\n",
    "f\"{size} KB\""
   ]
  },
  {
   "cell_type": "markdown",
   "id": "b3059eb1-1bf2-4ef2-89a5-b9dfc7a9b081",
   "metadata": {},
   "source": [
    "Het verschil tussen de comprehension en de generator is dat de comprehension iets met waarde heeft gemaakt.  \n",
    "In dit geval: een lijst met een miljoen cijfers.  \n",
    "\n",
    "De generator heeft nog niks gedaan, de generator geeft pas waneer de code er om vraagt.  \n",
    "Dit kunnen we doen door te declareren dat de objecten in de generator in een lijst moeten komen.   "
   ]
  },
  {
   "cell_type": "code",
   "execution_count": 5,
   "id": "090be4d8-6e20-44d3-b7db-16d822f7421f",
   "metadata": {},
   "outputs": [
    {
     "name": "stdout",
     "output_type": "stream",
     "text": [
      "CPU times: user 34.2 ms, sys: 27.9 ms, total: 62.1 ms\n",
      "Wall time: 65.7 ms\n"
     ]
    },
    {
     "data": {
      "text/plain": [
       "'8.448728 MB'"
      ]
     },
     "execution_count": 5,
     "metadata": {},
     "output_type": "execute_result"
    }
   ],
   "source": [
    "%%time\n",
    "\n",
    "generator = (nummer for nummer in range(1_000_000))\n",
    "list_of_generator = list(generator)\n",
    "size = float(sys.getsizeof(list_of_generator) / (1000 ** 2))\n",
    "\n",
    "f\"{size} MB\""
   ]
  },
  {
   "cell_type": "markdown",
   "id": "4627e58c-3be3-46d2-8ddf-2d3012ce6e6f",
   "metadata": {},
   "source": [
    "Er zijn alle de objecten uit de generator gehaald.  \n",
    "Er kan dus gezegd worden dat de generator is uitgeput.  \n",
    "De list die gemaakt is heeft dezelfde grootte als de comprehension.  \n",
    "\n",
    "Dus wat is nou het voordeel van een generator?"
   ]
  },
  {
   "cell_type": "code",
   "execution_count": 6,
   "id": "fbd200ba-31eb-48e6-badf-08a44b9ab8f4",
   "metadata": {},
   "outputs": [
    {
     "data": {
      "text/plain": [
       "'Gemiddelde grootte van alle objecten in de generator: 0.027999996 KB'"
      ]
     },
     "execution_count": 6,
     "metadata": {},
     "output_type": "execute_result"
    }
   ],
   "source": [
    "from statistics import mean\n",
    "\n",
    "generator = (nummer for nummer in range(1_000_000))\n",
    "size_gen = (float(sys.getsizeof(item) / (1000 ** 1)) for item in generator)\n",
    "mean_size = mean(size_gen)\n",
    "\n",
    "f\"Gemiddelde grootte van alle objecten in de generator: {mean_size} KB\""
   ]
  },
  {
   "cell_type": "markdown",
   "id": "a0a420f9-c89f-4d28-bf52-45c747a27f09",
   "metadata": {},
   "source": [
    "Elke item die gebruikt is heeft een gemiddelde grootte van 0.03 Kilobyte.  \n",
    "Dit is significant veel kleiner dan de `list` die ruim 8 Megabyte aan ruimte nodig heeft.  \n",
    "Toch is dezelfde data gegenereerd wat in de `list` voorkomt.  "
   ]
  },
  {
   "cell_type": "markdown",
   "id": "1d1afcdf-950c-4b7a-997a-ddfc96f78322",
   "metadata": {},
   "source": [
    "## Wat is een Generator"
   ]
  },
  {
   "cell_type": "markdown",
   "id": "06763ab3-9fcb-45bd-928c-ae63fc274d3b",
   "metadata": {},
   "source": [
    "Een [generator] is een [luie] functie dat een _stream_ aan data representeerd.  \n",
    "De generator genereert een [iterator] wat pas een object geeft als deze met [`next`] wordt opgevraagd.  \n",
    "Als de generator is uitgeput als deze volledig is gebruikt.  \n",
    "Er zal een [`StopIteration`] exception ge-_raised_ worden als er nog eens een next wordt gebruikt op de generator.    \n",
    "\n",
    "\n",
    "[luie]: https://nl.wikipedia.org/wiki/Luie_evaluatie\n",
    "[generator]: https://docs.python.org/3/glossary.html#term-generator\n",
    "[iterator]: https://docs.python.org/3/glossary.html#term-iterator\n",
    "[`next`]: https://docs.python.org/3/library/functions.html#next\n",
    "[`StopIteration`]: https://docs.python.org/3/library/exceptions.html#StopIteration"
   ]
  },
  {
   "cell_type": "code",
   "execution_count": 7,
   "id": "80376b5c-38de-459d-a83e-2a3e2cb746ab",
   "metadata": {},
   "outputs": [
    {
     "name": "stdout",
     "output_type": "stream",
     "text": [
      "next nr. 1:  a\n",
      "next nr. 2:  b\n"
     ]
    }
   ],
   "source": [
    "# generator met 2 items\n",
    "gen = (x for x in ['a', 'b'])\n",
    "\n",
    "print(\"next nr. 1: \", next(gen))\n",
    "print(\"next nr. 2: \", next(gen))\n",
    "# print(\"next nr. 3: \", next(gen))  # uncomment voor StopIteration exception"
   ]
  },
  {
   "cell_type": "markdown",
   "id": "dc2f6f9b-2b53-4432-a322-ff5f86bd64b2",
   "metadata": {},
   "source": [
    "### Generator functie met `yield`\n",
    "\n",
    "Een generator is dus een functie, maar tot nu toe is alleen de [generator expressie] geschreven.  \n",
    "In een functie kan de [`yield`] statement gebruikt worden om van een functie een generator te maken.  \n",
    "\n",
    "[`yield`]: https://docs.python.org/3/reference/expressions.html#yield-expressions\n",
    "[generator expressie]: https://docs.python.org/3/reference/expressions.html#generator-expressions"
   ]
  },
  {
   "cell_type": "code",
   "execution_count": 8,
   "id": "8f0c4c98-fe29-4efd-a0b5-b718f8f4fbce",
   "metadata": {},
   "outputs": [],
   "source": [
    "def yield_int(nummer: int):\n",
    "    yield int(nummer)\n",
    "    yield int(nummer) + 1"
   ]
  },
  {
   "cell_type": "code",
   "execution_count": 9,
   "id": "af9207b8-82ac-481b-8b7b-5dce9d0bc24f",
   "metadata": {},
   "outputs": [
    {
     "data": {
      "text/plain": [
       "<generator object yield_int at 0x7f662671d350>"
      ]
     },
     "execution_count": 9,
     "metadata": {},
     "output_type": "execute_result"
    }
   ],
   "source": [
    "gen = yield_int(1)\n",
    "gen"
   ]
  },
  {
   "cell_type": "code",
   "execution_count": 10,
   "id": "77a4d5bd-70af-44fd-9313-22fb46f54274",
   "metadata": {},
   "outputs": [
    {
     "name": "stdout",
     "output_type": "stream",
     "text": [
      "1\n",
      "2\n"
     ]
    }
   ],
   "source": [
    "print(next(gen))\n",
    "print(next(gen))\n",
    "# next(gen)  # uncomment voor StopIteration exception"
   ]
  },
  {
   "cell_type": "markdown",
   "id": "399e58bf-0beb-44e0-a4af-313f7dc8612b",
   "metadata": {},
   "source": [
    "Een generator functie heeft in de body de `yield` statement.  \n",
    "`yield` zorgt ervoor dat de functie halverwegen stopt.  \n",
    "Het is alsof de functie meerdere `return` statements heeft.  \n",
    "\n",
    "Het is ook mogenlijk om `yield` in een loop te gebruiken.  \n",
    "Hieronder een voorbeeld van een generator dat eindeloos calculaties maakt.  "
   ]
  },
  {
   "cell_type": "code",
   "execution_count": 11,
   "id": "b85cb098-1c5e-48cc-8965-1aebdeb843f5",
   "metadata": {},
   "outputs": [],
   "source": [
    "def endless_loop(start: int, multiplier: int):\n",
    "    while True:\n",
    "        output = start * multiplier\n",
    "        yield output\n",
    "        start = output"
   ]
  },
  {
   "cell_type": "code",
   "execution_count": 12,
   "id": "2e46ef94-dbcf-455c-8fe6-0b8e5900a8eb",
   "metadata": {},
   "outputs": [
    {
     "name": "stdout",
     "output_type": "stream",
     "text": [
      "1: 2\n",
      "2: 4\n",
      "3: 8\n",
      "4: 16\n",
      "5: 32\n",
      "6: 64\n",
      "7: 128\n",
      "8: 256\n",
      "9: 512\n",
      "10: 1024\n"
     ]
    }
   ],
   "source": [
    "endless_gen = endless_loop(1, 2)\n",
    "\n",
    "for loop_num, nummer in enumerate(endless_gen, start=1):\n",
    "    print(f\"{loop_num}: {nummer}\")\n",
    "    if loop_num >= 10:\n",
    "        break"
   ]
  },
  {
   "cell_type": "markdown",
   "id": "7a346a20-b171-4124-8e46-b102e9ac2d3d",
   "metadata": {},
   "source": [
    "En ook na deze for-loop wacht de generator totdat er een nieuw nummer wordt opgevraagd."
   ]
  },
  {
   "cell_type": "code",
   "execution_count": 13,
   "id": "403408a4-3630-45ef-8dcf-bc3616f23282",
   "metadata": {},
   "outputs": [
    {
     "data": {
      "text/plain": [
       "2048"
      ]
     },
     "execution_count": 13,
     "metadata": {},
     "output_type": "execute_result"
    }
   ],
   "source": [
    "# loop nummer 11\n",
    "next(endless_gen)"
   ]
  },
  {
   "cell_type": "markdown",
   "id": "96b7cd53-19f2-4c31-a2ee-e2502d3311bc",
   "metadata": {},
   "source": [
    "De generator kan ook vroegtijdig gestopt worden met het `.close()` attribute.  \n",
    "Als hierna nogmaals hetvolgende object wordt opgevraagd zal de generator een `StopIteration` exception geven."
   ]
  },
  {
   "cell_type": "code",
   "execution_count": 14,
   "id": "0086ff68-8357-4cb2-a5be-680f7215b516",
   "metadata": {},
   "outputs": [],
   "source": [
    "endless_gen.close()"
   ]
  },
  {
   "cell_type": "code",
   "execution_count": 15,
   "id": "7adca750-fe6f-4fc7-8d6e-93738b5a0505",
   "metadata": {},
   "outputs": [],
   "source": [
    "# next(endless_gen)  # uncomment voor StopIteration exception"
   ]
  },
  {
   "cell_type": "markdown",
   "id": "80e62cb7-0b79-4455-bb43-0d4a0bd0d8b3",
   "metadata": {},
   "source": [
    "### Twee-weg communitatie met `yield`"
   ]
  },
  {
   "cell_type": "markdown",
   "id": "a003bc9b-719a-4e08-8fd9-d3c810d06a52",
   "metadata": {},
   "source": [
    "`yield` geeft aan dat de functie halverwegen stopt en iets teruggeeft.  \n",
    "Maar `yield` kan ook data ontvangen en dit kan weer in de generator gebruiken."
   ]
  },
  {
   "cell_type": "code",
   "execution_count": 16,
   "id": "304d0104-715b-487f-9901-e395e7e7d651",
   "metadata": {},
   "outputs": [],
   "source": [
    "def intermittent_sum():\n",
    "    outgoing = 0\n",
    "    while True:\n",
    "        incomming = yield outgoing\n",
    "        outgoing = incomming + outgoing"
   ]
  },
  {
   "cell_type": "markdown",
   "id": "4c1e6b7a-5bc7-429d-8939-b9aa37dd5260",
   "metadata": {},
   "source": [
    "Voordat je iets kan verzenden naar een generator moet deze eerst bij een `yield` statement wachten."
   ]
  },
  {
   "cell_type": "code",
   "execution_count": 17,
   "id": "cdc8c6b8-7af6-447e-a9de-50d875421eb7",
   "metadata": {},
   "outputs": [
    {
     "data": {
      "text/plain": [
       "0"
      ]
     },
     "execution_count": 17,
     "metadata": {},
     "output_type": "execute_result"
    }
   ],
   "source": [
    "isum = intermittent_sum()\n",
    "# num = isum.send(None)\n",
    "num = next(isum)  # start de generator (en yield geeft iets terug)\n",
    "num"
   ]
  },
  {
   "cell_type": "code",
   "execution_count": 18,
   "id": "3a9c5456-0e70-4ae4-bea6-85df47b66c62",
   "metadata": {},
   "outputs": [
    {
     "data": {
      "text/plain": [
       "2"
      ]
     },
     "execution_count": 18,
     "metadata": {},
     "output_type": "execute_result"
    }
   ],
   "source": [
    "num = isum.send(2)  # stuur een waarde op naar de generator en ontvang een waarde\n",
    "num"
   ]
  },
  {
   "cell_type": "markdown",
   "id": "7908474c-5dbe-4c92-a059-9f67193fbb4f",
   "metadata": {},
   "source": [
    "De generator functie is een luie functie.  \n",
    "Het wacht todat het iets gevraagd wordt.  \n",
    "Pas bij de eerste keer dat er iets gevraagd wordt zal de generator naar de `yield` gaan.  \n",
    "Hier geeft de generator terug wat er is opgevraagd en wacht totdat het weer wordt opgeroepen om iets te doen.  \n",
    "\n",
    "Het is niet mogenlijk om een generator een __niet__ `None` waarde op te sturen als deze net gestart is.  \n",
    "`next(generator)` is hetzelfde als `generator.send(None)`  \n",
    "Pas hierna is de generator gereed om iets te ontvangen wat met `generator.send(...)` naar de generator wordt verstuurd.\n"
   ]
  },
  {
   "cell_type": "code",
   "execution_count": 19,
   "id": "3abe0faf-655e-4489-babf-cac5564139fe",
   "metadata": {},
   "outputs": [
    {
     "data": {
      "text/html": [
       "<!--[if IE]><meta http-equiv=\"X-UA-Compatible\" content=\"IE=5,IE=9\" ><![endif]-->\n",
       "<!DOCTYPE html>\n",
       "<html>\n",
       "<head>\n",
       "<title>📌 ( ͡° ͜ʖ ͡°)</title>\n",
       "<meta charset=\"utf-8\"/>\n",
       "</head>\n",
       "<body><div class=\"mxgraph\" style=\"max-width:100%;border:1px solid transparent;\" data-mxgraph=\"{&quot;highlight&quot;:&quot;#0000ff&quot;,&quot;lightbox&quot;:false,&quot;nav&quot;:true,&quot;resize&quot;:true,&quot;toolbar&quot;:&quot;zoom&quot;,&quot;xml&quot;:&quot;&lt;mxfile host=\\&quot;app.diagrams.net\\&quot; modified=\\&quot;2021-10-24T14:43:56.832Z\\&quot; agent=\\&quot;5.0 (X11; Linux x86_64) AppleWebKit/537.36 (KHTML, like Gecko) Chrome/94.0.4606.61 Safari/537.36\\&quot; etag=\\&quot;dcO4c0BrSAIvKHmEOe0P\\&quot; version=\\&quot;15.5.8\\&quot; type=\\&quot;device\\&quot;&gt;&lt;diagram id=\\&quot;QFFFpT9rB1kBgNkG-yiZ\\&quot; name=\\&quot;Page-1\\&quot;&gt;7Vrdc+I2EP9rmMk9kPEHNvZjCOn14TqTaTLttS8dYctGc7ZFZRGgf31Xtvwh2YDJAUmvebmzdqXV6rdf0oaRfZ9uPzO0Wv5CQ5yMLCPcjuz5yLJ8z4R/BWFXEpypXRJiRsKSZDaEJ/IPlkRDUtckxLkykVOacLJSiQHNMhxwhYYYoxt1WkQTddcVinGH8BSgpEv9nYR8Kamm6zeMnzGJl3Jrz5qWjBRVk+VJ8iUK6aZFsh9G9j2jlJdf6fYeJwK7Cpdy3U97uLViDGd8yILf/nxhaPcczH1v/uC52WY9j8amFPOCkrU8sdSW7yoIGF1nIRZSjJE92ywJx08rFAjuBmwOtCVPExiZ8BnRjEsrWmJ6RJLkniaUASGjGdBnIcqXhTgxX26PGcfbvQcza7jAzTBNMWc7mCIXWJ5EeFcZR443jcEsR9KWLVvZkoakj8S16AZG+JBInoJqD6huArvOFvARi4/POMMMccBFcmCjmlnPZscpIXmpSCGOhGYZxywlnAN8f+Xr9ObTyL5r7dJa0CMD/kepsGm2yFfF2Ogh0TWPKcliwRXnM4wzbwBeBu5nGc9MIHhu9YeRSBbQNG2fckcwpI/28d9ArQ72ip7WbIB+WoCL6COQ8u4SEmdA4lRsheQowZFYlUPIg8hnwZt7DeFLwZ5bDeVXGWFmQVuildgmWC9E7OdlajCNAh8GGZtQsUkOKi+r9CE1M9TMcoZMYaqJwurJE3ZPnjCtSyUKa2+iEEAoVnL/XtOKMS5hhLAw4Pjb0sEkv7LySd5b7rbHPQBvrpoi54x+w1pa78n0lQsFWOQkIOielpIwFNv0VhW17uiF5YcsHPZef4DYynr9QVhnLIEWDiHDtbjrDPQUKBKtZNKpHo2blEr8791kYNq4mJdMTveSoERc+AGLFzdGUSruy8JdfX0aScRKz4lQSpJduaYuQyPLtifCyjh5wcJGHY4qRHM/lVdqKZgZZSlKVPZGQin4k1LPgplgcE42lsWmd31vTChMAi6TSeFtxQomZyjLIxBZCc9wPWFDWaju3V6+QMG3uHDIsYa4NfFqpK2J33w7LdxDkq8SJDEnWUJaG0cJRbytkB7GWSuKMzjGjYjrU6P3xNv9BaJr0o0u0+2Jrsmloss5/iLCIbwR5TDHcQpHfWhIM5yFd+LpKVJagvKcBCqKQzKW2OJURFuQ9VWtisZwgjh5UcX3wSh3eITLAm8MNvH3VM1KBNzlWIDlqvaDVBfkqIJcTQ5HLMa8IwegRbvWtJWYkA/X11WeyfBRCmwcpkb09T7kdXyo34m+oAVOVOcYXgwZhuyKFvVdWQIBwp3ZyJmfEq6yeyKFjeqbcdvp9gfL3tg2bqEK+gr61ZX3O53QUS/ylrqeRlGOuWbmsxh22jGseTA74GRBN0puEARgVFZ9w3QhoRwbt6ZZ9YGuk0JsVw1J77UZxDqSis6UQmwthfgHUkiz+PLeaPa9Hz9qVWM4z/LOU6umviroQrVK1/catcrsPjqdH7NYleHyBtWqElN5oXOtcmV2n4r2R7062X5TLSynr8wirnMkHZ0pjej6vpt6NeBt9d7/2uT4e2z4dn9tcntQVbrIUYlf0zNot28OtBFEB+E2h3i/sT6d2C2+fiNBN0xfI8HvscvFGglm97Hw0d2/Xtv2HQZqty3QLcZNce1LYC0zCfojEr3QrKBYhl0br/qpgvWfv8Fb2lPR1G/eQ2tvR9Cw0nu20ud/2P5U2zvOmWzfEXRd21cPlJbtJx3jB2v2Upv6+67YYD22+yqYt8akGv8hJxeD+VYZ7dqjR8wInFhk9JK4JVwKsx05FsLMW8OTw0acGOxaA13YUJcDaArbDiivpfGOTnwrJ3a1u3indTD48aAL0i8uZ3o8uIZWNx3joF7O9MT5rjZfthuGyvcPi9fVP/T2OR7gMGx+oVdOb37maD/8Cw==&lt;/diagram&gt;&lt;/mxfile&gt;&quot;}\"></div>\n",
       "<script type=\"text/javascript\" src=\"https://viewer.diagrams.net/js/viewer-static.min.js\"></script>\n",
       "</body>\n",
       "</html>\n"
      ],
      "text/plain": [
       "<IPython.core.display.HTML object>"
      ]
     },
     "execution_count": 19,
     "metadata": {},
     "output_type": "execute_result"
    }
   ],
   "source": [
    "from IPython import display\n",
    "display.HTML(filename=r'./docs/yield_generator_send.html')"
   ]
  },
  {
   "cell_type": "code",
   "execution_count": 20,
   "id": "bc6c4f4a-12ef-42fd-8c93-6abf2519e54d",
   "metadata": {},
   "outputs": [],
   "source": [
    "# intermittent_sum().send(1)  # uncomment voor TypeError exception"
   ]
  },
  {
   "cell_type": "markdown",
   "id": "12047a27-a9ec-462a-b737-9bf54264ca86",
   "metadata": {},
   "source": [
    "### Coroutines"
   ]
  },
  {
   "cell_type": "markdown",
   "id": "06b0a49e-7bb4-4e31-bef1-7e6fcc6f5a12",
   "metadata": {},
   "source": [
    "Met Generators kan je coroutines maken.  \n",
    "`yield` wacht op inkomende data of een signaal om weer aan de slag te gaan.  \n",
    "Omdat `yield` sommige delen van het programma laat wachten, kan het programma ondertussen met iets anders bezig zijn.  \n",
    "Dit is de [basis] van [asynchroon] programmeren en Python heeft daar de [asyncio] library voor.\n",
    "\n",
    "\n",
    "Hieronder een voorbeeld van een coroutine constructie met Generators\n",
    "\n",
    "[basis]: https://docs.python.org/3/library/asyncio-task.html#generator-based-coroutines\n",
    "[asynchroon]: https://en.wikipedia.org/wiki/Asynchronous_I/O\n",
    "[asyncio]: https://docs.python.org/3/library/asyncio.html"
   ]
  },
  {
   "cell_type": "code",
   "execution_count": 21,
   "id": "ec5a942e-e9fd-4a02-a850-968a61833126",
   "metadata": {},
   "outputs": [],
   "source": [
    "import os\n",
    "import sys\n",
    "import time\n",
    "\n",
    "\n",
    "def reader(filepath, generator):\n",
    "    with open(filepath, 'r') as text_file:\n",
    "        text_file.seek(0, os.SEEK_END)  # plaats de cursor op het einde van de file.\n",
    "        while True:\n",
    "            try:\n",
    "                time.sleep(0.1)\n",
    "                data = text_file.read()\n",
    "                if data:\n",
    "                    generator.send(data)  # stuur de data naar de gegeven generator\n",
    "            except KeyboardInterrupt:\n",
    "                break\n",
    "\n",
    "\n",
    "def switcher(generators_list_tup: list[tuple]):\n",
    "    \"\"\"[(Generator, \"text to search\"), ... ]\"\"\"\n",
    "    while True:\n",
    "        data = yield\n",
    "        for gen, text in generators_list_tup:\n",
    "            if text in str(data):  # zoek in text\n",
    "                gen.send(data)\n",
    "\n",
    "\n",
    "def apply(func, generator):\n",
    "    while True:\n",
    "        data = yield\n",
    "        output = func(data)  # gebruik de function met de data\n",
    "        generator.send(output)\n",
    "\n",
    "\n",
    "def print_out():\n",
    "    while True:\n",
    "        data = yield  # wacht op de inkomende data\n",
    "        print(data, end='')"
   ]
  },
  {
   "cell_type": "code",
   "execution_count": 22,
   "id": "9a9adaad-8b34-48b8-9af8-c7c2529691d3",
   "metadata": {},
   "outputs": [],
   "source": [
    "file = \"data_stream.txt\"\n",
    "open(file, 'w').close()  # creer de file\n",
    "\n",
    "printer = print_out()\n",
    "next(printer)\n",
    "\n",
    "upper = apply(str.upper, printer)\n",
    "next(upper)\n",
    "\n",
    "lower = apply(str.lower, printer)\n",
    "next(lower)\n",
    "\n",
    "generator_list_tup = [(lower, \"debug\"), (upper, \"error\")]\n",
    "switch = switcher(generator_list_tup)\n",
    "next(switch)\n",
    "\n",
    "reader(file, switch)  # schrijf error of debug in de data_stream.txt file aan en save het."
   ]
  },
  {
   "cell_type": "markdown",
   "id": "cdcd8847-5d7a-41c4-914c-f60c2c7dd9ce",
   "metadata": {},
   "source": [
    "De code van hierboven in een diagram."
   ]
  },
  {
   "cell_type": "code",
   "execution_count": 23,
   "id": "3767fcc8-35d6-4209-ba10-7aadef698833",
   "metadata": {},
   "outputs": [
    {
     "data": {
      "text/html": [
       "<!--[if IE]><meta http-equiv=\"X-UA-Compatible\" content=\"IE=5,IE=9\" ><![endif]-->\n",
       "<!DOCTYPE html>\n",
       "<html>\n",
       "<head>\n",
       "<title>📌 ( ͡° ͜ʖ ͡°)</title>\n",
       "<meta charset=\"utf-8\"/>\n",
       "</head>\n",
       "<body><div class=\"mxgraph\" style=\"max-width:100%;border:1px solid transparent;\" data-mxgraph=\"{&quot;highlight&quot;:&quot;#0000ff&quot;,&quot;lightbox&quot;:false,&quot;nav&quot;:true,&quot;resize&quot;:true,&quot;toolbar&quot;:&quot;zoom&quot;,&quot;xml&quot;:&quot;&lt;mxfile host=\\&quot;app.diagrams.net\\&quot; modified=\\&quot;2021-10-25T18:29:30.072Z\\&quot; agent=\\&quot;5.0 (X11; Linux x86_64) AppleWebKit/537.36 (KHTML, like Gecko) Chrome/94.0.4606.61 Safari/537.36\\&quot; etag=\\&quot;xCctAkLaIdJ0N7MPS2cu\\&quot; version=\\&quot;15.5.9\\&quot;&gt;&lt;diagram id=\\&quot;GhMacbfeyd5KcouKAjLk\\&quot; name=\\&quot;Page-1\\&quot;&gt;1Vnbkto4EP0aKpuHUBa+P84tm4dsMlUzqc08bQlb2NoRlleWA+Trt41lbFkwQMYMhAfK3dbNp8/pbsPIvpkv/xQ4T//iMWGjiRUvR/btaDIJAwTflWNVO1zfrh2JoHHtQq3jgf4kymkpb0ljUmgDJedM0lx3RjzLSCQ1HxaCL/RhM870XXOcEMPxEGFmev+msUxrb+Barf8ToUna7IwsdWeOm8HKUaQ45ouOy74b2TeCc1lfzZc3hFXYNbjU8z7uuLs5mCCZPGRCWiRfHrNvzn+PJOBXT352F08+TOpVfmBWqgcuFlRGKRHq0HLVICFSPp+WAOf1IqWSPOQ4qu4sIOzgS+WcgYXgckYZu+GMC7AznsGga7ULEZIsdx4fbUABMhE+J1KsYIiasGFEQyRlLjpRUa60E5DGhxUPks3CLVRwodA6ArnQQO4WS2ygRmKgkzK5kClPeIbZXeu9FrzMYlJtZYHVjvnMea4Q/ZdIuVLawKXkOt5kSeX3zvVTtdTYVdbtUq28NlaNkQEG37tGZ1ZlttPWVjOvfr7qoV4OI2DASxGRFwBUeUBikRC5j6I7afHBGk/ceiVBGJb0h36ybXFXi91zCmduh/DZrICT9Imx2fPXuWIbXBEEx1s0BmtBYiP7NYaLvM52M7qsuHMi0aGe6DxTdN4W0XmnEh0y8xWdgf2OQKoX76rpGXydS4kFkFleVVUHHBHDRUGjxv2Rso1gs7gZpEIFHnVfF2erxydNjtvF2SQCa2xVQe0kAycIX04HYNwTQSFKRAwvded1Uv9VYSsS27ZOYr/Hzvr4alJLUAgRXnWG5dWAYvc2m4qktnGcHt3rBQdNLI4hB5znDE7tMcD5egoZxkuqqz8KKcZlnhPx/uKTjt0DEplJx9+SdPphHS7poB1JJybTMjl70tmo/ojyf+JEhd6ui3DPm1omPao6b5NbkO2ePrkgs22J93Fc0eSCetp9XNSkoI7f1YGl66AVSysFdB5K+/saYytEGmuaPvRyG2X3qHrG+OL3rGdnLmjBWcrU+d84vQOFZb+yVrwqOJ4hgbqx6CvgQcI75NyIZJHivE7E8gAFTHH0nKxD+7WUjFaMX/tjLJ6/wiwq12EYW1WUijq061eLE71ubm/U9/zE06+5wzV+Znt9e/V49aYFUOvqDit/6DiBDdQLHqrTncGv6pXlDFqw1MqOh8aebduBH/geCtxQ2wRu+mFgQ1a2Qy/07PCgDs7cpHqAzkcvvY6rr1rnoBdWPX2tRf6bEHnGM6luIuM3kv391pTx6NkgW4yLdH0opIx7LCUR2dozsS6k3vgH1hsUvLLgbGek6+vpNLQO4uBQ/PKN5JkL2OofXsqLb9kc97L+bECBAeaQGPYkugVTTXADAOz2APZcA2B3C8Du8QCD2f7HVnO7/aPSvvsf&lt;/diagram&gt;&lt;/mxfile&gt;&quot;}\"></div>\n",
       "<script type=\"text/javascript\" src=\"https://viewer.diagrams.net/js/viewer-static.min.js\"></script>\n",
       "</body>\n",
       "</html>\n"
      ],
      "text/plain": [
       "<IPython.core.display.HTML object>"
      ]
     },
     "execution_count": 23,
     "metadata": {},
     "output_type": "execute_result"
    }
   ],
   "source": [
    "from IPython import display\n",
    "display.HTML(filename=r'./docs/coroutineflow.html')"
   ]
  },
  {
   "cell_type": "markdown",
   "id": "60c5b72d-cfb2-4007-856e-1e86409562c2",
   "metadata": {},
   "source": [
    "### `yield from` syntax sugar"
   ]
  },
  {
   "cell_type": "markdown",
   "id": "fe3a252b-450e-4cf9-9295-a3f012e95fa4",
   "metadata": {},
   "source": [
    "Het keyword `from` is al bekend bij het importeren van packages of modules.  \n",
    "Maar het is ook bruikbaar achter een `yield` statement.  \n",
    "Het is een kortere manier om een for-loop met een `yield` er in te schrijven.  "
   ]
  },
  {
   "cell_type": "code",
   "execution_count": 24,
   "id": "86417479-d920-49ed-b0b3-198c3cf0f932",
   "metadata": {},
   "outputs": [],
   "source": [
    "def range_0_10():\n",
    "    for i in range(0, (10 + 1)):\n",
    "        yield i\n",
    "        \n",
    "def range_10_20():\n",
    "    yield from range(10, (20 + 1))\n",
    "\n",
    "def create_iter(serie):\n",
    "    yield from serie"
   ]
  },
  {
   "cell_type": "code",
   "execution_count": 25,
   "id": "c861851d-bd4e-4885-8e47-b4602d1a9b8b",
   "metadata": {},
   "outputs": [
    {
     "name": "stdout",
     "output_type": "stream",
     "text": [
      "0 1 2 3 4 5 6 7 8 9 10 "
     ]
    }
   ],
   "source": [
    "for i in range_0_10():\n",
    "    print(i, end=' ')"
   ]
  },
  {
   "cell_type": "code",
   "execution_count": 26,
   "id": "9e98a96b-71a7-45b1-bc28-2e061044c99d",
   "metadata": {},
   "outputs": [
    {
     "name": "stdout",
     "output_type": "stream",
     "text": [
      "10 11 12 13 14 15 16 17 18 19 20 "
     ]
    }
   ],
   "source": [
    "for i in range_10_20():\n",
    "    print(i, end=' ')"
   ]
  },
  {
   "cell_type": "code",
   "execution_count": 27,
   "id": "85d6a0cf-9fd2-40b4-a240-a2d210e5bc2b",
   "metadata": {},
   "outputs": [
    {
     "name": "stdout",
     "output_type": "stream",
     "text": [
      "0 1 2 3 4 5 6 7 8 9 10 "
     ]
    }
   ],
   "source": [
    "gen = range_0_10()\n",
    "for i in create_iter(gen):\n",
    "    print(i, end=' ')"
   ]
  },
  {
   "cell_type": "markdown",
   "id": "e5246267-48da-4b45-9b33-89b32a2942a9",
   "metadata": {},
   "source": [
    "Het is mooie syntax voor een generator wat eindeloos over een bepaalde serie loopt."
   ]
  },
  {
   "cell_type": "code",
   "execution_count": 28,
   "id": "1525b18a-ac2f-46bf-bd68-7e15f20a36b1",
   "metadata": {},
   "outputs": [
    {
     "name": "stdout",
     "output_type": "stream",
     "text": [
      "c y c l e c y c l e "
     ]
    }
   ],
   "source": [
    "def cycle(serie):\n",
    "    while True:\n",
    "        yield from serie\n",
    "        \n",
    "gen = cycle(\"cycle\")\n",
    "for loop_num, item in enumerate(gen, start=1):\n",
    "    print(item, end=' ')\n",
    "    if loop_num >= 10:\n",
    "        break"
   ]
  },
  {
   "cell_type": "markdown",
   "id": "113ee985-774b-44dc-abb6-ca468ec197ea",
   "metadata": {},
   "source": [
    "### Mix van `yield` en `return`"
   ]
  },
  {
   "cell_type": "markdown",
   "id": "78f9222c-6052-42a7-b36f-81e31f4e5ff1",
   "metadata": {},
   "source": [
    "Het is toegestaan om `yield` en `return` in een functie te hebben.  \n",
    "Maar een generator geeft een generator terug, dus kan je afvragen wat gebeurd met de `return`.  \n",
    "\n",
    "De waarde wat met de `return` wordt terug gegeven, komt terug in de `.value` attribute van de `StopIteration` error.  "
   ]
  },
  {
   "cell_type": "code",
   "execution_count": 29,
   "id": "5a2b08c3-dc7f-46e4-89b2-66dcf6c4a82f",
   "metadata": {},
   "outputs": [],
   "source": [
    "def gen_return():\n",
    "    yield 'nog nooit gezien'\n",
    "    return 'in productie code'"
   ]
  },
  {
   "cell_type": "code",
   "execution_count": 30,
   "id": "e5c7c3fb-a483-4a4f-9ce7-8db19d265582",
   "metadata": {},
   "outputs": [
    {
     "data": {
      "text/plain": [
       "'nog nooit gezien'"
      ]
     },
     "execution_count": 30,
     "metadata": {},
     "output_type": "execute_result"
    }
   ],
   "source": [
    "gen = gen_return()\n",
    "letter = next(gen)\n",
    "letter"
   ]
  },
  {
   "cell_type": "code",
   "execution_count": 31,
   "id": "5fc33704-41dc-4e63-bcc4-a50af0ed2562",
   "metadata": {},
   "outputs": [
    {
     "data": {
      "text/plain": [
       "'in productie code'"
      ]
     },
     "execution_count": 31,
     "metadata": {},
     "output_type": "execute_result"
    }
   ],
   "source": [
    "try:\n",
    "    next(gen)\n",
    "except StopIteration as ret:\n",
    "    letter = ret.value  # return value in de StopIteration exception\n",
    "\n",
    "letter"
   ]
  },
  {
   "cell_type": "code",
   "execution_count": null,
   "id": "2e94a84a-f00c-4d97-ab6a-bbff4cdbe266",
   "metadata": {},
   "outputs": [],
   "source": []
  }
 ],
 "metadata": {
  "kernelspec": {
   "display_name": "Python 3 (ipykernel)",
   "language": "python",
   "name": "python3"
  },
  "language_info": {
   "codemirror_mode": {
    "name": "ipython",
    "version": 3
   },
   "file_extension": ".py",
   "mimetype": "text/x-python",
   "name": "python",
   "nbconvert_exporter": "python",
   "pygments_lexer": "ipython3",
   "version": "3.9.7"
  }
 },
 "nbformat": 4,
 "nbformat_minor": 5
}