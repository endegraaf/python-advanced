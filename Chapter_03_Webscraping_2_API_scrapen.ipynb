{
 "cells": [
  {
   "cell_type": "markdown",
   "id": "e6f678a0-628d-412a-a337-5b54b31dc00b",
   "metadata": {},
   "source": [
    "# Webscrapen van een API"
   ]
  },
  {
   "cell_type": "markdown",
   "id": "75ab5a3d-0689-405b-9517-af8a27b07e82",
   "metadata": {
    "tags": []
   },
   "source": [
    "Het makelijkste om data op te vragen is doormiddel van een [API].  \n",
    "Veel websites hebben geen openbare API.  \n",
    "Toch kan het zo zijn dat de website een API gebruikt om data van de client naar de server te sturen.  \n",
    "Zo kan de website dynamisch _(zonder te refreshen)_ de data op de pagina vernieuwen.   \n",
    "Hier wordt [XMLHTTPRequests (XHR)] voor gebruikt.\n",
    "\n",
    "[API]: https://nl.wikipedia.org/wiki/Application_programming_interface\n",
    "[XMLHTTPRequests (XHR)]: https://nl.wikipedia.org/wiki/XMLHTTP"
   ]
  },
  {
   "cell_type": "markdown",
   "id": "d4178374-fa20-40ea-ae64-6d7f52f8d0cb",
   "metadata": {},
   "source": [
    "## Het opzoeken van een API op een website"
   ]
  },
  {
   "cell_type": "markdown",
   "id": "5404509b-fc7d-44b3-ab40-f6a9add89818",
   "metadata": {
    "jp-MarkdownHeadingCollapsed": true,
    "tags": []
   },
   "source": [
    "Open een browser en de Developer Tools.  \n",
    "In de `Network` tab, zet de opties `Preserve logs`, `Disable cache` aan en filter op `XHR`. \n",
    "\n",
    "> ![Developer Tools](./img/devtools_XHR_filter.png \"Preserve logs, Disable cache, filter XHR\")"
   ]
  },
  {
   "cell_type": "markdown",
   "id": "1c28fc10-367f-46bb-95ca-bf12c8a75c55",
   "metadata": {},
   "source": [
    "Met de browser en de Developer Tools open, navigeer naar de website: https://www.demoblaze.com/  \n",
    "Dit is een demo website van [Blazemeter] en gebruikt [XHR].  \n",
    "In de notebook cells hieronder open we de demo website en bekijken we de Network tab voor XHR berichtenverkeer.  \n",
    "\n",
    "[Blazemeter]: https://www.blazemeter.com/\n",
    "[XHR]: https://nl.wikipedia.org/wiki/XMLHTTP"
   ]
  },
  {
   "cell_type": "markdown",
   "id": "de3cf5d9-b5bb-4331-a61a-91513d3aa704",
   "metadata": {},
   "source": [
    "In de Developer Tools onder de tab `Network` zie je het dataverkeer en de daarbij horende _HTTP request methods_.  \n",
    "Om goed te zien wat een website krijgt en verstuurd moet de optie `Preserve log` / `Persist Logs` en de `Disable Cache` aan staan.  \n",
    "Met deze opties aan behoudt van de `Network` tab alle logs en vraagt de website alle data op die anders werd onthouden in de Cache.  "
   ]
  },
  {
   "cell_type": "markdown",
   "id": "44a2ea56-07e2-478a-a443-512a71933c7a",
   "metadata": {},
   "source": [
    "Met de XHR filter aan zien we alleen dat type request.  \n",
    "De url https://www.demoblaze.com/config.json is zo een XHR-request wat wordt opgevraagt met de GET method.  \n",
    "\n",
    "> ![Developer tools XHR get](./img/devtools_XHR_get_request.png \"GET request, XHR type response\")"
   ]
  },
  {
   "cell_type": "markdown",
   "id": "edd1e3ef-4e9a-49c8-91f9-f72d59564c66",
   "metadata": {},
   "source": [
    "Observeer de gegevens die te zien zijn in de `Response data` van dit request.  \n",
    "\n",
    "Als we er op klikken zien we de data die verstuurd en terug gekregen is.  \n",
    "Onder de tab `Response` krijgen we de _Raw response data_ te zien.  \n",
    "Dit kan van alles zijn, HTML, javascript en in dit geval JSON.  \n",
    "\n",
    "> ![Developer tools XHR response](./img/devtools_XHR_response.png \"raw response\")"
   ]
  },
  {
   "cell_type": "markdown",
   "id": "247f0a9b-65d2-4da2-ad66-a7c537fcb76c",
   "metadata": {},
   "source": [
    "Op de demo website is er een lijst te zien met product catagories.  \n",
    "Wordt er op de een catagorie geklikt dan wordt deze informatie van de server opgevraagd.  \n",
    "\n",
    "> ![blaze_api_bycat.png](./img/blaze_api_bycat.png \"catagories van demoblaze website\")"
   ]
  },
  {
   "cell_type": "markdown",
   "id": "df5c1bb3-059b-4397-9d95-a547db5964e8",
   "metadata": {},
   "source": [
    " Mer de `Network` tab open zien we een POST-request met deze _payload_.  \n",
    "Een POST request bevat meestal een payload en/of speciale headers, in dit geval is de payload een JSON string.\n",
    "\n",
    "> ![Developer tools phones payload](./img/blaze_payload_phones.png \"raw response\")"
   ]
  },
  {
   "cell_type": "markdown",
   "id": "83191f13-dde6-4dd1-ab94-ad0f7242372a",
   "metadata": {},
   "source": [
    "In de tab `Response` zien we de data die vanuit de server naar de webbrowser is verzonden.  \n",
    "Dit is wederom JSON data.  \n",
    "TIP: met de `{}` knop kan de JSON data beter leesbaar worden gemaakt.\n",
    "\n",
    "> ![blaze_cat_response](./img/blaze_response_phones.png \"POST request met JSON payload\")\n"
   ]
  },
  {
   "cell_type": "markdown",
   "id": "272e125c-acd0-4fdd-9865-a5c41c69349c",
   "metadata": {},
   "source": [
    "---"
   ]
  },
  {
   "cell_type": "markdown",
   "id": "54650cc1-f571-448a-beb2-ab05f6358ffc",
   "metadata": {},
   "source": [
    "## Python gebruiken om de API aan te roepen\n",
    "\n",
    "Nu de API van de website is gevonden kan deze zelfde data worden opgevraagd via Python.  \n",
    "Dit kan worden gedaan met de third-party library: [requests].  \n",
    "\n",
    "De library moet geinstalleerd worden met `pip`  \n",
    "\n",
    "[requests]: https://docs.python-requests.org/en/master/index.html"
   ]
  },
  {
   "cell_type": "code",
   "execution_count": 1,
   "id": "65cb7db8-862a-4e90-80c7-e3874461c2b9",
   "metadata": {
    "tags": []
   },
   "outputs": [
    {
     "name": "stdout",
     "output_type": "stream",
     "text": [
      "Requirement already satisfied: pip in /.../site-packages (21.3.1)\n",
      "Requirement already satisfied: requests in /.../site-packages (2.26.0)\n",
      "Requirement already satisfied: idna<4,>=2.5 in /.../site-packages (from requests) (3.3)\n",
      "Requirement already satisfied: charset-normalizer~=2.0.0 in /.../site-packages (from requests) (2.0.7)\n",
      "Requirement already satisfied: urllib3<1.27,>=1.21.1 in /.../site-packages (from requests) (1.26.7)\n",
      "Requirement already satisfied: certifi>=2017.4.17 in /.../site-packages (from requests) (2021.10.8)\n"
     ]
    }
   ],
   "source": [
    "!python -m pip install --upgrade pip requests"
   ]
  },
  {
   "cell_type": "markdown",
   "id": "23545828-135d-4130-8a30-df7718d6ec0a",
   "metadata": {},
   "source": [
    "Importeer `requests` en een hulpfuctie uit urllib`urllib.parse`.  \n",
    "`urllib` is een library uit Python zelf, dus deze hoeft niet geinstalleerd te worden."
   ]
  },
  {
   "cell_type": "code",
   "execution_count": 2,
   "id": "3db1cb80-55e0-41ed-8579-ab36e2d635be",
   "metadata": {},
   "outputs": [],
   "source": [
    "from urllib.parse import urljoin\n",
    "import requests"
   ]
  },
  {
   "cell_type": "markdown",
   "id": "e851e221-978a-49e5-a690-0dd81b0f7784",
   "metadata": {},
   "source": [
    "Met `urljoin` hoeft er geen rekening te houden met _slashes_ aan het einde van een URL."
   ]
  },
  {
   "cell_type": "code",
   "execution_count": 3,
   "id": "317ac7c6-cda4-434e-a1ec-9f10966c8d7f",
   "metadata": {},
   "outputs": [
    {
     "data": {
      "text/plain": [
       "<Response [200]>"
      ]
     },
     "execution_count": 3,
     "metadata": {},
     "output_type": "execute_result"
    }
   ],
   "source": [
    "base_url = 'https://www.demoblaze.com'\n",
    "path = 'config.json'\n",
    "config_url = urljoin(base_url, path)\n",
    "\n",
    "response = requests.get(config_url)\n",
    "response"
   ]
  },
  {
   "cell_type": "markdown",
   "id": "df477d28-04de-4f10-a26b-fe10ac2152b5",
   "metadata": {},
   "source": [
    "Het object `response` van `requests.get` heeft meerdere attributen."
   ]
  },
  {
   "cell_type": "code",
   "execution_count": 4,
   "id": "6a20dc86-668d-435d-9ee5-377042d09d52",
   "metadata": {
    "tags": []
   },
   "outputs": [
    {
     "data": {
      "text/plain": [
        "[...]"
      ]
     },
     "execution_count": 4,
     "metadata": {},
     "output_type": "execute_result"
    }
   ],
   "source": [
    "[r for r in dir(response) if not r.startswith('_')]"
   ]
  },
  {
   "cell_type": "markdown",
   "id": "e0a45c85-51fa-4305-9737-b0a6ed1828e4",
   "metadata": {},
   "source": [
    "`response.content` is de data (in `bytes`) die terug is gekregen van het GET request (Raw response data)"
   ]
  },
  {
   "cell_type": "code",
   "execution_count": 5,
   "id": "60059698-958f-4b91-bd8e-41ef8fd9fee3",
   "metadata": {},
   "outputs": [
    {
     "data": {
      "text/plain": [
       "b'{\\n    \"API_URL\": \"https://api.demoblaze.com\",\\n    \"HLS_URL\": \"https://hls.demoblaze.com\"\\n}'"
      ]
     },
     "execution_count": 5,
     "metadata": {},
     "output_type": "execute_result"
    }
   ],
   "source": [
    "response.content"
   ]
  },
  {
   "cell_type": "markdown",
   "id": "2b089cce-abba-4b9f-b11a-1206f0b2fe45",
   "metadata": {},
   "source": [
    "Er is JSON data ontvangen.  \n",
    "De data kan geparsed worden door Python `json` module of door de `response.json()` functie naar een dict."
   ]
  },
  {
   "cell_type": "code",
   "execution_count": 6,
   "id": "40f197b5-20d9-40a4-bbce-0d0fc9d996a4",
   "metadata": {},
   "outputs": [
    {
     "data": {
      "text/plain": [
       "{'API_URL': 'https://api.demoblaze.com',\n",
       " 'HLS_URL': 'https://hls.demoblaze.com'}"
      ]
     },
     "execution_count": 6,
     "metadata": {},
     "output_type": "execute_result"
    }
   ],
   "source": [
    "config_dict = response.json()\n",
    "config_dict"
   ]
  },
  {
   "cell_type": "code",
   "execution_count": 7,
   "id": "75899273-65f7-4555-bb81-a579a6c458dd",
   "metadata": {},
   "outputs": [
    {
     "data": {
      "text/plain": [
       "'https://api.demoblaze.com'"
      ]
     },
     "execution_count": 7,
     "metadata": {},
     "output_type": "execute_result"
    }
   ],
   "source": [
    "api_url = config_dict.get('API_URL')\n",
    "api_url"
   ]
  },
  {
   "cell_type": "markdown",
   "id": "29262934-0f13-4e1f-aa77-8277a61a7195",
   "metadata": {},
   "source": [
    "Zoals gezien in de Developer Tools kan het pad _bycat_ toegevoegd worden aan de API url.  \n",
    "Deze API url verwacht wel een json-payload.  \n",
    "\n",
    "`requests.post` heeft het keyword-argument `json`, hier aan kan een `dict` gegeven worden die als JSON wordt versuurd in de body van het POST-request."
   ]
  },
  {
   "cell_type": "code",
   "execution_count": 8,
   "id": "8105d214-10b8-4210-8085-15d45a66f609",
   "metadata": {
    "tags": []
   },
   "outputs": [],
   "source": [
    "path = 'bycat'\n",
    "url = urljoin(api_url, path)\n",
    "\n",
    "payload = {'cat': 'phone'}\n",
    "\n",
    "response = requests.post(url, json=payload)\n",
    "notebook_dict =  response.json()\n",
    "# notebook_dict"
   ]
  },
  {
   "cell_type": "markdown",
   "id": "93cf7d22-5bcc-43d2-b41d-3362aa98bc5e",
   "metadata": {},
   "source": [
    "Nu de data is ontvangen kan de data, die er echt nodig is, eruit worden gehaald.  \n",
    "Deze data kunnen we dan opslaan in CSV-file. "
   ]
  },
  {
   "cell_type": "code",
   "execution_count": 9,
   "id": "4e303f9c-19a1-44fa-a0bb-570d119d0c7b",
   "metadata": {},
   "outputs": [],
   "source": [
    "import csv\n",
    "from pathlib import Path"
   ]
  },
  {
   "cell_type": "code",
   "execution_count": 10,
   "id": "a60861a3-b184-4eec-ab02-9811520b1bd4",
   "metadata": {},
   "outputs": [],
   "source": [
    "filepath = Path.cwd().joinpath('phone_costs.csv')\n",
    "\n",
    "# open de nieuwe CSV-file in schrijf mode: 'w'\n",
    "with filepath.open('w', newline='') as file: \n",
    "    csv_writer = csv.writer(file)\n",
    "    \n",
    "    # loop over de items in de dict\n",
    "    for item in notebook_dict['Items']:\n",
    "        if item.get('cat', '').lower() != 'phone':\n",
    "            continue\n",
    "        \n",
    "        # haal de data uit de `dict`.\n",
    "        title = item.get('title', 'No title')\n",
    "        price = item.get('price', False)\n",
    "        # schrijf de data naar een nieuwe regel in de CSV-file\n",
    "        csv_writer.writerow([title, price])"
   ]
  },
  {
   "cell_type": "markdown",
   "id": "ac56ec23-3ca0-4f1b-9f8d-5de18956ee95",
   "metadata": {},
   "source": [
    "De nieuwe CSV-file is aangemaakt.  \n",
    "Deze file kan ook weer gelezen worden door Python"
   ]
  },
  {
   "cell_type": "code",
   "execution_count": 11,
   "id": "8669c190-6faa-48ae-beb9-bd994c4205ef",
   "metadata": {},
   "outputs": [
    {
     "name": "stdout",
     "output_type": "stream",
     "text": [
      "1: Samsung galaxy s6,360.0\n",
      "2: Nokia lumia 1520,820.0\n",
      "3: Nexus 6,650.0\n",
      "4: Samsung galaxy s7,800.0\n",
      "5: Iphone 6 32gb,790.0\n"
     ]
    }
   ],
   "source": [
    "with filepath.open('r') as file:\n",
    "    for line_no, line in enumerate(file, start=1):\n",
    "        print(f\"{line_no}: {line.strip()}\")\n",
    "        if line_no >= 5:\n",
    "            break"
   ]
  },
  {
   "cell_type": "code",
   "execution_count": null,
   "id": "0af3fea2-6609-47cb-bcb8-796de9f49410",
   "metadata": {},
   "outputs": [],
   "source": []
  }
 ],
 "metadata": {
  "kernelspec": {
   "display_name": "Python 3 (ipykernel)",
   "language": "python",
   "name": "python3"
  },
  "language_info": {
   "codemirror_mode": {
    "name": "ipython",
    "version": 3
   },
   "file_extension": ".py",
   "mimetype": "text/x-python",
   "name": "python",
   "nbconvert_exporter": "python",
   "pygments_lexer": "ipython3",
   "version": "3.9.7"
  }
 },
 "nbformat": 4,
 "nbformat_minor": 5
}
