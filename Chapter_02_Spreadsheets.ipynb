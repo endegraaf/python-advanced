{
 "cells": [
  {
   "cell_type": "markdown",
   "id": "71493ebf-b68b-4405-95ba-66c0070716b0",
   "metadata": {},
   "source": [
    "# Spreadsheets\n"
   ]
  },
  {
   "cell_type": "markdown",
   "id": "f1959437-d4ad-47e1-a794-b6e8bde60857",
   "metadata": {},
   "source": [
    "## Intro\n",
    "\n",
    "In dit notebook gaan we met Excel 2010 spreadsheets werken.  \n",
    "We gebruiken hiervoor [openpyxl].  \n",
    "[openpyxl] is niet de enige tool die data kan verwerken.  \n",
    "Hieronder een paar packages die dat ook kunnen.  \n",
    "\n",
    "\n",
    "Python heeft eigen en third-party tools om met gestructureerde data te werken.  \n",
    "Python zelf heeft de modules [csv] en [sqlite3]\n",
    "\n",
    "Csv staat voor [Comma-separated values](https://nl.wikipedia.org/wiki/Kommagescheiden_bestand).  \n",
    "Dit is een textbestand waarbij de waardes tussen komma's staan.  \n",
    "Spreadsheet software kan hier gemakkelijk mee omgaan.  \n",
    "\n",
    "Sqlite is een databasemanagementsysteem vooral gebruikt voor [embedded] systemen.  \n",
    "Een Sqlite database is een alleenstaand bestand waar data met SQL queries bekeken/bewerkt kan worden.  \n",
    "Het database bestand kan ook door [programmas](https://sqlitebrowser.org/) worden geopend.  \n",
    "offtopic: Sqlite wordt heel goed [getest](https://sqlite.org/testing.html).  \n",
    "\n",
    "\n",
    "Een kleine selectie Third-party opties voor Python zijn hieronder beschreven.  \n",
    "\n",
    "[sqlalchemy] is een veelgebruikte SQL toolkit.  \n",
    "Het heeft enorm veel [features](https://www.sqlalchemy.org/features.html) en een grote userbase.  \n",
    "\n",
    "[pandas] is een Python package wat veel gebruikt wordt voor big-data.  \n",
    "Het wordt vaak gebruikt voor AI.  \n",
    "Maar het kan ook csv en excel inlezen en opslaan.  \n",
    "[pandas] gebruikt [numpy] wat ook zeer bekend is.  \n",
    "\n",
    "[openpyxl] openpyxl is een Python library om Excel 2010 files te lezen en te schrijven.  \n",
    "Het is ook te gebruiken als er geen Office op de computer is geïnstalleerd.  \n",
    "[openpyxl] heeft enorm goede [documentatie](https://openpyxl.readthedocs.io/en/stable/)\n",
    "\n",
    "\n",
    "[embedded]: https://nl.wikipedia.org/wiki/Embedded_system\n",
    "[sqlite3]: https://docs.python.org/3/library/sqlite3.html\n",
    "[csv]: https://docs.python.org/3/library/csv.html\n",
    "\n",
    "[sqlalchemy]: https://pypi.org/project/SQLAlchemy/\n",
    "[openpyxl]: https://pypi.org/project/openpyxl/\n",
    "[pandas]: https://pandas.pydata.org/docs/index.html\n",
    "[numpy]: https://numpy.org/"
   ]
  },
  {
   "cell_type": "markdown",
   "id": "f7cefa5f",
   "metadata": {},
   "source": [
    "## Openpyxl\n",
    "Documentatie: https://openpyxl.readthedocs.io/en/stable/"
   ]
  },
  {
   "cell_type": "code",
   "execution_count": 1,
   "id": "664edbde-739a-42d7-bcc2-c561060df831",
   "metadata": {
    "tags": []
   },
   "outputs": [
    {
     "name": "stdout",
     "output_type": "stream",
     "text": [
      "Requirement already satisfied: pip in /home/username/Documents/Scripts/jupyter_lab_venv/lib/python3.9/site-packages (21.1.3)\n",
      "Collecting pip\n",
      "  Downloading pip-21.2.4-py3-none-any.whl (1.6 MB)\n",
      "\u001b[K     |████████████████████████████████| 1.6 MB 2.3 MB/s eta 0:00:01\n",
      "\u001b[?25hRequirement already satisfied: openpyxl in /home/username/Documents/Scripts/jupyter_lab_venv/lib/python3.9/site-packages (3.0.7)\n",
      "Requirement already satisfied: et-xmlfile in /home/username/Documents/Scripts/jupyter_lab_venv/lib/python3.9/site-packages (from openpyxl) (1.1.0)\n",
      "Installing collected packages: pip\n",
      "  Attempting uninstall: pip\n",
      "    Found existing installation: pip 21.1.3\n",
      "    Uninstalling pip-21.1.3:\n",
      "      Successfully uninstalled pip-21.1.3\n",
      "Successfully installed pip-21.2.4\n"
     ]
    }
   ],
   "source": [
    "# installeer of upgrade openpyxl\n",
    "!python -m pip install --upgrade pip openpyxl"
   ]
  },
  {
   "cell_type": "markdown",
   "id": "20841354",
   "metadata": {},
   "source": [
    "### De opbouw van een spreadsheet\n",
    "Een spreadsheet (xlsx) file is een [zipfile] met xml files.  \n",
    "De xml files vormen het Workbook.  \n",
    "Het Workbook kan meerdere Worksheets bevatten.  \n",
    "En een Worksheet is een matrix van Cellen.  \n",
    "De Cellen hebben elk een apart coördinaat wat een combinatie van de Column en Row is.  \n",
    "De kolommen zijn aangeduid met letters en de regels met cijfers.  \n",
    "Een Cell kan data als waarde hebben.  \n",
    "\n",
    "In het voorbeeld hieronder is de structuur te zien.  \n",
    "Het Workbook in de file _Spreadsheet_file.xlsx_ heeft een Worksheet met de naam `'Worksheet 1'`.  \n",
    "De Cell met het coördinaat `'B2'` heeft de waarde `'Cell\\nB2'`\n",
    "\n",
    "[zipfile]: https://docs.python.org/3/library/zipfile.html \"zipfile — Work with ZIP archives\""
   ]
  },
  {
   "cell_type": "code",
   "execution_count": 2,
   "id": "272ea2c0-4346-4ff8-be1e-fea2e1dda5f4",
   "metadata": {},
   "outputs": [
    {
     "data": {
      "text/html": [
       "<!--[if IE]><meta http-equiv=\"X-UA-Compatible\" content=\"IE=5,IE=9\" ><![endif]-->\n",
       "<!DOCTYPE html>\n",
       "<html>\n",
       "<head>\n",
       "<title>📌 ( ͡° ͜ʖ ͡°)</title>\n",
       "<meta charset=\"utf-8\"/>\n",
       "</head>\n",
       "<body><div class=\"mxgraph\" style=\"max-width:100%;\" data-mxgraph=\"{&quot;highlight&quot;:&quot;#0000ff&quot;,&quot;target&quot;:&quot;blank&quot;,&quot;lightbox&quot;:false,&quot;nav&quot;:true,&quot;xml&quot;:&quot;&lt;mxfile host=\\&quot;app.diagrams.net\\&quot; modified=\\&quot;2021-07-08T07:16:54.500Z\\&quot; agent=\\&quot;5.0 (X11)\\&quot; etag=\\&quot;9_T1CX_7jAe--w6dLlc3\\&quot; version=\\&quot;14.8.5\\&quot; type=\\&quot;device\\&quot;&gt;&lt;diagram id=\\&quot;MX24nsD03XreC6scREsc\\&quot; name=\\&quot;Page-1\\&quot;&gt;7VrLcqM4FP0alnYZ4ecydsc9m5nu6cxUL7sEyIaOQJSQgz1fPxIIDEgG/E7FSaUSuIgrdM/RfYFhLYLtVwoj70/iImyAgbs1rC8GAOYQAEP8DtxdJplMZ5lgTX1XDtoLXvz/kBQOpHTjuyiuDGSEYOZHVaFDwhA5rCKDlJKkOmxFcHXWCK6RInhxIFalP32XeZl0CiZ7+R/IX3v5zOZYri+A+WC5ktiDLklKIuvZsBaUEJYdBdsFwsJ4uV2y+5YHrhYPRlHINDf8GyP6zf4tbAIGGNocl3SQAcYwiAxrHtqx+PcSUQTd2EOI/Vr5GPW3ON5murEfvmY3eYwJez8J7WCZJEkfOQHs+SFDNITMJyHEfULX/GK0sbHvpLK4B0O3FzP+F1I35hfLx6kGazJOdebT/QPpGsnl/LIx5A+QXstXHWy+eNM43KLlDv797fmv5dvE7YHCmoWVYrbLEUw8n6GXCDriPOEs5Yv2WCDMYfJDGEcZb1b+FrlCgP11yM8xWnHx/A1RxteDn6SYEaGAWwovCCaUS0ISctXz7EHFcLQ9CJFZetSviASI0R0fIm8YSarIvTKUp8meeKOBlHkl0hVCKMm+LjTv+cAPpHXy0xJDGhnzk9BXm5DXZlKQCIXRbov7gk7MQy5x4r5PBNBhhrzNEQFLGPnl0YlUvj9IsTmPEGYjIeLED7gipAHXJoyRgF9wCMYwin07vWlwGXinVXinKrxDSwNvIdTBKyf7wVGD4VpYuPtspo5MwKpOBnG2x9GcbEKxcWuUKpZ5JsueHOa/8ccfY7HrbMqP1uJIsC/1Tny4eVMKWg0j8j3Rh/Kxz+PrqJGwVFhe+KaUiC3+bEVClnsmvoZB+qP3WLmnc5Dw403boRP5W7eiuiNAlaPWpCNJxxdxeEpM1a9gLFcP8QbtPWLOSSPfMA8BmFlHbNYRseHxiHWDB4wUeH7wNKsOCbcDq9o9ZpS8opqFTzF64LuumEYLdJUKh7CmhKUZExf3Zp2jzSn4VeEzLU0M0gWFa6FnzRT0FOhQ6D6JTH4PiQv57nMljiVIhfw7ZCJgpRIwsAqg8+wdNMCQTY1cpSQ4zeaVvE2XtmUyijBMg0ildjkc678TnncfjPOgngzGZEMdJG8qFxQ1Pa2KWBraFEXtWUA3KuS8+6TCpahg1sPkqVRQFF2bCuYnFc6kQgFZvpvrAbgrF+qKzHosuDYXwCcXzuRCgf25XKgruhwXmnoPMtO+UuWXai8dXaL9MCxh0dh/uGTunzWmrtK4mI2qsJvyvJI1avhrjY7PG49oGVyFEw5/kuxP5jaW5UbA/qJ44D7NC42TqWI1U2XNy4foIICy5w3tfPjgWGDr5VyR87XVAyeUcycX4JaliQDvqOgu6r9OO62dBiWYjoTlakW2OVEgMB8CgHsZPN+XJYOrac9HNPjhVx+3tb9agTyUx9G9m7ip/dWsf/hI9i8C890AUIPu6KEAGN8ZAEt97cCttAlCBYX33druhFBLllpvQWiiw1SXpR6PzaFSI0Os/m5yfpMS5MwKY1Ky7Tt6t3jcFm55jXiowdFCkFtWMUNdFdPax+pg/EqrS+1kGe0dq/s2KgdV7IajmorOzak2RRdvTt1i8zf2H5xSQDjZQQzv3IKoO3dN4LXA1Tbvwc9RzrQqGH8Et9tOGL2/uLezBWq/Yq5424+IQe1F4OUh6Wj/qWL/xSPZX+fEbguA7ruKj9XBaIHgujng/rPtLH3Yf/xuPf8P&lt;/diagram&gt;&lt;/mxfile&gt;&quot;}\"></div>\n",
       "<script type=\"text/javascript\" src=\"https://viewer.diagrams.net/js/viewer-static.min.js\"></script>\n",
       "</body>\n",
       "</html>\n"
      ],
      "text/plain": [
       "<IPython.core.display.HTML object>"
      ]
     },
     "execution_count": 2,
     "metadata": {},
     "output_type": "execute_result"
    }
   ],
   "source": [
    "from IPython import display\n",
    "display.HTML(filename=r'./docs/simple_openpyxl_structure.html')\n",
    "# hieronder een simpel overzicht van een spreadsheet in openpyxl"
   ]
  },
  {
   "cell_type": "markdown",
   "id": "c5c7563e-5590-4f5b-87f0-ec47dd5a469d",
   "metadata": {},
   "source": [
    "---\n",
    "\n",
    "### Het invullen van een spreadsheet met openpyxl\n",
    "\n",
    "In de code hieronder wordt de basis functionaliteit van openpyxl uitgelegd."
   ]
  },
  {
   "cell_type": "markdown",
   "id": "1e925164-1e63-4b8f-b393-e01fcd282f3c",
   "metadata": {},
   "source": [
    "Importeer de benodigde modules"
   ]
  },
  {
   "cell_type": "code",
   "execution_count": 3,
   "id": "af2e9d20-97d5-48f0-9e93-f1e28ba2924c",
   "metadata": {},
   "outputs": [],
   "source": [
    "from pathlib import Path\n",
    "\n",
    "from openpyxl import Workbook, load_workbook\n",
    "from openpyxl.utils import get_column_letter, rows_from_range, cols_from_range"
   ]
  },
  {
   "cell_type": "markdown",
   "id": "3f283793",
   "metadata": {
    "pycharm": {
     "name": "#%% md\n"
    }
   },
   "source": [
    "Maak een nieuw Workbook aan.  "
   ]
  },
  {
   "cell_type": "code",
   "execution_count": 4,
   "id": "655756ec-d5fb-437c-8640-33932fd0ab93",
   "metadata": {},
   "outputs": [
    {
     "data": {
      "text/plain": [
       "<openpyxl.workbook.workbook.Workbook at 0x7f1244288880>"
      ]
     },
     "execution_count": 4,
     "metadata": {},
     "output_type": "execute_result"
    }
   ],
   "source": [
    "workbook = Workbook()  # nieuwe workbook (spreadsheet file in memory)\n",
    "workbook"
   ]
  },
  {
   "cell_type": "markdown",
   "id": "798487a9-f859-4494-986a-59641bbfe944",
   "metadata": {},
   "source": [
    "Maak een nieuw Worksheet aan."
   ]
  },
  {
   "cell_type": "code",
   "execution_count": 5,
   "id": "c9043633-b648-4cd0-98fa-0c73f72965bc",
   "metadata": {},
   "outputs": [
    {
     "data": {
      "text/plain": [
       "['Sheet', 'nieuwe sheet']"
      ]
     },
     "execution_count": 5,
     "metadata": {},
     "output_type": "execute_result"
    }
   ],
   "source": [
    "workbook.create_sheet('nieuwe sheet')  # nieuwe sheet in het workbook\n",
    "workbook.sheetnames  # huidige sheet namen"
   ]
  },
  {
   "cell_type": "markdown",
   "id": "81c19283-eeb0-4cdc-a6e4-6d64a70d5938",
   "metadata": {
    "pycharm": {
     "name": "#%% md\n"
    }
   },
   "source": [
    "Dit worksheet is nu te gebruiken.  "
   ]
  },
  {
   "cell_type": "code",
   "execution_count": 6,
   "id": "40bad916-687f-4f82-89bb-b59ba28416c5",
   "metadata": {},
   "outputs": [
    {
     "data": {
      "text/plain": [
       "<Worksheet \"nieuwe sheet\">"
      ]
     },
     "execution_count": 6,
     "metadata": {},
     "output_type": "execute_result"
    }
   ],
   "source": [
    "# select het work_sheet, hiermee gaan we werken\n",
    "worksheet = workbook['nieuwe sheet']\n",
    "worksheet"
   ]
  },
  {
   "cell_type": "markdown",
   "id": "4567825e-60fe-4916-a5ab-0cf57c69cef4",
   "metadata": {
    "pycharm": {
     "name": "#%% md\n"
    }
   },
   "source": [
    "Het is mogenlijk om deze sheet als `active` sheet te zetten.  \n",
    "Een `active` sheet is de sheet die open staat zodra je het spreadsheet opent in bijvoorbeeld: Excel.  "
   ]
  },
  {
   "cell_type": "code",
   "execution_count": 7,
   "id": "bd651e5b",
   "metadata": {
    "collapsed": false,
    "jupyter": {
     "outputs_hidden": false
    },
    "pycharm": {
     "name": "#%%\n"
    }
   },
   "outputs": [
    {
     "data": {
      "text/plain": [
       "<Worksheet \"nieuwe sheet\">"
      ]
     },
     "execution_count": 7,
     "metadata": {},
     "output_type": "execute_result"
    }
   ],
   "source": [
    "# zet de worksheet als de `active` in het workbook\n",
    "workbook.active = worksheet\n",
    "workbook.active"
   ]
  },
  {
   "cell_type": "markdown",
   "id": "b7ff2364",
   "metadata": {},
   "source": [
    "Hernoem de sheet door het een andere titel te geven.  "
   ]
  },
  {
   "cell_type": "code",
   "execution_count": 8,
   "id": "5c3d6653-2cde-4e53-a2ea-30d85a59a73b",
   "metadata": {},
   "outputs": [
    {
     "data": {
      "text/plain": [
       "'100x100'"
      ]
     },
     "execution_count": 8,
     "metadata": {},
     "output_type": "execute_result"
    }
   ],
   "source": [
    "worksheet.title = '100x100'   \n",
    "worksheet.title"
   ]
  },
  {
   "cell_type": "code",
   "execution_count": 9,
   "id": "8c9f418a",
   "metadata": {
    "collapsed": false,
    "jupyter": {
     "outputs_hidden": false
    },
    "pycharm": {
     "name": "#%%\n"
    }
   },
   "outputs": [
    {
     "data": {
      "text/plain": [
       "['Sheet', '100x100']"
      ]
     },
     "execution_count": 9,
     "metadata": {},
     "output_type": "execute_result"
    }
   ],
   "source": [
    "# huidige sheet namen\n",
    "workbook.sheetnames"
   ]
  },
  {
   "cell_type": "markdown",
   "id": "e1fb2c48",
   "metadata": {},
   "source": [
    "Verwijder de sheet die we niet nodig hebben.  "
   ]
  },
  {
   "cell_type": "code",
   "execution_count": 10,
   "id": "8eb82100",
   "metadata": {
    "collapsed": false,
    "jupyter": {
     "outputs_hidden": false
    },
    "pycharm": {
     "name": "#%%\n"
    }
   },
   "outputs": [
    {
     "data": {
      "text/plain": [
       "['100x100']"
      ]
     },
     "execution_count": 10,
     "metadata": {},
     "output_type": "execute_result"
    }
   ],
   "source": [
    "workbook.remove(workbook['Sheet'])\n",
    "workbook.sheetnames"
   ]
  },
  {
   "cell_type": "markdown",
   "id": "f5a1143e-0a33-404f-922c-96e9d8a32291",
   "metadata": {},
   "source": [
    "Het invullen van data is op cel niveau.  \n",
    "De coordinaten van een cel is een combinatie van kolommen en regels"
   ]
  },
  {
   "cell_type": "code",
   "execution_count": 11,
   "id": "3c7b6959-0c15-493c-9842-8d2fb2d5ded5",
   "metadata": {},
   "outputs": [
    {
     "name": "stdout",
     "output_type": "stream",
     "text": [
      "<Cell '100x100'.B2>\n",
      "value in cell B2: None\n"
     ]
    }
   ],
   "source": [
    "cell_b2 = worksheet['B2']  # selecteer de Cell\n",
    "print(cell_b2)\n",
    "print(f'value in cell B2: {cell_b2.value}')"
   ]
  },
  {
   "cell_type": "code",
   "execution_count": 12,
   "id": "61e106cf-a95f-4505-b18a-84082f0a1d32",
   "metadata": {},
   "outputs": [
    {
     "name": "stdout",
     "output_type": "stream",
     "text": [
      "value in cell B2: 'CELL\\nB2'\n"
     ]
    }
   ],
   "source": [
    "# voeg een waarde toe aan de Cell met het `value` attribute\n",
    "cell_b2.value = 'CELL\\nB2'\n",
    "print(f'value in cell B2: {cell_b2.value!r}')"
   ]
  },
  {
   "cell_type": "markdown",
   "id": "c83836ba",
   "metadata": {},
   "source": [
    "Het is mogenlijk om over kolommen en regels te itereren met een for-loop.  \n",
    "Spreadsheets starten bij 1 (niet bij 0 zoals bij `list`).  "
   ]
  },
  {
   "cell_type": "code",
   "execution_count": 13,
   "id": "61c62629",
   "metadata": {
    "collapsed": false,
    "jupyter": {
     "outputs_hidden": false
    },
    "pycharm": {
     "name": "#%%\n"
    }
   },
   "outputs": [],
   "source": [
    "# loop over de index van de kolommen\n",
    "for col_idx in range(1, 100 + 1):\n",
    "    # vraag het kolom letter op\n",
    "    col_letter = get_column_letter(col_idx)\n",
    "    \n",
    "    # loop onder het kolom over de index van de rijen\n",
    "    for row_idx in range(1, 100 + 1):\n",
    "        \n",
    "        # voeg het kolom letter en de rij cijfer bij een\n",
    "        coord = f'{col_letter}{row_idx}'\n",
    "        # selecteer de cel in het worksheet en vul deze in\n",
    "        # worksheet[coord].value = coord    \n",
    "        worksheet.cell(column=col_idx, row=row_idx, value=coord)"
   ]
  },
  {
   "cell_type": "markdown",
   "id": "53cecb2b",
   "metadata": {
    "pycharm": {
     "name": "#%% md\n"
    }
   },
   "source": [
    "Creëer een nieuw _path_ om het excel bestand daar op te slaan."
   ]
  },
  {
   "cell_type": "code",
   "execution_count": 14,
   "id": "7aef90d1",
   "metadata": {
    "collapsed": false,
    "jupyter": {
     "outputs_hidden": false
    },
    "pycharm": {
     "name": "#%%\n"
    }
   },
   "outputs": [
    {
     "data": {
      "text/plain": [
       "'/home/username/Documents/Scripts/Jupyter/Advanced_Python/new_excel.xlsx'"
      ]
     },
     "execution_count": 14,
     "metadata": {},
     "output_type": "execute_result"
    }
   ],
   "source": [
    "# create path to the new excel file\n",
    "current_path = Path.cwd()\n",
    "new_excel = current_path.joinpath('new_excel.xlsx')\n",
    "\n",
    "str(new_excel)"
   ]
  },
  {
   "cell_type": "code",
   "execution_count": 15,
   "id": "78500e3b",
   "metadata": {
    "collapsed": false,
    "jupyter": {
     "outputs_hidden": false
    },
    "pycharm": {
     "name": "#%%\n"
    }
   },
   "outputs": [],
   "source": [
    "workbook.save(new_excel)  # save to path\n",
    "workbook.close()  # sluit het workbook"
   ]
  },
  {
   "cell_type": "markdown",
   "id": "5f15b31b-4c01-4104-b22c-aec3fdd76319",
   "metadata": {
    "jupyter": {
     "outputs_hidden": false
    },
    "pycharm": {
     "name": "#%%\n"
    }
   },
   "source": [
    "---\n",
    "\n",
    "### Het gebruik van [formules] in spreadsheets\n",
    "\n",
    "In de code hieronder wordt openpyxl gebruikt om een sheet te vullen.  \n",
    "En de formules die we toevoegen worden dan gebruikt door het spreadsheet programma als de spreadsheet geopend wordt.  \n",
    "\n",
    "[formules]: https://support.microsoft.com/en-us/office/overview-of-formulas-in-excel-ecfdc708-9162-49e8-b993-c311f47ca173 \"Overview of formulas in Excel\""
   ]
  },
  {
   "cell_type": "markdown",
   "id": "d8e4495e-945b-4ce4-974b-70dddb93919f",
   "metadata": {},
   "source": [
    "Open het workbook wat hiervoor gemaakt is "
   ]
  },
  {
   "cell_type": "code",
   "execution_count": 16,
   "id": "b1c4d81c",
   "metadata": {
    "collapsed": false,
    "jupyter": {
     "outputs_hidden": false
    },
    "pycharm": {
     "name": "#%%\n"
    }
   },
   "outputs": [
    {
     "data": {
      "text/plain": [
       "['100x100']"
      ]
     },
     "execution_count": 16,
     "metadata": {},
     "output_type": "execute_result"
    }
   ],
   "source": [
    "workbook = load_workbook(new_excel)\n",
    "workbook.sheetnames"
   ]
  },
  {
   "cell_type": "markdown",
   "id": "0c68d4a7-e4dc-4d8e-a051-22957c5236a5",
   "metadata": {},
   "source": [
    "Maak een nieuwe sheet aan.  "
   ]
  },
  {
   "cell_type": "code",
   "execution_count": 17,
   "id": "e670a04d",
   "metadata": {
    "collapsed": false,
    "jupyter": {
     "outputs_hidden": false
    },
    "pycharm": {
     "name": "#%%\n"
    }
   },
   "outputs": [
    {
     "data": {
      "text/plain": [
       "['100x100', 'formulas']"
      ]
     },
     "execution_count": 17,
     "metadata": {},
     "output_type": "execute_result"
    }
   ],
   "source": [
    "worksheet = workbook.create_sheet('formulas')\n",
    "workbook.sheetnames"
   ]
  },
  {
   "cell_type": "markdown",
   "id": "c320baaa-7f66-4a99-8a94-20a7c4401586",
   "metadata": {},
   "source": [
    "Vul het workbook met data.  "
   ]
  },
  {
   "cell_type": "code",
   "execution_count": 18,
   "id": "7ccaf55e",
   "metadata": {
    "collapsed": false,
    "jupyter": {
     "outputs_hidden": false
    },
    "pycharm": {
     "name": "#%%\n"
    }
   },
   "outputs": [],
   "source": [
    "data = [\n",
    "    ('naam',  'oktober', 'november', 'december'),  # headers\n",
    "    ('ria',           0,       4000,       7000),  # row with data\n",
    "    ('anna',       7250,       8500,      11000),\n",
    "    ('bas',        9250,       8000,      10000),\n",
    "    ('peter',      8500,      10000,      12500),\n",
    "]\n",
    "\n",
    "# loop over de data en `append` de regels\n",
    "for row in data:\n",
    "    worksheet.append(row)"
   ]
  },
  {
   "cell_type": "markdown",
   "id": "f4d1bbc9-6703-4ec5-9d0b-528a2e5a1645",
   "metadata": {},
   "source": [
    "In de worksheet `'formulas'` staat `'name'` op coordinaat `A1`.  \n",
    "\n",
    "Het is mogenlijk om de dimensie van de matrix op te vragen.  "
   ]
  },
  {
   "cell_type": "code",
   "execution_count": 19,
   "id": "fe0cb38f",
   "metadata": {
    "collapsed": false,
    "jupyter": {
     "outputs_hidden": false
    },
    "pycharm": {
     "name": "#%%\n"
    }
   },
   "outputs": [
    {
     "data": {
      "text/plain": [
       "'A1:D5'"
      ]
     },
     "execution_count": 19,
     "metadata": {},
     "output_type": "execute_result"
    }
   ],
   "source": [
    "# get the worksheet size\n",
    "worksheet_dimension = worksheet.calculate_dimension()\n",
    "worksheet_dimension"
   ]
  },
  {
   "cell_type": "markdown",
   "id": "c3d123f9-33ed-4323-9369-1416e148fe8d",
   "metadata": {},
   "source": [
    "Het idee is om de optelsom van de kolommen boven de headers te plaatsen.  \n",
    "Hiervoor moet er regels ingevoegd worden.  "
   ]
  },
  {
   "cell_type": "code",
   "execution_count": 20,
   "id": "e2175a2e",
   "metadata": {
    "collapsed": false,
    "jupyter": {
     "outputs_hidden": false
    },
    "pycharm": {
     "name": "#%%\n"
    }
   },
   "outputs": [],
   "source": [
    "# voeg regels toe op \n",
    "worksheet.insert_rows(idx=0, amount=1)\n",
    "\n",
    "# of\n",
    "# verplaats de ingevulde cellen\n",
    "# worksheet.move_range(worksheet_dimension, rows=1, cols=0)"
   ]
  },
  {
   "cell_type": "markdown",
   "id": "414d2a6d-39aa-46a9-9a38-6adbdd17157a",
   "metadata": {},
   "source": [
    "Er is ruimte gemaakt voor de optelsom boven de header."
   ]
  },
  {
   "cell_type": "code",
   "execution_count": 21,
   "id": "c9cf3516-6834-41b7-a8b3-53b95e5eb835",
   "metadata": {
    "collapsed": false,
    "jupyter": {
     "outputs_hidden": false
    },
    "pycharm": {
     "name": "#%%\n"
    }
   },
   "outputs": [
    {
     "data": {
      "text/plain": [
       "'Totaal kolom'"
      ]
     },
     "execution_count": 21,
     "metadata": {},
     "output_type": "execute_result"
    }
   ],
   "source": [
    "# een aanduiding wat de cellen weergeven\n",
    "worksheet['A1'].value = 'Totaal kolom'\n",
    "worksheet['A1'].value"
   ]
  },
  {
   "cell_type": "code",
   "execution_count": 22,
   "id": "b3c1c08e-0f38-490a-8205-e29c4f0e3fb6",
   "metadata": {
    "collapsed": false,
    "jupyter": {
     "outputs_hidden": false
    },
    "pycharm": {
     "name": "#%%\n"
    }
   },
   "outputs": [
    {
     "data": {
      "text/plain": [
       "'=SUM( OFFSET(C3, 0, 0, ROWS(C:C)-3) )'"
      ]
     },
     "execution_count": 22,
     "metadata": {},
     "output_type": "execute_result"
    }
   ],
   "source": [
    "# de regel onder de header\n",
    "start_row = 3\n",
    "\n",
    "# string met formatting opties\n",
    "cell_formula = '=SUM( OFFSET({col_letter}{start_row}, 0, 0, ROWS({col_letter}:{col_letter})-{start_row}) )'\n",
    "\n",
    "# loop over de regels in de opgegeven range\n",
    "for row in rows_from_range('B1:D1'):\n",
    "    \n",
    "    # loop over de coordinaten in de regel\n",
    "    for coord in row:\n",
    "        # vul de cel met de formule\n",
    "        cell = worksheet[coord]\n",
    "        val = cell_formula.format(col_letter=cell.column_letter, start_row=start_row)\n",
    "        cell.value = val\n",
    "\n",
    "# check de waarde van cel: C1\n",
    "worksheet['C1'].value"
   ]
  },
  {
   "cell_type": "markdown",
   "id": "cc45ff1e-fca1-4903-9ec4-7f24e224c9c5",
   "metadata": {},
   "source": [
    "Maak ook een optelsom per regel"
   ]
  },
  {
   "cell_type": "code",
   "execution_count": 23,
   "id": "01b49d28-a09e-47bc-9953-669255b64a60",
   "metadata": {
    "collapsed": false,
    "jupyter": {
     "outputs_hidden": false
    },
    "pycharm": {
     "name": "#%%\n"
    }
   },
   "outputs": [
    {
     "data": {
      "text/plain": [
       "'Total regel'"
      ]
     },
     "execution_count": 23,
     "metadata": {},
     "output_type": "execute_result"
    }
   ],
   "source": [
    "# een aanduiding wat de cellen weergeven\n",
    "worksheet['F2'].value = 'Total regel'\n",
    "worksheet['F2'].value"
   ]
  },
  {
   "cell_type": "code",
   "execution_count": 24,
   "id": "63d9cfd6-2777-47d4-a82c-5aab15cbd583",
   "metadata": {
    "collapsed": false,
    "jupyter": {
     "outputs_hidden": false
    },
    "pycharm": {
     "name": "#%%\n"
    }
   },
   "outputs": [
    {
     "data": {
      "text/plain": [
       "'=SUM(B3: D3)'"
      ]
     },
     "execution_count": 24,
     "metadata": {},
     "output_type": "execute_result"
    }
   ],
   "source": [
    "# string met formatting opties\n",
    "cell_formula = '=SUM(B{row}: D{row})'\n",
    "\n",
    "# y-dimensie van de ingevulde sheet\n",
    "height_sheet = worksheet.max_row\n",
    "\n",
    "# loop over de kolommen in de opgegeven range\n",
    "range_ = f'F{start_row}:F{height_sheet}'\n",
    "for column in cols_from_range(range_):\n",
    "    \n",
    "    # loop over de coordinaten van het kolom\n",
    "    for coord in column:\n",
    "        # vul de cel met de formule\n",
    "        cell = worksheet[coord]\n",
    "        val = cell_formula.format(row=cell.row)\n",
    "        cell.value = val\n",
    "        \n",
    "worksheet['F3'].value"
   ]
  },
  {
   "cell_type": "code",
   "execution_count": 25,
   "id": "eecab7a3",
   "metadata": {
    "collapsed": false,
    "jupyter": {
     "outputs_hidden": false
    },
    "pycharm": {
     "name": "#%%\n"
    }
   },
   "outputs": [],
   "source": [
    "workbook.save(new_excel)"
   ]
  }
 ],
 "metadata": {
  "kernelspec": {
   "display_name": "Python 3 (ipykernel)",
   "language": "python",
   "name": "python3"
  },
  "language_info": {
   "codemirror_mode": {
    "name": "ipython",
    "version": 3
   },
   "file_extension": ".py",
   "mimetype": "text/x-python",
   "name": "python",
   "nbconvert_exporter": "python",
   "pygments_lexer": "ipython3",
   "version": "3.9.7"
  }
 },
 "nbformat": 4,
 "nbformat_minor": 5
}
