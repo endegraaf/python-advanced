{
 "cells": [
  {
   "cell_type": "markdown",
   "id": "933b8d33-16c4-4e3e-8fef-cea59f44adee",
   "metadata": {},
   "source": [
    "# [PEP 8 -- Style Guide for Python Code][PEP_8]\n",
    "\n",
    "[PEP_8]: https://www.python.org/dev/peps/pep-0008/"
   ]
  },
  {
   "cell_type": "markdown",
   "id": "f14c2150-7e83-4f9a-acc3-7025b65dd674",
   "metadata": {},
   "source": [
    "## Intro\n",
    "> One of Guido’s key insights is that code is read much more often than it is written.  \n",
    "> The guidelines provided here are intended to improve the readability of code ...  \n",
    "> As [PEP 20][PEP_20] says, “Readability counts”.  \n",
    "\n",
    "\n",
    "[PEP_20]: https://www.python.org/dev/peps/pep-0020/"
   ]
  },
  {
   "cell_type": "markdown",
   "id": "d909f877-532a-4ef2-b579-8b82cc19cc8b",
   "metadata": {},
   "source": [
    "Python is een programeertaal waarbij je de types van de objecten niet hoeft te definieren.  \n",
    "Zonder een style guide is het moeilijk om te onderscheiden of een object een Class, functie of variable is als je de code leest."
   ]
  },
  {
   "cell_type": "markdown",
   "id": "9e81e1f9-1714-4547-a985-f16082a0ef79",
   "metadata": {},
   "source": [
    "Om een uniformiteit te scheppen is de [PEP-8] style guide geschreven.  \n",
    "Dit document dekt niet alles uit [PEP-8] maar is zeker voldoende om begrijpbare & leesbare Python code te schrijven.\n",
    "\n",
    "[PEP-8]: https://www.python.org/dev/peps/pep-0008/"
   ]
  },
  {
   "cell_type": "markdown",
   "id": "66f7948c-7dc7-4694-ad1a-aaa1e33c0661",
   "metadata": {},
   "source": [
    "## Een paar regels uit de style guide"
   ]
  },
  {
   "cell_type": "markdown",
   "id": "8859f4c3-6645-41f8-9f8c-33d420caf6f3",
   "metadata": {},
   "source": [
    "### [Indentations](https://pep8.org/#indentation)\n",
    "\n",
    "De code blocks in Python zijn aangegeven met indentaties.  \n",
    "Deze indentaties zijn tabs of spaties, maar kunnen niet gemixed worden.  \n",
    "De hoeveelheid indentaties kunnen ook niet in een code block van elkaar wisselen.  \n",
    "Bijvoorbeeld 4 spaties op regel 1 en 2 spaties op regel 2. Dit gaat niet werken.  \n",
    "\n",
    "Het beste is om je editor in te stellen dat de Tab knop 4 spaties schrijft in plaats van `\\t`."
   ]
  },
  {
   "cell_type": "markdown",
   "id": "ba36594a-b684-4400-b130-34c548b54350",
   "metadata": {},
   "source": [
    "### [Line lenght](https://pep8.org/#maximum-line-length)\n",
    "\n",
    "Over de _line lenght_ zegt PEP-8 dat het maximaal 80 characters mag zijn.  \n",
    "Deze lengte is geërfd van de maximale breedte die normaal een [terminal] heeft.  \n",
    "Veel ontwikkelaars en teams die software ontwikkelen nemen het niet zo nauw met deze regel.  \n",
    "Ze houden vaak een 100-120 character limiet aan.  \n",
    "\n",
    "[terminal]: https://nl.wikipedia.org/wiki/Computerterminal \"Computerterminal Wiki\""
   ]
  },
  {
   "cell_type": "markdown",
   "id": "21864303-736b-4ca6-b3a3-bd3f314a2fde",
   "metadata": {},
   "source": [
    "### [Imports](https://pep8.org/#imports)\n",
    "\n",
    "Het importeren van built-in modules en third-party hebben een bepaalde volgorde.  \n",
    "Eerst worden de built-in modules geimporteerd.  \n",
    "Als tweede komen de third-party imports.  \n",
    "En als laatst de locale paketten.  "
   ]
  },
  {
   "cell_type": "markdown",
   "id": "c77a5594-35b6-4717-a840-b69fbe974ef8",
   "metadata": {},
   "source": [
    "```python3\n",
    "                                                         # First import built-in modules\n",
    "import os                                                # Don't use: `import os, sys, itertools` \n",
    "import sys                                               # Import every module on a seperate line\n",
    "from itertools import takewhile, dropwhile               # It's allowed to import multiple objects\n",
    "                                                         #   from one import\n",
    "import requests                                          # Second import third-party libraries\n",
    "from selenium import webdriver                           \n",
    "from src.utils import ASuperLongNameForAClass as Aslnac  # Third and last import local application/libraries\n",
    "```  "
   ]
  },
  {
   "cell_type": "markdown",
   "id": "2c679b5d-9bea-45a9-9379-06dc6deacf85",
   "metadata": {},
   "source": [
    "### [Blank lines](https://pep8.org/#blank-lines)\n",
    "\n",
    "Er wordt verwacht dat top-level functies en classes omringt worden door 2 blanke lijnen.  \n",
    "\n",
    "Excessief gebruik van blanke lijnen in _code blocks_ wordt afgeraden.  \n",
    "Wel kunnen deze gebruikt worden in bijv.: functies om duidelijkheid te scheppen in groeppen logica  "
   ]
  },
  {
   "cell_type": "markdown",
   "id": "2b93bf78-5cad-4165-b070-bf66c1c24db2",
   "metadata": {},
   "source": [
    "```python3\n",
    "text = 'some text'\n",
    "def add_text(string):                  # two blank lines surrounding top-level functions and classes\n",
    "    if not isinstance(string, str):\n",
    "        return text\n",
    "                                       # blank line seperating logic\n",
    "    return f'{text} string'\n",
    "```  "
   ]
  },
  {
   "cell_type": "markdown",
   "id": "54b79858-0aa0-422e-befa-03b483f5bae7",
   "metadata": {},
   "source": [
    "### [Variables](https://pep8.org/#naming-conventions)\n",
    "\n",
    "Het `=` teken wordt omringt door een spatie bij het _assignen_ van waardes/objecten aan variables.  \n",
    "De namen van variabelen worden geschreven in [snake_case].  \n",
    "Het beste is om de namen zo duidelijk mogenlijk te maken.  \n",
    "Bijvoorbeeld bij een class instantie is een afgelijde van de class naam het duidelijkste.  \n",
    "\n",
    "Vermijd namen met enkele letters zoals: `q = ImportantClassInstance()`  \n",
    "\n",
    "Python heeft geen constanten.  \n",
    "Door de variable in hoodletters te schrijven wordt aangegeven dat het een constante is.  \n",
    "Dit geeft geen garantie dat de waarde van de variabele constant blijft.  \n",
    "\n",
    "[snake_case]: https://en.wikipedia.org/wiki/Snake_case \"Wikipedia\""
   ]
  },
  {
   "cell_type": "markdown",
   "id": "33422175-a3ee-4db8-87f0-690b49e0aa6e",
   "metadata": {},
   "source": [
    "```python3\n",
    "MAX_NUMBER = 10_000         # Constants are defined on top level and in all caps\n",
    "class ThisClass:\n",
    "   pass\n",
    "                            # Space surrounding the '=' when assignging a value/object to a variable \n",
    "this_class = ThisClass()    # Descriptive variable names in snake_case\n",
    "```"
   ]
  },
  {
   "cell_type": "markdown",
   "id": "fca0ffd4-1b90-4bca-bced-c1ec78dfd5ce",
   "metadata": {},
   "source": [
    "### [Functions](https://pep8.org/#function-names)\n",
    "\n",
    "De namen van functies in Python wordt geschreven in [snake_case].   \n",
    "Top-level functies worden omringt door twee blanke lijnen (zoals classes).  \n",
    "Het `=` teken wordt niet omringt door een spatie bij functie argumenten met een standaard waarde.  \n",
    "\n",
    "[snake_case]: https://en.wikipedia.org/wiki/Snake_case \"Wikipedia\""
   ]
  },
  {
   "cell_type": "markdown",
   "id": "00169967-4d39-49c1-bff4-9223ea319ac4",
   "metadata": {},
   "source": [
    "```python3\n",
    "                                          # Function name in snake_case\n",
    "def sum_of_two(first_num, second_num=2):  # No space surrounding '=' when assinging default values\n",
    "    return first_num + second_num\n",
    "```  "
   ]
  },
  {
   "cell_type": "markdown",
   "id": "7e6fa68a-cdc7-40d2-ac70-86dd905f2563",
   "metadata": {},
   "source": [
    "### [Classes](https://pep8.org/#class-names)\n",
    "\n",
    "Classes in Python hebben in de code een andere functie/datastructuur dan functies of variabelen.  \n",
    "Om classes van functies en variabelen te onderscheiden hebben de classes een andere schrijfwijze.  \n",
    "De namen van classes wordt in [CamelCase] geschreven.  \n",
    "\n",
    "Methodes (functies) in classes worden omringt door 1 blanke lijn.  \n",
    "\n",
    "[CamelCase]: https://en.wikipedia.org/wiki/CamelCase \"Wikipedia\""
   ]
  },
  {
   "cell_type": "markdown",
   "id": "13325401-86a2-4513-aec4-ee5c37517398",
   "metadata": {},
   "source": [
    "```python3\n",
    "class MyFirstClass:               # CamelCase class name\n",
    "                                  # Methods in classes are surrounded by a blank line\n",
    "    def method_in_class(self):    # Methods, like functions, are named in snake_case\n",
    "        pass\n",
    "```  "
   ]
  },
  {
   "cell_type": "markdown",
   "id": "58202878-2c06-45ec-affb-1a157a4092a9",
   "metadata": {},
   "source": [
    "## Hulp programmas  \n",
    "Een goede IDE of een [Python linter] helpt je met het aanhouden van de style guide.  \n",
    "Ook bestaat er Python refactor programmas zoals [Black] en [Flake8].  \n",
    "Black formateerd de code naar een betere schrijfwijze.  \n",
    "Flake8 let op de geschreven code-quality.  \n",
    "\n",
    "[python linter]: https://pylint.org/ \"pylint\"\n",
    "[black]: https://pypi.org/project/black/ \"black\"\n",
    "[flake8]: https://pypi.org/project/flake8/ \"flake8\""
   ]
  },
  {
   "cell_type": "markdown",
   "id": "3df79299-f8af-4314-a95f-7d14a0fb638f",
   "metadata": {},
   "source": [
    "## Samenvatting  \n",
    "Hieronder een kleine samenvatting waarmee een hoop gedekt wordt.  "
   ]
  },
  {
   "cell_type": "markdown",
   "id": "44800173-b7bd-42d4-a828-75d5b06d410d",
   "metadata": {},
   "source": [
    "```python3\n",
    "                                              # Import order:\n",
    "import builtins                               # 1. standard library imports\n",
    "from thirdparty import object1, object2       # 2. related third party imports\n",
    "from src.local import ThisClass as SomeClass  # 3. local application/library specific imports\n",
    "                                              # Constants are defined after the imports\n",
    "MAX_NUMBER = 1                                # Constants are written in all caps and defined on top-level\n",
    "                                              # Surround top-level function and class definitions\n",
    "                                              #   with two blank lines\n",
    "class ThisIsAClass:                           # Class name in CamelCase\n",
    "                                              # One empty line above class methods\n",
    "    def this_is_a_method(self):\n",
    "        variable = 1                          # Space surrounding the '=' when asigning values to variables\n",
    " \n",
    "\n",
    "def this_is_a_function(default=2):            # Functions in snake_case\n",
    "    pass                                      # No space surrounding the '=' when asigning \n",
    "                                              #   default values to class or function parameters\n",
    "                                              # Surround top-level function and class definitions \n",
    "this_class = ThisIsAClass()                   #   with two blank lines\n",
    "                                              # Descriptive variable names in snake_case\n",
    "                                              # Empty line at the end of the python script\n",
    "```  "
   ]
  },
  {
   "cell_type": "code",
   "execution_count": null,
   "id": "aa24692d-2f7f-4edd-8844-611835078210",
   "metadata": {},
   "outputs": [],
   "source": []
  }
 ],
 "metadata": {
  "kernelspec": {
   "display_name": "Python 3 (ipykernel)",
   "language": "python",
   "name": "python3"
  },
  "language_info": {
   "codemirror_mode": {
    "name": "ipython",
    "version": 3
   },
   "file_extension": ".py",
   "mimetype": "text/x-python",
   "name": "python",
   "nbconvert_exporter": "python",
   "pygments_lexer": "ipython3",
   "version": "3.9.7"
  }
 },
 "nbformat": 4,
 "nbformat_minor": 5
}
