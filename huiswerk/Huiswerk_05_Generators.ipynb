{
 "cells": [
  {
   "cell_type": "markdown",
   "id": "ec8e31e7-aa86-4b61-a5d8-e45fdbc80725",
   "metadata": {},
   "source": [
    "# Generators - Huiswerk"
   ]
  },
  {
   "cell_type": "markdown",
   "id": "2aacb4a1-24c5-46f8-afa7-793f42575957",
   "metadata": {},
   "source": [
    "In de `src` folder is er een `lipsum.txt` file te vinden.  \n",
    "Dit bevat de bekende [lorem ipsum] placeholder text.  \n",
    "\n",
    "Het doel is om de [./src/lipsum.txt](./src/lipsum.txt) te sorteren op letter en dan naar een andere file te schrijven.   \n",
    "Zoals gedaan is in [./src/lipsum_sorted.txt](./src/lipsum_sorted.txt).  \n",
    "Zie het goed, in het gesorteerde document komt geen leestekens voor.  \n",
    "\n",
    "De uitdaging is om dit met doel met generators te bereiken.\n",
    "\n",
    "[lorem ipsum]: https://www.lipsum.com/"
   ]
  },
  {
   "cell_type": "code",
   "execution_count": 1,
   "id": "2224756b-e68e-4f7c-8e1e-ee58384c8514",
   "metadata": {},
   "outputs": [
    {
     "name": "stdout",
     "output_type": "stream",
     "text": [
      "Lorem ipsum dolor \n"
     ]
    }
   ],
   "source": [
    "from pathlib import Path\n",
    "\n",
    "file = \"lipsum.txt\"\n",
    "filepath = Path.cwd().joinpath(\"src\", file)\n",
    "\n",
    "with filepath.open('r') as lipsum:\n",
    "    print(lipsum.read()[:18])"
   ]
  },
  {
   "cell_type": "markdown",
   "id": "09f1baa7-d7bc-4985-ae2b-cce92d6b7aa3",
   "metadata": {},
   "source": [
    "__Opdracht 1:__  \n",
    "Maak een generator functie dat de textfile `lipsum.txt` inleest.  \n",
    "Zorg ervoor dat elke character in de file met `yield` opgevraagd kan worden.  \n",
    "\n",
    "Voorbeeld functie:"
   ]
  },
  {
   "cell_type": "code",
   "execution_count": 2,
   "id": "5bb33c3d-c228-4091-afc5-9d70db894050",
   "metadata": {},
   "outputs": [],
   "source": [
    "from typing import Iterator\n",
    "\n",
    "def single_letters(filepath: str) -> Iterator[str]:\n",
    "    # filepath inlezen ...\n",
    "    # yield letter\n",
    "    ..."
   ]
  },
  {
   "cell_type": "code",
   "execution_count": null,
   "id": "01470947-4e30-4561-b8bb-9c36fde258e0",
   "metadata": {},
   "outputs": [],
   "source": []
  },
  {
   "cell_type": "markdown",
   "id": "517be442-ce67-41ce-b547-15984d53e059",
   "metadata": {},
   "source": [
    "__Opdracht 2:__  \n",
    "Zorg ervoor dat alle letters `lipsum.txt` op letter gesorteerd in lijsten terecht komt.  \n",
    "Gebruik hiervoor de generator uit _opdracht 1_.\n",
    "\n",
    "Denk aan generators of comprehensions om dit doel te bereiken.\n",
    "\n",
    "voorbeeld output:  \n",
    "```\n",
    "# lijsten met letters\n",
    "['a', 'a', ...]\n",
    "['b', 'b', ...]\n",
    "...\n",
    "```"
   ]
  },
  {
   "cell_type": "code",
   "execution_count": null,
   "id": "12573d35-42cd-4518-a734-fa5c9a4f75e2",
   "metadata": {},
   "outputs": [],
   "source": []
  },
  {
   "cell_type": "markdown",
   "id": "e31e3628-01d1-4f42-9b72-2dea6dd78b1e",
   "metadata": {},
   "source": [
    "__Opdracht 3:__  \n",
    "Schrijf de output van _opdracht 2_ naar een txt-file.  \n",
    "Probeer de output van [lipsum_sorted.txt](./src/lipsum_sorted.txt) te reproduceren."
   ]
  },
  {
   "cell_type": "code",
   "execution_count": null,
   "id": "9b7810fd-46f9-4873-8f6e-2fbae20f8078",
   "metadata": {},
   "outputs": [],
   "source": []
  }
 ],
 "metadata": {
  "kernelspec": {
   "display_name": "Python 3 (ipykernel)",
   "language": "python",
   "name": "python3"
  },
  "language_info": {
   "codemirror_mode": {
    "name": "ipython",
    "version": 3
   },
   "file_extension": ".py",
   "mimetype": "text/x-python",
   "name": "python",
   "nbconvert_exporter": "python",
   "pygments_lexer": "ipython3",
   "version": "3.9.7"
  }
 },
 "nbformat": 4,
 "nbformat_minor": 5
}
