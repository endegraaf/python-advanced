{
 "cells": [
  {
   "cell_type": "markdown",
   "id": "e62a21e4-fcf1-476a-96bd-9b5f59f4533f",
   "metadata": {},
   "source": [
    "# Oefeningen: Comprehensions"
   ]
  },
  {
   "cell_type": "code",
   "execution_count": 1,
   "id": "d8ecdce9-d0ba-4b99-816d-f1668fd63f2c",
   "metadata": {},
   "outputs": [],
   "source": [
    "from string import ascii_lowercase as alphabet"
   ]
  },
  {
   "cell_type": "markdown",
   "id": "6896f9ef-99f0-4c0e-bc84-7cb6f41220d5",
   "metadata": {},
   "source": [
    "__Opdracht 1:__  \n",
    "Maak een list comprehension die over het `alphabet` loopt.  \n",
    "Zorg ervoor dat de letters in de list komen.  \n",
    "\n",
    "voorbeeld uitkomst:  \n",
    "`['a', 'b', 'c', 'd', 'e', 'f', 'g', 'h', 'i', 'j', 'k', 'l', 'm', 'n', 'o', 'p', 'q', 'r', 's', 't', 'u', 'v', 'w', 'x', 'y', 'z']`"
   ]
  },
  {
   "cell_type": "code",
   "execution_count": null,
   "id": "b1f60a93-20dc-4ad0-be05-ffcbb394c58f",
   "metadata": {},
   "outputs": [],
   "source": []
  },
  {
   "cell_type": "markdown",
   "id": "20544d81-ed24-4c9a-9b81-f95c7e79c411",
   "metadata": {},
   "source": [
    "---"
   ]
  },
  {
   "cell_type": "markdown",
   "id": "602225b7-ecee-4d13-a7d9-5c6faab33f16",
   "metadata": {},
   "source": [
    "__Opdracht 2:__  \n",
    "Maak een list comprehension die over het `alphabet` loopt.  \n",
    "Zorg ervoor dat de letters op een oneven nummer eruit gefilterd wordt.  \n",
    "\n",
    "voorbeeld uitkomst:   \n",
    "`['b', 'd', 'f', 'h', 'j', 'l', 'n', 'p', 'r', 't', 'v', 'x', 'z']`"
   ]
  },
  {
   "cell_type": "code",
   "execution_count": null,
   "id": "226a7a62-6b96-40fa-afd9-3e9ea2bbe61a",
   "metadata": {},
   "outputs": [],
   "source": []
  },
  {
   "cell_type": "markdown",
   "id": "ff2cf10b-e7c4-45e3-9223-bd432e6a93c1",
   "metadata": {},
   "source": [
    "---"
   ]
  },
  {
   "cell_type": "markdown",
   "id": "992e5951-b329-47c6-bd99-36094e2f433a",
   "metadata": {},
   "source": [
    "__Opdracht 3:__  \n",
    "Maak een list comprehension die over het `alphabet` loopt.  \n",
    "Zorg ervoor dat de letters op een oneven nummer een hoofdletter wordt.\n",
    "Alle letters op een even nummer moet een kleine letter worden.\n",
    "\n",
    "voorbeeld uitkomst:   \n",
    "`['A', 'b', 'C', 'd', 'E', 'f', 'G', 'h', 'I', 'j', 'K', 'l', 'M', 'n', 'O', 'p', 'Q', 'r', 'S', 't', 'U', 'v', 'W', 'x', 'Y', 'z']`"
   ]
  },
  {
   "cell_type": "code",
   "execution_count": null,
   "id": "549f3d29-e68d-4e1f-b2fb-fb7a0edaa678",
   "metadata": {},
   "outputs": [],
   "source": []
  },
  {
   "cell_type": "markdown",
   "id": "b525d69d-bdc4-4304-814e-5d74937899e8",
   "metadata": {},
   "source": [
    "---"
   ]
  },
  {
   "cell_type": "markdown",
   "id": "6e16d376-5e43-4026-a53f-93a81f3d5ed9",
   "metadata": {},
   "source": [
    "__Opdracht 4:__  \n",
    "Maak een dict comprehension waarbij de Key een hoodletter is en de Value een kleine letter.\n",
    "\n",
    "voorbeeld uikomst:  \n",
    "`{'A': 'a', 'B': 'b', 'C': 'c', 'D': 'd', 'E': 'e' ... 'V': 'v', 'W': 'w', 'X': 'x', 'Y': 'y', 'Z': 'z'}`"
   ]
  },
  {
   "cell_type": "code",
   "execution_count": null,
   "id": "28cc6350-a255-4425-867b-3bb22a4b9bf1",
   "metadata": {},
   "outputs": [],
   "source": []
  },
  {
   "cell_type": "markdown",
   "id": "4ebf00bf-4039-4575-93fc-6c55ae8f73c9",
   "metadata": {},
   "source": [
    "---"
   ]
  },
  {
   "cell_type": "markdown",
   "id": "304dd94e-5ad7-483f-8106-bc076ea27b4f",
   "metadata": {},
   "source": [
    "__Opdracht 5:__\n",
    "Maak een dict comprehension waarbij de Key een hoofdletter is en de Value een kleine letter.  \n",
    "Zorg ervoor dat de Value de letter is van een achterstevoren-alphabet is.\n",
    "\n",
    "Voorbeeld: A -> z, Z -> a\n",
    "\n",
    "abcdefghijklmnopqrstuvwxyz  \n",
    "zyxwvutsrqponmlkjihgfedcba\n",
    "\n",
    "voorbeeld uitkomst:  \n",
    "`{'A': 'z', 'B': 'y', 'C': 'x', 'D': 'w', 'E': 'v' ... 'V': 'e', 'W': 'd', 'X': 'c', 'Y': 'b', 'Z': 'a'}`"
   ]
  },
  {
   "cell_type": "code",
   "execution_count": null,
   "id": "a0e47625-2b2f-48c9-88a9-bff8e1ab6539",
   "metadata": {},
   "outputs": [],
   "source": []
  }
 ],
 "metadata": {
  "kernelspec": {
   "display_name": "Python 3 (ipykernel)",
   "language": "python",
   "name": "python3"
  },
  "language_info": {
   "codemirror_mode": {
    "name": "ipython",
    "version": 3
   },
   "file_extension": ".py",
   "mimetype": "text/x-python",
   "name": "python",
   "nbconvert_exporter": "python",
   "pygments_lexer": "ipython3",
   "version": "3.9.7"
  }
 },
 "nbformat": 4,
 "nbformat_minor": 5
}
