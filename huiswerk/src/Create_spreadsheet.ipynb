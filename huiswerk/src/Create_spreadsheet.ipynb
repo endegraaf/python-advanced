{
 "cells": [
  {
   "cell_type": "markdown",
   "id": "023ea922-ec26-41c4-af35-6f48ec6a2edd",
   "metadata": {},
   "source": [
    "# Creëer huiswerk\n",
    "Deze file creëert de excel file benodigd voor het Spreadsheets huiswerk."
   ]
  },
  {
   "cell_type": "code",
   "execution_count": 1,
   "id": "5f94912f-138b-47d7-a4f9-1b19986ed9e6",
   "metadata": {},
   "outputs": [
    {
     "name": "stdout",
     "output_type": "stream",
     "text": [
      "Requirement already satisfied: openpyxl in /home/username/Documents/Scripts/jupyter_lab_venv/lib/python3.9/site-packages (3.0.9)\n",
      "Requirement already satisfied: et-xmlfile in /home/username/Documents/Scripts/jupyter_lab_venv/lib/python3.9/site-packages (from openpyxl) (1.1.0)\n"
     ]
    }
   ],
   "source": [
    "!pip install --upgrade openpyxl"
   ]
  },
  {
   "cell_type": "markdown",
   "id": "18f561b6-a40e-4bb6-ad66-1f2abaa43086",
   "metadata": {},
   "source": [
    "De code volgende cell creëert de excel file met data en `print` de eerste 5 regels van de aangemaakte data."
   ]
  },
  {
   "cell_type": "code",
   "execution_count": 3,
   "id": "13fed710-a486-432c-965f-7909484d5db7",
   "metadata": {},
   "outputs": [
    {
     "name": "stdout",
     "output_type": "stream",
     "text": [
      "Datums\n",
      "2021-01-01\n",
      "2021-01-02\n",
      "2021-01-03\n",
      "2021-01-04\n"
     ]
    }
   ],
   "source": [
    "from pathlib import Path\n",
    "from datetime import datetime, timedelta\n",
    "from openpyxl import Workbook\n",
    "from openpyxl.utils import rows_from_range\n",
    "\n",
    "path = Path.cwd().joinpath('Datums.xlsx')\n",
    "workbook = Workbook()\n",
    "worksheet = workbook['Sheet']\n",
    "worksheet.title, worksheet['A1'].value = ('Datums',) * 2\n",
    "set(map(lambda _: setattr(worksheet[f'A{_ + 2}'], 'value', (datetime(datetime.now().year, 1, 1) + timedelta(days=_)).strftime('%Y-%m-%d')), range(0, (365 + 1))))\n",
    "workbook.save(path)\n",
    "set(map(print, (worksheet[_[0]].value for _ in rows_from_range('A1:A5'))))  # print first 5 values in the created excel file\n",
    "workbook.close()"
   ]
  }
 ],
 "metadata": {
  "kernelspec": {
   "display_name": "Python 3 (ipykernel)",
   "language": "python",
   "name": "python3"
  },
  "language_info": {
   "codemirror_mode": {
    "name": "ipython",
    "version": 3
   },
   "file_extension": ".py",
   "mimetype": "text/x-python",
   "name": "python",
   "nbconvert_exporter": "python",
   "pygments_lexer": "ipython3",
   "version": "3.9.7"
  }
 },
 "nbformat": 4,
 "nbformat_minor": 5
}
