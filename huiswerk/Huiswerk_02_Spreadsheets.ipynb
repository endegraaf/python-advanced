{
 "cells": [
  {
   "cell_type": "markdown",
   "id": "f7a881a9-47b7-4930-90f4-b74142574418",
   "metadata": {},
   "source": [
    "# Spreadsheets - Huiswerk"
   ]
  },
  {
   "cell_type": "markdown",
   "id": "7f1bb1f9-977c-4bc4-ad08-17b6559ad711",
   "metadata": {},
   "source": [
    "## De opdracht:\n",
    "\n",
    "In de `src` folder is er een `Datums.xlsx` file te vinden.  \n",
    "Deze Excel file bevat een kolom met datums.\n",
    "\n",
    "Gebruik Python en [openpyxl] om de cell groen te kleuren die de datum bevat van de dag waarop het Python script gedraaid wordt. \n",
    " \n",
    "[openpyxl]: https://openpyxl.readthedocs.io/en/stable/"
   ]
  },
  {
   "cell_type": "markdown",
   "id": "e16af2e3-de5e-4478-a6ea-a5c3ed183db5",
   "metadata": {},
   "source": [
    "Info:\n",
    "\n",
    "> File path naar de Excel file:  \n",
    " `python-advanced/huiswerk/src/Datums.xlsx`\n",
    " \n",
    "Voorbeeld uitkomst:\n",
    "> ![Excel snippet](../../python-advanced/img/excel_snippet.png \"Voorbeeld uitkomst\")\n",
    "\n",
    "[//]: # (https://strftime.org/)\n",
    "[//]: # (https://docs.python.org/3/library/datetime.html#strftime-strptime-behavior)\n",
    "[//]: # (https://www.color-hex.com/color/00ff00)\n",
    "[//]: # (https://openpyxl.readthedocs.io/en/stable/api/openpyxl.styles.fills.html#openpyxl.styles.fills.PatternFill)"
   ]
  }
 ],
 "metadata": {
  "kernelspec": {
   "display_name": "Python 3 (ipykernel)",
   "language": "python",
   "name": "python3"
  },
  "language_info": {
   "codemirror_mode": {
    "name": "ipython",
    "version": 3
   },
   "file_extension": ".py",
   "mimetype": "text/x-python",
   "name": "python",
   "nbconvert_exporter": "python",
   "pygments_lexer": "ipython3",
   "version": "3.9.7"
  }
 },
 "nbformat": 4,
 "nbformat_minor": 5
}
